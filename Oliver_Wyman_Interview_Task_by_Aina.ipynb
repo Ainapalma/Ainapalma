{
  "nbformat": 4,
  "nbformat_minor": 0,
  "metadata": {
    "colab": {
      "name": "Oliver Wyman Interview Task by Aina.ipynb",
      "provenance": [],
      "collapsed_sections": [],
      "toc_visible": true,
      "mount_file_id": "1X6hBxhpXox4oSAtfVGeMmC5oTkQNvZYT",
      "authorship_tag": "ABX9TyPisYX3hKqi+JqA2BjH64Ks",
      "include_colab_link": true
    },
    "kernelspec": {
      "display_name": "Python 3",
      "name": "python3"
    }
  },
  "cells": [
    {
      "cell_type": "markdown",
      "metadata": {
        "id": "view-in-github",
        "colab_type": "text"
      },
      "source": [
        "<a href=\"https://colab.research.google.com/github/Ainapalma/Ainapalma/blob/main/Oliver_Wyman_Interview_Task_by_Aina.ipynb\" target=\"_parent\"><img src=\"https://colab.research.google.com/assets/colab-badge.svg\" alt=\"Open In Colab\"/></a>"
      ]
    },
    {
      "cell_type": "markdown",
      "metadata": {
        "id": "-ggOFNy9zmMW"
      },
      "source": [
        "# Part 1 ‐ Exploratory data analysis\n",
        "\n"
      ]
    },
    {
      "cell_type": "code",
      "metadata": {
        "colab": {
          "base_uri": "https://localhost:8080/"
        },
        "id": "Ttq7dOPhw6Dy",
        "outputId": "9a051d6e-ae95-4957-bc8a-cf61d89edfed"
      },
      "source": [
        "from google.colab import drive\n",
        "drive.mount('/gdrive')"
      ],
      "execution_count": 185,
      "outputs": [
        {
          "output_type": "stream",
          "text": [
            "Drive already mounted at /gdrive; to attempt to forcibly remount, call drive.mount(\"/gdrive\", force_remount=True).\n"
          ],
          "name": "stdout"
        }
      ]
    },
    {
      "cell_type": "code",
      "metadata": {
        "colab": {
          "base_uri": "https://localhost:8080/"
        },
        "id": "60XC1G98uIJ-",
        "outputId": "718e9d22-5fbc-4000-e118-2a1351569e45"
      },
      "source": [
        "pip install transliterate"
      ],
      "execution_count": 186,
      "outputs": [
        {
          "output_type": "stream",
          "text": [
            "Requirement already satisfied: transliterate in /usr/local/lib/python3.7/dist-packages (1.10.2)\n",
            "Requirement already satisfied: six>=1.1.0 in /usr/local/lib/python3.7/dist-packages (from transliterate) (1.15.0)\n"
          ],
          "name": "stdout"
        }
      ]
    },
    {
      "cell_type": "code",
      "metadata": {
        "id": "BQGSyB1p1DPw"
      },
      "source": [
        "import pandas as pd\n",
        "import numpy as np\n",
        "\n",
        "import matplotlib.pyplot as plt\n",
        "import seaborn as sns\n",
        "sns.set_theme(style=\"ticks\", palette=\"pastel\")\n",
        "\n",
        "import transliterate\n",
        "from collections import Counter\n",
        "from imblearn.over_sampling import SMOTE\n",
        "from lightgbm import LGBMClassifier\n",
        "from xgboost import XGBClassifier\n",
        "\n",
        "from sklearn.preprocessing import StandardScaler\n",
        "from sklearn.model_selection import train_test_split\n",
        "from sklearn.model_selection import GridSearchCV\n",
        "from sklearn.linear_model import LogisticRegression\n",
        "from sklearn.ensemble import RandomForestClassifier\n",
        "from sklearn.metrics import roc_auc_score, roc_curve\n",
        "\n",
        "import os\n",
        "import io\n",
        "import glob\n",
        "import json\n",
        "import time\n",
        "import warnings\n",
        "warnings.filterwarnings('ignore')"
      ],
      "execution_count": 187,
      "outputs": []
    },
    {
      "cell_type": "code",
      "metadata": {
        "id": "lP9OEfrYX60_"
      },
      "source": [
        "os.chdir('/gdrive/MyDrive/datasets/')"
      ],
      "execution_count": 188,
      "outputs": []
    },
    {
      "cell_type": "code",
      "metadata": {
        "id": "4W1Z8koaJRJL",
        "colab": {
          "base_uri": "https://localhost:8080/",
          "height": 35
        },
        "outputId": "126db392-e8dd-42b0-b69e-b360b820fa04"
      },
      "source": [
        "!apt-get install p7zip-full\n",
        "!p7zip -d data.7z"
      ],
      "execution_count": 189,
      "outputs": [
        {
          "output_type": "execute_result",
          "data": {
            "application/vnd.google.colaboratory.intrinsic+json": {
              "type": "string"
            },
            "text/plain": [
              "'!apt-get install p7zip-full\\n!p7zip -d data.7z'"
            ]
          },
          "metadata": {
            "tags": []
          },
          "execution_count": 189
        }
      ]
    },
    {
      "cell_type": "code",
      "metadata": {
        "id": "7v2HrUjQ9neD"
      },
      "source": [
        "def first_and_last_dates(data):\n",
        "  print('Start:', data.sort_values().min())\n",
        "  print('End:', data.sort_values().max())"
      ],
      "execution_count": 190,
      "outputs": []
    },
    {
      "cell_type": "code",
      "metadata": {
        "id": "dXzimc8ROOom"
      },
      "source": [
        "def duplicates_and_null_values(df, duplicates, null_all, null_ratio):\n",
        "  if duplicates:\n",
        "    print('Number of duplicates:', df.duplicated().sum(), '\\n')\n",
        "\n",
        "  if null_all:\n",
        "    print('Percentage of missing data: {:.2f}'. format((((df.isnull().sum()).sum()) / np.product(df.shape)) * 100))\n",
        "\n",
        "  if null_ratio:\n",
        "    print('Ratio of null values:')\n",
        "    print((df.isnull().sum() / len(df)).sort_values(ascending=False) * 100)"
      ],
      "execution_count": 191,
      "outputs": []
    },
    {
      "cell_type": "code",
      "metadata": {
        "id": "o3cBK3fpINY_"
      },
      "source": [
        "def unique_values_info(df, col_list):\n",
        "  for col in col_list:\n",
        "    print('Feature:', col,\n",
        "          '\\n Total unique values:', df[col].nunique(),\n",
        "          '\\n Top 10:')\n",
        "    print(df[col].value_counts(dropna=False, ascending=False).head(10), '\\n')"
      ],
      "execution_count": 192,
      "outputs": []
    },
    {
      "cell_type": "code",
      "metadata": {
        "id": "pxPU3OYuUvs3"
      },
      "source": [
        "def drop_almost_null_columns(df):\n",
        "  cols = [col for col in df.columns \n",
        "          if df[col].isnull().sum() / len(df) > 0.75]\n",
        "  df.drop(cols, axis=1, inplace=True)"
      ],
      "execution_count": 193,
      "outputs": []
    },
    {
      "cell_type": "code",
      "metadata": {
        "id": "7Xk2qm-SU_Zk"
      },
      "source": [
        "def filling_missing_values(df):\n",
        "  for col in df.columns:\n",
        "    df[col] = df.groupby(['id'], sort=False)[col].apply(lambda x: x.ffill().bfill())"
      ],
      "execution_count": 194,
      "outputs": []
    },
    {
      "cell_type": "markdown",
      "metadata": {
        "id": "AdMgSppMdZdB"
      },
      "source": [
        "## 1.1. Qualitative data"
      ]
    },
    {
      "cell_type": "markdown",
      "metadata": {
        "id": "zatHtvOodkUy"
      },
      "source": [
        "- id: ID компании\n",
        "- activities: Основной, дополнительный виды деятельности\n",
        "- regInfo: Сведения о регистрации (Дата присвоения ОГРН; Наименование органа, зарегистрировавшего юрлицо до 1 июля 2002 года)\n",
        "- regBody: Сведения о постановке на учет в налоговом органе\n",
        "- statedCapital: Уставный капитал"
      ]
    },
    {
      "cell_type": "code",
      "metadata": {
        "colab": {
          "base_uri": "https://localhost:8080/"
        },
        "id": "cftXCwwChMfx",
        "outputId": "75244406-3a14-401a-f238-a3f75e57edc2"
      },
      "source": [
        "# loading qualitive data\n",
        "qual_files = glob.glob('qual/*.json')\n",
        "qual_files_dict = {v:k for v, k in enumerate(qual_files, 1)}\n",
        "qual_data = []\n",
        "\n",
        "len(qual_files_dict)"
      ],
      "execution_count": 195,
      "outputs": [
        {
          "output_type": "execute_result",
          "data": {
            "text/plain": [
              "3918"
            ]
          },
          "metadata": {
            "tags": []
          },
          "execution_count": 195
        }
      ]
    },
    {
      "cell_type": "code",
      "metadata": {
        "id": "se2VgLRMoXWF"
      },
      "source": [
        "for k,v in qual_files_dict.items():\n",
        "      if 1 <= k <= 3918:\n",
        "        with open(v, 'r', encoding='windows-1251') as d:\n",
        "            jdata = json.load(d)\n",
        "            if jdata:\n",
        "                qual_data.append(jdata)"
      ],
      "execution_count": 196,
      "outputs": []
    },
    {
      "cell_type": "code",
      "metadata": {
        "id": "ytX9wtZeiOOk",
        "colab": {
          "base_uri": "https://localhost:8080/",
          "height": 479
        },
        "outputId": "ac38fad6-1efa-40cc-9275-b803c3ae25b9"
      },
      "source": [
        "# head\n",
        "df_qual_full = pd.json_normalize(qual_data)\n",
        "df_qual_full.head()"
      ],
      "execution_count": 197,
      "outputs": [
        {
          "output_type": "execute_result",
          "data": {
            "text/html": [
              "<div>\n",
              "<style scoped>\n",
              "    .dataframe tbody tr th:only-of-type {\n",
              "        vertical-align: middle;\n",
              "    }\n",
              "\n",
              "    .dataframe tbody tr th {\n",
              "        vertical-align: top;\n",
              "    }\n",
              "\n",
              "    .dataframe thead th {\n",
              "        text-align: right;\n",
              "    }\n",
              "</style>\n",
              "<table border=\"1\" class=\"dataframe\">\n",
              "  <thead>\n",
              "    <tr style=\"text-align: right;\">\n",
              "      <th></th>\n",
              "      <th>id</th>\n",
              "      <th>activities.principalActivity.code</th>\n",
              "      <th>activities.principalActivity.text</th>\n",
              "      <th>activities.principalActivity.date</th>\n",
              "      <th>activities.complementaryActivities</th>\n",
              "      <th>activities.okvedVersion</th>\n",
              "      <th>regInfo.ogrnDate</th>\n",
              "      <th>regInfo.regName</th>\n",
              "      <th>regInfo.regNum</th>\n",
              "      <th>regBody.nalogCode</th>\n",
              "      <th>regBody.nalogName</th>\n",
              "      <th>regBody.nalogRegAddress</th>\n",
              "      <th>regBody.date</th>\n",
              "      <th>statedCapital.sum</th>\n",
              "      <th>statedCapital.date</th>\n",
              "    </tr>\n",
              "  </thead>\n",
              "  <tbody>\n",
              "    <tr>\n",
              "      <th>0</th>\n",
              "      <td>3267</td>\n",
              "      <td>10.5</td>\n",
              "      <td>Производство молочной продукции</td>\n",
              "      <td>2005-09-29</td>\n",
              "      <td>[{'code': '46.33.1', 'text': 'Торговля оптовая...</td>\n",
              "      <td>2</td>\n",
              "      <td>2002-09-13</td>\n",
              "      <td>Администрация муниципального образования 'Поро...</td>\n",
              "      <td>276</td>\n",
              "      <td>6501</td>\n",
              "      <td>Межрайонная инспекция Федеральной налоговой сл...</td>\n",
              "      <td>693020,Южно-Сахалинск г,Ленина ул,105,А</td>\n",
              "      <td>2015-10-30</td>\n",
              "      <td>1722000.0</td>\n",
              "      <td>2011-05-17</td>\n",
              "    </tr>\n",
              "    <tr>\n",
              "      <th>1</th>\n",
              "      <td>3271</td>\n",
              "      <td>46.73</td>\n",
              "      <td>Торговля оптовая лесоматериалами, строительным...</td>\n",
              "      <td>2007-10-15</td>\n",
              "      <td>[{'code': '47.52', 'text': 'Торговля розничная...</td>\n",
              "      <td>2</td>\n",
              "      <td>2007-10-15</td>\n",
              "      <td>NaN</td>\n",
              "      <td>NaN</td>\n",
              "      <td>5958</td>\n",
              "      <td>Межрайонная инспекция Федеральной налоговой сл...</td>\n",
              "      <td>614070,Пермский край,Пермь г,Гагарина б-р,44</td>\n",
              "      <td>2014-02-07</td>\n",
              "      <td>2010000.0</td>\n",
              "      <td>2008-08-06</td>\n",
              "    </tr>\n",
              "    <tr>\n",
              "      <th>2</th>\n",
              "      <td>3270</td>\n",
              "      <td>49.41.1</td>\n",
              "      <td>Перевозка грузов специализированными автотранс...</td>\n",
              "      <td>2009-09-17</td>\n",
              "      <td>[{'code': '09.10.9', 'text': 'Предоставление п...</td>\n",
              "      <td>2</td>\n",
              "      <td>2002-12-09</td>\n",
              "      <td>Администрация муниципального образования город...</td>\n",
              "      <td>95</td>\n",
              "      <td>8617</td>\n",
              "      <td>Инспекция Федеральной налоговой службы по Сург...</td>\n",
              "      <td>628408, Ханты-Мансийский - Югра АО, Сургут г, ...</td>\n",
              "      <td>2015-05-20</td>\n",
              "      <td>10000.0</td>\n",
              "      <td>2002-12-09</td>\n",
              "    </tr>\n",
              "    <tr>\n",
              "      <th>3</th>\n",
              "      <td>3268</td>\n",
              "      <td>46.1</td>\n",
              "      <td>Торговля оптовая за вознаграждение или на дого...</td>\n",
              "      <td>2013-01-30</td>\n",
              "      <td>[{'code': '46.4', 'text': 'Торговля оптовая не...</td>\n",
              "      <td>2</td>\n",
              "      <td>2013-01-30</td>\n",
              "      <td>NaN</td>\n",
              "      <td>NaN</td>\n",
              "      <td>7746</td>\n",
              "      <td>Межрайонная инспекция Федеральной налоговой сл...</td>\n",
              "      <td>125373, г.Москва, Походный проезд, домовладени...</td>\n",
              "      <td>2013-01-30</td>\n",
              "      <td>10000.0</td>\n",
              "      <td>2013-01-30</td>\n",
              "    </tr>\n",
              "    <tr>\n",
              "      <th>4</th>\n",
              "      <td>3275</td>\n",
              "      <td>68.20.2</td>\n",
              "      <td>Аренда и управление собственным или арендованн...</td>\n",
              "      <td>2011-08-16</td>\n",
              "      <td>[{'code': '68.32.2', 'text': 'Управление экспл...</td>\n",
              "      <td>2</td>\n",
              "      <td>2002-12-17</td>\n",
              "      <td>Регистрационная палата Администрации Санкт-Пет...</td>\n",
              "      <td>283427</td>\n",
              "      <td>7847</td>\n",
              "      <td>Межрайонная инспекция Федеральной налоговой сл...</td>\n",
              "      <td>191124, Санкт-Петербург г, Красного Текстильщи...</td>\n",
              "      <td>2005-04-29</td>\n",
              "      <td>46867.0</td>\n",
              "      <td>2008-12-11</td>\n",
              "    </tr>\n",
              "  </tbody>\n",
              "</table>\n",
              "</div>"
            ],
            "text/plain": [
              "     id activities.principalActivity.code  ... statedCapital.sum statedCapital.date\n",
              "0  3267                              10.5  ...         1722000.0         2011-05-17\n",
              "1  3271                             46.73  ...         2010000.0         2008-08-06\n",
              "2  3270                           49.41.1  ...           10000.0         2002-12-09\n",
              "3  3268                              46.1  ...           10000.0         2013-01-30\n",
              "4  3275                           68.20.2  ...           46867.0         2008-12-11\n",
              "\n",
              "[5 rows x 15 columns]"
            ]
          },
          "metadata": {
            "tags": []
          },
          "execution_count": 197
        }
      ]
    },
    {
      "cell_type": "code",
      "metadata": {
        "id": "5V5l1yyobPM-",
        "colab": {
          "base_uri": "https://localhost:8080/"
        },
        "outputId": "74a64757-1472-4197-ecd8-df6858f775f9"
      },
      "source": [
        "# converting columns with dates to datetime\n",
        "for col in ['regInfo.ogrnDate', 'regBody.date', 'statedCapital.date']:\n",
        "  df_qual_full[col] = pd.to_datetime(df_qual_full[col], format='%Y-%m-%d')\n",
        "  print('Name:', col)\n",
        "  first_and_last_dates(df_qual_full[col])\n",
        "  print('\\n')"
      ],
      "execution_count": 198,
      "outputs": [
        {
          "output_type": "stream",
          "text": [
            "Name: regInfo.ogrnDate\n",
            "Start: 2002-07-05 00:00:00\n",
            "End: 2019-03-15 00:00:00\n",
            "\n",
            "\n",
            "Name: regBody.date\n",
            "Start: 2002-07-16 00:00:00\n",
            "End: 2021-01-22 00:00:00\n",
            "\n",
            "\n",
            "Name: statedCapital.date\n",
            "Start: 2002-07-05 00:00:00\n",
            "End: 2021-01-29 00:00:00\n",
            "\n",
            "\n"
          ],
          "name": "stdout"
        }
      ]
    },
    {
      "cell_type": "code",
      "metadata": {
        "id": "HA79z-zlKJY0",
        "colab": {
          "base_uri": "https://localhost:8080/",
          "height": 292
        },
        "outputId": "8e32c47d-3896-4f0e-b035-0369ff6f5109"
      },
      "source": [
        "# copy of relevant data\n",
        "df_qual = df_qual_full[['id', \n",
        "                        'activities.principalActivity.code', 'activities.principalActivity.text', \n",
        "                        'regInfo.ogrnDate', 'regBody.nalogCode', 'regBody.date',\n",
        "                        'statedCapital.sum', 'statedCapital.date']].copy()\n",
        "df_qual['regInfo.ogrnYear'] = pd.DatetimeIndex(df_qual['regInfo.ogrnDate']).year\n",
        "df_qual.head()"
      ],
      "execution_count": 199,
      "outputs": [
        {
          "output_type": "execute_result",
          "data": {
            "text/html": [
              "<div>\n",
              "<style scoped>\n",
              "    .dataframe tbody tr th:only-of-type {\n",
              "        vertical-align: middle;\n",
              "    }\n",
              "\n",
              "    .dataframe tbody tr th {\n",
              "        vertical-align: top;\n",
              "    }\n",
              "\n",
              "    .dataframe thead th {\n",
              "        text-align: right;\n",
              "    }\n",
              "</style>\n",
              "<table border=\"1\" class=\"dataframe\">\n",
              "  <thead>\n",
              "    <tr style=\"text-align: right;\">\n",
              "      <th></th>\n",
              "      <th>id</th>\n",
              "      <th>activities.principalActivity.code</th>\n",
              "      <th>activities.principalActivity.text</th>\n",
              "      <th>regInfo.ogrnDate</th>\n",
              "      <th>regBody.nalogCode</th>\n",
              "      <th>regBody.date</th>\n",
              "      <th>statedCapital.sum</th>\n",
              "      <th>statedCapital.date</th>\n",
              "      <th>regInfo.ogrnYear</th>\n",
              "    </tr>\n",
              "  </thead>\n",
              "  <tbody>\n",
              "    <tr>\n",
              "      <th>0</th>\n",
              "      <td>3267</td>\n",
              "      <td>10.5</td>\n",
              "      <td>Производство молочной продукции</td>\n",
              "      <td>2002-09-13</td>\n",
              "      <td>6501</td>\n",
              "      <td>2015-10-30</td>\n",
              "      <td>1722000.0</td>\n",
              "      <td>2011-05-17</td>\n",
              "      <td>2002</td>\n",
              "    </tr>\n",
              "    <tr>\n",
              "      <th>1</th>\n",
              "      <td>3271</td>\n",
              "      <td>46.73</td>\n",
              "      <td>Торговля оптовая лесоматериалами, строительным...</td>\n",
              "      <td>2007-10-15</td>\n",
              "      <td>5958</td>\n",
              "      <td>2014-02-07</td>\n",
              "      <td>2010000.0</td>\n",
              "      <td>2008-08-06</td>\n",
              "      <td>2007</td>\n",
              "    </tr>\n",
              "    <tr>\n",
              "      <th>2</th>\n",
              "      <td>3270</td>\n",
              "      <td>49.41.1</td>\n",
              "      <td>Перевозка грузов специализированными автотранс...</td>\n",
              "      <td>2002-12-09</td>\n",
              "      <td>8617</td>\n",
              "      <td>2015-05-20</td>\n",
              "      <td>10000.0</td>\n",
              "      <td>2002-12-09</td>\n",
              "      <td>2002</td>\n",
              "    </tr>\n",
              "    <tr>\n",
              "      <th>3</th>\n",
              "      <td>3268</td>\n",
              "      <td>46.1</td>\n",
              "      <td>Торговля оптовая за вознаграждение или на дого...</td>\n",
              "      <td>2013-01-30</td>\n",
              "      <td>7746</td>\n",
              "      <td>2013-01-30</td>\n",
              "      <td>10000.0</td>\n",
              "      <td>2013-01-30</td>\n",
              "      <td>2013</td>\n",
              "    </tr>\n",
              "    <tr>\n",
              "      <th>4</th>\n",
              "      <td>3275</td>\n",
              "      <td>68.20.2</td>\n",
              "      <td>Аренда и управление собственным или арендованн...</td>\n",
              "      <td>2002-12-17</td>\n",
              "      <td>7847</td>\n",
              "      <td>2005-04-29</td>\n",
              "      <td>46867.0</td>\n",
              "      <td>2008-12-11</td>\n",
              "      <td>2002</td>\n",
              "    </tr>\n",
              "  </tbody>\n",
              "</table>\n",
              "</div>"
            ],
            "text/plain": [
              "     id activities.principalActivity.code  ... statedCapital.date regInfo.ogrnYear\n",
              "0  3267                              10.5  ...         2011-05-17             2002\n",
              "1  3271                             46.73  ...         2008-08-06             2007\n",
              "2  3270                           49.41.1  ...         2002-12-09             2002\n",
              "3  3268                              46.1  ...         2013-01-30             2013\n",
              "4  3275                           68.20.2  ...         2008-12-11             2002\n",
              "\n",
              "[5 rows x 9 columns]"
            ]
          },
          "metadata": {
            "tags": []
          },
          "execution_count": 199
        }
      ]
    },
    {
      "cell_type": "code",
      "metadata": {
        "id": "krC6r6zwa7Gc",
        "colab": {
          "base_uri": "https://localhost:8080/"
        },
        "outputId": "aebc7014-e559-436d-d2f5-6610d79f73ba"
      },
      "source": [
        "# main information\n",
        "df_qual.info()"
      ],
      "execution_count": 200,
      "outputs": [
        {
          "output_type": "stream",
          "text": [
            "<class 'pandas.core.frame.DataFrame'>\n",
            "RangeIndex: 3918 entries, 0 to 3917\n",
            "Data columns (total 9 columns):\n",
            " #   Column                             Non-Null Count  Dtype         \n",
            "---  ------                             --------------  -----         \n",
            " 0   id                                 3918 non-null   int64         \n",
            " 1   activities.principalActivity.code  3917 non-null   object        \n",
            " 2   activities.principalActivity.text  3917 non-null   object        \n",
            " 3   regInfo.ogrnDate                   3918 non-null   datetime64[ns]\n",
            " 4   regBody.nalogCode                  3918 non-null   object        \n",
            " 5   regBody.date                       3918 non-null   datetime64[ns]\n",
            " 6   statedCapital.sum                  3766 non-null   float64       \n",
            " 7   statedCapital.date                 3766 non-null   datetime64[ns]\n",
            " 8   regInfo.ogrnYear                   3918 non-null   int64         \n",
            "dtypes: datetime64[ns](3), float64(1), int64(2), object(3)\n",
            "memory usage: 275.6+ KB\n"
          ],
          "name": "stdout"
        }
      ]
    },
    {
      "cell_type": "code",
      "metadata": {
        "id": "z5cyo5K7Omkk",
        "colab": {
          "base_uri": "https://localhost:8080/"
        },
        "outputId": "b1378b8c-739c-4bb9-801b-05c6dcd8a6ad"
      },
      "source": [
        "duplicates_and_null_values(df_qual, 1, 1, 1)"
      ],
      "execution_count": 201,
      "outputs": [
        {
          "output_type": "stream",
          "text": [
            "Number of duplicates: 0 \n",
            "\n",
            "Percentage of missing data: 0.87\n",
            "Ratio of null values:\n",
            "statedCapital.date                   3.879530\n",
            "statedCapital.sum                    3.879530\n",
            "activities.principalActivity.text    0.025523\n",
            "activities.principalActivity.code    0.025523\n",
            "regInfo.ogrnYear                     0.000000\n",
            "regBody.date                         0.000000\n",
            "regBody.nalogCode                    0.000000\n",
            "regInfo.ogrnDate                     0.000000\n",
            "id                                   0.000000\n",
            "dtype: float64\n"
          ],
          "name": "stdout"
        }
      ]
    },
    {
      "cell_type": "code",
      "metadata": {
        "id": "OjC0KnDGa4ju",
        "colab": {
          "base_uri": "https://localhost:8080/",
          "height": 292
        },
        "outputId": "a7022800-ccfb-40f2-ae19-5ec8b01f2958"
      },
      "source": [
        "# companies with missing capital value\n",
        "missed_capital_value = df_qual[df_qual['statedCapital.sum'].isnull()]\n",
        "missed_capital_value.head(5)"
      ],
      "execution_count": 202,
      "outputs": [
        {
          "output_type": "execute_result",
          "data": {
            "text/html": [
              "<div>\n",
              "<style scoped>\n",
              "    .dataframe tbody tr th:only-of-type {\n",
              "        vertical-align: middle;\n",
              "    }\n",
              "\n",
              "    .dataframe tbody tr th {\n",
              "        vertical-align: top;\n",
              "    }\n",
              "\n",
              "    .dataframe thead th {\n",
              "        text-align: right;\n",
              "    }\n",
              "</style>\n",
              "<table border=\"1\" class=\"dataframe\">\n",
              "  <thead>\n",
              "    <tr style=\"text-align: right;\">\n",
              "      <th></th>\n",
              "      <th>id</th>\n",
              "      <th>activities.principalActivity.code</th>\n",
              "      <th>activities.principalActivity.text</th>\n",
              "      <th>regInfo.ogrnDate</th>\n",
              "      <th>regBody.nalogCode</th>\n",
              "      <th>regBody.date</th>\n",
              "      <th>statedCapital.sum</th>\n",
              "      <th>statedCapital.date</th>\n",
              "      <th>regInfo.ogrnYear</th>\n",
              "    </tr>\n",
              "  </thead>\n",
              "  <tbody>\n",
              "    <tr>\n",
              "      <th>60</th>\n",
              "      <td>3346</td>\n",
              "      <td>52.10</td>\n",
              "      <td>Деятельность по складированию и хранению</td>\n",
              "      <td>2002-12-12</td>\n",
              "      <td>5476</td>\n",
              "      <td>2010-05-06</td>\n",
              "      <td>NaN</td>\n",
              "      <td>NaT</td>\n",
              "      <td>2002</td>\n",
              "    </tr>\n",
              "    <tr>\n",
              "      <th>72</th>\n",
              "      <td>3349</td>\n",
              "      <td>02.20</td>\n",
              "      <td>Лесозаготовки</td>\n",
              "      <td>2002-08-23</td>\n",
              "      <td>1001</td>\n",
              "      <td>2015-03-31</td>\n",
              "      <td>NaN</td>\n",
              "      <td>NaT</td>\n",
              "      <td>2002</td>\n",
              "    </tr>\n",
              "    <tr>\n",
              "      <th>82</th>\n",
              "      <td>3353</td>\n",
              "      <td>23.61</td>\n",
              "      <td>Производство изделий из бетона для использован...</td>\n",
              "      <td>2002-09-20</td>\n",
              "      <td>6451</td>\n",
              "      <td>2002-09-20</td>\n",
              "      <td>NaN</td>\n",
              "      <td>NaT</td>\n",
              "      <td>2002</td>\n",
              "    </tr>\n",
              "    <tr>\n",
              "      <th>141</th>\n",
              "      <td>3431</td>\n",
              "      <td>45.11.2</td>\n",
              "      <td>Торговля розничная легковыми автомобилями и ле...</td>\n",
              "      <td>2002-12-07</td>\n",
              "      <td>1690</td>\n",
              "      <td>2016-04-30</td>\n",
              "      <td>NaN</td>\n",
              "      <td>NaT</td>\n",
              "      <td>2002</td>\n",
              "    </tr>\n",
              "    <tr>\n",
              "      <th>161</th>\n",
              "      <td>3445</td>\n",
              "      <td>47.30</td>\n",
              "      <td>Торговля розничная моторным топливом в специал...</td>\n",
              "      <td>2002-09-02</td>\n",
              "      <td>6027</td>\n",
              "      <td>2015-04-14</td>\n",
              "      <td>NaN</td>\n",
              "      <td>NaT</td>\n",
              "      <td>2002</td>\n",
              "    </tr>\n",
              "  </tbody>\n",
              "</table>\n",
              "</div>"
            ],
            "text/plain": [
              "       id  ... regInfo.ogrnYear\n",
              "60   3346  ...             2002\n",
              "72   3349  ...             2002\n",
              "82   3353  ...             2002\n",
              "141  3431  ...             2002\n",
              "161  3445  ...             2002\n",
              "\n",
              "[5 rows x 9 columns]"
            ]
          },
          "metadata": {
            "tags": []
          },
          "execution_count": 202
        }
      ]
    },
    {
      "cell_type": "code",
      "metadata": {
        "id": "zwbUpCyD67Ym",
        "colab": {
          "base_uri": "https://localhost:8080/"
        },
        "outputId": "031dbbe9-9e94-4513-e8ec-b927f1e8c781"
      },
      "source": [
        "# mostly registered in 2002-2003\n",
        "missed_capital_value['regInfo.ogrnYear'].value_counts()"
      ],
      "execution_count": 203,
      "outputs": [
        {
          "output_type": "execute_result",
          "data": {
            "text/plain": [
              "2002    128\n",
              "2003     23\n",
              "2013      1\n",
              "Name: regInfo.ogrnYear, dtype: int64"
            ]
          },
          "metadata": {
            "tags": []
          },
          "execution_count": 203
        }
      ]
    },
    {
      "cell_type": "code",
      "metadata": {
        "id": "RcEjK2KFIdug",
        "colab": {
          "base_uri": "https://localhost:8080/"
        },
        "outputId": "58b110ce-9d37-4569-9789-780836039c23"
      },
      "source": [
        "unique_values_info(df_qual, ['activities.principalActivity.text', 'activities.principalActivity.code', 'regBody.nalogCode'])"
      ],
      "execution_count": 204,
      "outputs": [
        {
          "output_type": "stream",
          "text": [
            "Feature: activities.principalActivity.text \n",
            " Total unique values: 712 \n",
            " Top 10:\n",
            "Строительство жилых и нежилых зданий                                                                 285\n",
            "Торговля оптовая неспециализированная                                                                192\n",
            "Торговля оптовая лесоматериалами, строительными материалами и санитарно-техническим оборудованием     78\n",
            "Аренда и управление собственным или арендованным нежилым недвижимым имуществом                        70\n",
            "Торговля оптовая твердым, жидким и газообразным топливом и подобными продуктами                       64\n",
            "Аренда и управление собственным или арендованным недвижимым имуществом                                57\n",
            "Деятельность вспомогательная прочая, связанная с перевозками                                          56\n",
            "Торговля оптовая прочими строительными материалами и изделиями                                        53\n",
            "Торговля оптовая фармацевтической продукцией                                                          51\n",
            "Торговля розничная лекарственными средствами в специализированных магазинах (аптеках)                 51\n",
            "Name: activities.principalActivity.text, dtype: int64 \n",
            "\n",
            "Feature: activities.principalActivity.code \n",
            " Total unique values: 731 \n",
            " Top 10:\n",
            "41.20      206\n",
            "46.90      173\n",
            "41.2        79\n",
            "46.73       78\n",
            "68.20.2     70\n",
            "46.71       64\n",
            "52.29       56\n",
            "46.73.6     53\n",
            "47.73       51\n",
            "68.20       48\n",
            "Name: activities.principalActivity.code, dtype: int64 \n",
            "\n",
            "Feature: regBody.nalogCode \n",
            " Total unique values: 82 \n",
            " Top 10:\n",
            "7746    917\n",
            "7847    310\n",
            "5081    237\n",
            "6658    144\n",
            "2375    138\n",
            "5476    118\n",
            "6196    101\n",
            "7456     87\n",
            "6313     78\n",
            "1690     74\n",
            "Name: regBody.nalogCode, dtype: int64 \n",
            "\n"
          ],
          "name": "stdout"
        }
      ]
    },
    {
      "cell_type": "markdown",
      "metadata": {
        "id": "Iv7iCuehvdv6"
      },
      "source": [
        "- There are data on 3 918 firms, of which the majority are in the real estate sector: ~ 40% of construction, about the same number of companies engaged in the wholesale of building materials and rent. Other leading areas - auto industry and pharmaceuticals\n",
        "- Legal entities were registered in the period from 2002 to 2019\n",
        "- Approximately a quarter (917) are registered in Moscow and 230 in the Moscow region, in St. Petersburg 310"
      ]
    },
    {
      "cell_type": "markdown",
      "metadata": {
        "id": "4SFQoqw1dwRb"
      },
      "source": [
        "## 1.2. Financial data"
      ]
    },
    {
      "cell_type": "markdown",
      "metadata": {
        "id": "RDpbQj47dynH"
      },
      "source": [
        "- id: ID компании\n",
        "- buhForms: Бухгалтерские формы\n",
        " - year: Год отчетности\n",
        " - organizationType: Размер организации\n",
        " - form1: Форма 1 бухгалтерской отчетности\n",
        " - form2: Форма 2 бухгалтерской отчетности\n",
        "   - code: РСБУ-код\n",
        "   - name: Расшифровка РСБУ-кода\n",
        "   - startValue: Значение на начало года\n",
        "   - endValue: Значение на конец года"
      ]
    },
    {
      "cell_type": "code",
      "metadata": {
        "id": "seXCARpAUeiK",
        "colab": {
          "base_uri": "https://localhost:8080/"
        },
        "outputId": "c69f04ad-b5e1-4b67-abc0-c3b01d18b435"
      },
      "source": [
        "# loading financial data\n",
        "fin_files = glob.glob('fin/*.json')\n",
        "fin_files_dict = {v:k for v, k in enumerate(fin_files, 1)}\n",
        "fin_data = []\n",
        "\n",
        "len(fin_files_dict)"
      ],
      "execution_count": 205,
      "outputs": [
        {
          "output_type": "execute_result",
          "data": {
            "text/plain": [
              "3918"
            ]
          },
          "metadata": {
            "tags": []
          },
          "execution_count": 205
        }
      ]
    },
    {
      "cell_type": "code",
      "metadata": {
        "id": "-Es6qKWzoFll"
      },
      "source": [
        "for k,v in fin_files_dict.items():\n",
        "      if 1 <= k <= 3918:\n",
        "        with open(v, 'r', encoding='windows-1251') as d:\n",
        "            jdata = json.load(d)\n",
        "            if jdata:\n",
        "                fin_data.append(jdata)"
      ],
      "execution_count": 206,
      "outputs": []
    },
    {
      "cell_type": "code",
      "metadata": {
        "id": "cs2hM4lORQwX",
        "colab": {
          "base_uri": "https://localhost:8080/",
          "height": 289
        },
        "outputId": "20df2ae8-0b37-433f-c5fd-665d4e07b760"
      },
      "source": [
        "df_fin_full = pd.json_normalize(fin_data, ['buhForms'], meta = ['id'])\n",
        "df_fin_full.head()"
      ],
      "execution_count": 207,
      "outputs": [
        {
          "output_type": "execute_result",
          "data": {
            "text/html": [
              "<div>\n",
              "<style scoped>\n",
              "    .dataframe tbody tr th:only-of-type {\n",
              "        vertical-align: middle;\n",
              "    }\n",
              "\n",
              "    .dataframe tbody tr th {\n",
              "        vertical-align: top;\n",
              "    }\n",
              "\n",
              "    .dataframe thead th {\n",
              "        text-align: right;\n",
              "    }\n",
              "</style>\n",
              "<table border=\"1\" class=\"dataframe\">\n",
              "  <thead>\n",
              "    <tr style=\"text-align: right;\">\n",
              "      <th></th>\n",
              "      <th>year</th>\n",
              "      <th>organizationType</th>\n",
              "      <th>form1</th>\n",
              "      <th>form2</th>\n",
              "      <th>id</th>\n",
              "    </tr>\n",
              "  </thead>\n",
              "  <tbody>\n",
              "    <tr>\n",
              "      <th>0</th>\n",
              "      <td>2012</td>\n",
              "      <td>Small</td>\n",
              "      <td>[{'code': 1110, 'name': 'Нематериальные, финан...</td>\n",
              "      <td>[{'code': 2110, 'name': 'Выручка', 'startValue...</td>\n",
              "      <td>3267</td>\n",
              "    </tr>\n",
              "    <tr>\n",
              "      <th>1</th>\n",
              "      <td>2013</td>\n",
              "      <td>Large</td>\n",
              "      <td>[{'code': 1100, 'name': 'Итого', 'startValue':...</td>\n",
              "      <td>[{'code': 2100, 'name': 'Валовая прибыль (убыт...</td>\n",
              "      <td>3267</td>\n",
              "    </tr>\n",
              "    <tr>\n",
              "      <th>2</th>\n",
              "      <td>2014</td>\n",
              "      <td>Large</td>\n",
              "      <td>[{'code': 1100, 'name': 'Итого', 'startValue':...</td>\n",
              "      <td>[{'code': 2100, 'name': 'Валовая прибыль (убыт...</td>\n",
              "      <td>3267</td>\n",
              "    </tr>\n",
              "    <tr>\n",
              "      <th>3</th>\n",
              "      <td>2015</td>\n",
              "      <td>Large</td>\n",
              "      <td>[{'code': 1100, 'name': 'Итого', 'startValue':...</td>\n",
              "      <td>[{'code': 2100, 'name': 'Валовая прибыль (убыт...</td>\n",
              "      <td>3267</td>\n",
              "    </tr>\n",
              "    <tr>\n",
              "      <th>4</th>\n",
              "      <td>2016</td>\n",
              "      <td>Large</td>\n",
              "      <td>[{'code': 1100, 'name': 'Итого', 'startValue':...</td>\n",
              "      <td>[{'code': 2100, 'name': 'Валовая прибыль (убыт...</td>\n",
              "      <td>3267</td>\n",
              "    </tr>\n",
              "  </tbody>\n",
              "</table>\n",
              "</div>"
            ],
            "text/plain": [
              "   year  ...    id\n",
              "0  2012  ...  3267\n",
              "1  2013  ...  3267\n",
              "2  2014  ...  3267\n",
              "3  2015  ...  3267\n",
              "4  2016  ...  3267\n",
              "\n",
              "[5 rows x 5 columns]"
            ]
          },
          "metadata": {
            "tags": []
          },
          "execution_count": 207
        }
      ]
    },
    {
      "cell_type": "code",
      "metadata": {
        "id": "PU2_OOYY113b",
        "colab": {
          "base_uri": "https://localhost:8080/"
        },
        "outputId": "69a5bd55-99a4-4952-d2bc-26902b1fe13a"
      },
      "source": [
        "first_and_last_dates(df_fin_full['year'])"
      ],
      "execution_count": 208,
      "outputs": [
        {
          "output_type": "stream",
          "text": [
            "Start: 2012\n",
            "End: 2019\n"
          ],
          "name": "stdout"
        }
      ]
    },
    {
      "cell_type": "code",
      "metadata": {
        "id": "Kh02L8W8YBR4",
        "colab": {
          "base_uri": "https://localhost:8080/"
        },
        "outputId": "907ca57a-e629-43e8-f678-9744dc885043"
      },
      "source": [
        "# copy of organization info\n",
        "df_org_info = df_fin_full[['id', 'year', 'organizationType']].copy()\n",
        "df_org_info.info()"
      ],
      "execution_count": 209,
      "outputs": [
        {
          "output_type": "stream",
          "text": [
            "<class 'pandas.core.frame.DataFrame'>\n",
            "RangeIndex: 25016 entries, 0 to 25015\n",
            "Data columns (total 3 columns):\n",
            " #   Column            Non-Null Count  Dtype \n",
            "---  ------            --------------  ----- \n",
            " 0   id                25016 non-null  object\n",
            " 1   year              25016 non-null  int64 \n",
            " 2   organizationType  25016 non-null  object\n",
            "dtypes: int64(1), object(2)\n",
            "memory usage: 586.4+ KB\n"
          ],
          "name": "stdout"
        }
      ]
    },
    {
      "cell_type": "code",
      "metadata": {
        "id": "Ru2QXz0j0id1",
        "colab": {
          "base_uri": "https://localhost:8080/",
          "height": 204
        },
        "outputId": "6b21def9-f2d7-46d7-c3fa-8da0f82cccb3"
      },
      "source": [
        "# pivot table with organization info\n",
        "df_org_info_by_id_last_year = df_org_info.pivot_table(index = ['id'],\n",
        "                                                 aggfunc = {'year': ['count', 'max'],\n",
        "                                                            'organizationType' : 'max'}).reset_index()\n",
        "df_org_info_by_id_last_year.columns = ['id', 'organizationType', 'num_of_forms', 'last_year']\n",
        "df_org_info_by_id_last_year.head()"
      ],
      "execution_count": 210,
      "outputs": [
        {
          "output_type": "execute_result",
          "data": {
            "text/html": [
              "<div>\n",
              "<style scoped>\n",
              "    .dataframe tbody tr th:only-of-type {\n",
              "        vertical-align: middle;\n",
              "    }\n",
              "\n",
              "    .dataframe tbody tr th {\n",
              "        vertical-align: top;\n",
              "    }\n",
              "\n",
              "    .dataframe thead th {\n",
              "        text-align: right;\n",
              "    }\n",
              "</style>\n",
              "<table border=\"1\" class=\"dataframe\">\n",
              "  <thead>\n",
              "    <tr style=\"text-align: right;\">\n",
              "      <th></th>\n",
              "      <th>id</th>\n",
              "      <th>organizationType</th>\n",
              "      <th>num_of_forms</th>\n",
              "      <th>last_year</th>\n",
              "    </tr>\n",
              "  </thead>\n",
              "  <tbody>\n",
              "    <tr>\n",
              "      <th>0</th>\n",
              "      <td>0</td>\n",
              "      <td>Large</td>\n",
              "      <td>3</td>\n",
              "      <td>2014</td>\n",
              "    </tr>\n",
              "    <tr>\n",
              "      <th>1</th>\n",
              "      <td>1</td>\n",
              "      <td>Small</td>\n",
              "      <td>7</td>\n",
              "      <td>2019</td>\n",
              "    </tr>\n",
              "    <tr>\n",
              "      <th>2</th>\n",
              "      <td>2</td>\n",
              "      <td>Small</td>\n",
              "      <td>5</td>\n",
              "      <td>2016</td>\n",
              "    </tr>\n",
              "    <tr>\n",
              "      <th>3</th>\n",
              "      <td>3</td>\n",
              "      <td>Small</td>\n",
              "      <td>8</td>\n",
              "      <td>2019</td>\n",
              "    </tr>\n",
              "    <tr>\n",
              "      <th>4</th>\n",
              "      <td>4</td>\n",
              "      <td>Large</td>\n",
              "      <td>8</td>\n",
              "      <td>2019</td>\n",
              "    </tr>\n",
              "  </tbody>\n",
              "</table>\n",
              "</div>"
            ],
            "text/plain": [
              "   id organizationType  num_of_forms  last_year\n",
              "0   0            Large             3       2014\n",
              "1   1            Small             7       2019\n",
              "2   2            Small             5       2016\n",
              "3   3            Small             8       2019\n",
              "4   4            Large             8       2019"
            ]
          },
          "metadata": {
            "tags": []
          },
          "execution_count": 210
        }
      ]
    },
    {
      "cell_type": "markdown",
      "metadata": {
        "id": "SezIx4fJmRnO"
      },
      "source": [
        "### 1.2.1. Form 1"
      ]
    },
    {
      "cell_type": "code",
      "metadata": {
        "id": "Qz-IvU5CJgSZ",
        "colab": {
          "base_uri": "https://localhost:8080/",
          "height": 717
        },
        "outputId": "34a9380e-0076-43f0-9182-b2305f738943"
      },
      "source": [
        "df_form_1 = pd.io.json.json_normalize(fin_data, ['buhForms', 'form1'], \n",
        "                                      meta=['id', ['buhForms', 'organizationType'], ['buhForms', 'year']],\n",
        "                                      errors='ignore', record_prefix='form1_')\n",
        "\n",
        "df_form_1['form1_annualShift'] = df_form_1['form1_endValue'] - df_form_1['form1_startValue']\n",
        "\n",
        "df_form_1.info()\n",
        "df_form_1.head()"
      ],
      "execution_count": 211,
      "outputs": [
        {
          "output_type": "stream",
          "text": [
            "<class 'pandas.core.frame.DataFrame'>\n",
            "RangeIndex: 800263 entries, 0 to 800262\n",
            "Data columns (total 8 columns):\n",
            " #   Column                     Non-Null Count   Dtype  \n",
            "---  ------                     --------------   -----  \n",
            " 0   form1_code                 800263 non-null  int64  \n",
            " 1   form1_name                 800263 non-null  object \n",
            " 2   form1_startValue           796974 non-null  float64\n",
            " 3   form1_endValue             800248 non-null  float64\n",
            " 4   id                         800263 non-null  object \n",
            " 5   buhForms.organizationType  800263 non-null  object \n",
            " 6   buhForms.year              800263 non-null  object \n",
            " 7   form1_annualShift          796959 non-null  float64\n",
            "dtypes: float64(3), int64(1), object(4)\n",
            "memory usage: 48.8+ MB\n"
          ],
          "name": "stdout"
        },
        {
          "output_type": "execute_result",
          "data": {
            "text/html": [
              "<div>\n",
              "<style scoped>\n",
              "    .dataframe tbody tr th:only-of-type {\n",
              "        vertical-align: middle;\n",
              "    }\n",
              "\n",
              "    .dataframe tbody tr th {\n",
              "        vertical-align: top;\n",
              "    }\n",
              "\n",
              "    .dataframe thead th {\n",
              "        text-align: right;\n",
              "    }\n",
              "</style>\n",
              "<table border=\"1\" class=\"dataframe\">\n",
              "  <thead>\n",
              "    <tr style=\"text-align: right;\">\n",
              "      <th></th>\n",
              "      <th>form1_code</th>\n",
              "      <th>form1_name</th>\n",
              "      <th>form1_startValue</th>\n",
              "      <th>form1_endValue</th>\n",
              "      <th>id</th>\n",
              "      <th>buhForms.organizationType</th>\n",
              "      <th>buhForms.year</th>\n",
              "      <th>form1_annualShift</th>\n",
              "    </tr>\n",
              "  </thead>\n",
              "  <tbody>\n",
              "    <tr>\n",
              "      <th>0</th>\n",
              "      <td>1110</td>\n",
              "      <td>Нематериальные, финансовые и другие внеоборотн...</td>\n",
              "      <td>0.0</td>\n",
              "      <td>0.0</td>\n",
              "      <td>3267</td>\n",
              "      <td>Small</td>\n",
              "      <td>2012</td>\n",
              "      <td>0.0</td>\n",
              "    </tr>\n",
              "    <tr>\n",
              "      <th>1</th>\n",
              "      <td>1120</td>\n",
              "      <td>Нематериальные, финансовые и другие внеоборотн...</td>\n",
              "      <td>0.0</td>\n",
              "      <td>0.0</td>\n",
              "      <td>3267</td>\n",
              "      <td>Small</td>\n",
              "      <td>2012</td>\n",
              "      <td>0.0</td>\n",
              "    </tr>\n",
              "    <tr>\n",
              "      <th>2</th>\n",
              "      <td>1130</td>\n",
              "      <td>Нематериальные, финансовые и другие внеоборотн...</td>\n",
              "      <td>0.0</td>\n",
              "      <td>0.0</td>\n",
              "      <td>3267</td>\n",
              "      <td>Small</td>\n",
              "      <td>2012</td>\n",
              "      <td>0.0</td>\n",
              "    </tr>\n",
              "    <tr>\n",
              "      <th>3</th>\n",
              "      <td>1140</td>\n",
              "      <td>Нематериальные, финансовые и другие внеоборотн...</td>\n",
              "      <td>0.0</td>\n",
              "      <td>0.0</td>\n",
              "      <td>3267</td>\n",
              "      <td>Small</td>\n",
              "      <td>2012</td>\n",
              "      <td>0.0</td>\n",
              "    </tr>\n",
              "    <tr>\n",
              "      <th>4</th>\n",
              "      <td>1150</td>\n",
              "      <td>Материальные внеоборотные активы</td>\n",
              "      <td>9388000.0</td>\n",
              "      <td>12203000.0</td>\n",
              "      <td>3267</td>\n",
              "      <td>Small</td>\n",
              "      <td>2012</td>\n",
              "      <td>2815000.0</td>\n",
              "    </tr>\n",
              "  </tbody>\n",
              "</table>\n",
              "</div>"
            ],
            "text/plain": [
              "   form1_code  ... form1_annualShift\n",
              "0        1110  ...               0.0\n",
              "1        1120  ...               0.0\n",
              "2        1130  ...               0.0\n",
              "3        1140  ...               0.0\n",
              "4        1150  ...         2815000.0\n",
              "\n",
              "[5 rows x 8 columns]"
            ]
          },
          "metadata": {
            "tags": []
          },
          "execution_count": 211
        }
      ]
    },
    {
      "cell_type": "code",
      "metadata": {
        "id": "ROU9N9AUNwTK",
        "colab": {
          "base_uri": "https://localhost:8080/"
        },
        "outputId": "b3e43f44-6df6-49d6-b3ff-7ea7f873fa9a"
      },
      "source": [
        "duplicates_and_null_values(df_form_1, 1, 1, 1)"
      ],
      "execution_count": 212,
      "outputs": [
        {
          "output_type": "stream",
          "text": [
            "Number of duplicates: 0 \n",
            "\n",
            "Percentage of missing data: 0.10\n",
            "Ratio of null values:\n",
            "form1_annualShift            0.412864\n",
            "form1_startValue             0.410990\n",
            "form1_endValue               0.001874\n",
            "buhForms.year                0.000000\n",
            "buhForms.organizationType    0.000000\n",
            "id                           0.000000\n",
            "form1_name                   0.000000\n",
            "form1_code                   0.000000\n",
            "dtype: float64\n"
          ],
          "name": "stdout"
        }
      ]
    },
    {
      "cell_type": "code",
      "metadata": {
        "id": "XKMjuD3kWDWi",
        "colab": {
          "base_uri": "https://localhost:8080/"
        },
        "outputId": "f250c95f-285c-4567-e8dd-404b15e3ec1e"
      },
      "source": [
        "for col in ['form1_code', 'form1_name']:\n",
        "    print('Total number of unique values', col, ':', df_form_1[col].nunique(), \n",
        "          '\\n including: \\n', df_form_1[col].unique(), '\\n')"
      ],
      "execution_count": 213,
      "outputs": [
        {
          "output_type": "stream",
          "text": [
            "Total number of unique values form1_code : 37 \n",
            " including: \n",
            " [1110 1120 1130 1140 1150 1160 1170 1180 1190 1210 1220 1230 1240 1250\n",
            " 1260 1300 1410 1420 1430 1450 1510 1520 1530 1540 1550 1600 1700 1100\n",
            " 1200 1310 1320 1340 1350 1360 1370 1400 1500] \n",
            "\n",
            "Total number of unique values form1_name : 37 \n",
            " including: \n",
            " ['Нематериальные, финансовые и другие внеоборотные активы'\n",
            " 'Материальные внеоборотные активы' 'Запасы'\n",
            " 'Финансовые и другие оборотные активы'\n",
            " 'Денежные средства и денежные эквиваленты' 'Капитал и резервы'\n",
            " 'Долгосрочные заемные средства' 'Другие долгосрочные обязательства'\n",
            " 'Краткосрочные заемные средства' 'Кредиторская задолженность'\n",
            " 'Другие краткосрочные обязательства' 'Баланс' 'Итого'\n",
            " 'Нематериальные активы' 'Результаты исследований и разработок'\n",
            " 'Нематериальные поисковые активы' 'Материальные поисковые активы'\n",
            " 'Основные средства' 'Доходные вложения в материальные ценности'\n",
            " 'Финансовые вложения' 'Отложенные налоговые активы'\n",
            " 'Прочие внеоборотные активы' 'НДС по приобретенным ценностям'\n",
            " 'Дебиторская задолженность'\n",
            " 'Финансовые вложения (за исключением денежных эквивалентов)'\n",
            " 'Прочие оборотные активы' 'Уставный капитал'\n",
            " 'Собственные акции, выкупленные у акционеров'\n",
            " 'Переоценка внеоборотных активов' 'Добавочный капитал (без переоценки)'\n",
            " 'Резервный капитал' 'Нераспределенная прибыль (непокрытый убыток)'\n",
            " 'Заемные средства' 'Отложенные налоговые обязательства'\n",
            " 'Оценочные обязательства' 'Прочие обязательства'\n",
            " 'Доходы будущих периодов'] \n",
            "\n"
          ],
          "name": "stdout"
        }
      ]
    },
    {
      "cell_type": "code",
      "metadata": {
        "id": "mye8cecQtgxB",
        "colab": {
          "base_uri": "https://localhost:8080/"
        },
        "outputId": "b9076497-2a21-4946-a332-3984b454fd58"
      },
      "source": [
        "form1_names_sorted = sorted(df_form_1['form1_name'].unique(), key=lambda x: transliterate.translit(x, 'ru'))\n",
        "print('Columns sorted by cyrillic alphabet:', form1_names_sorted)"
      ],
      "execution_count": 214,
      "outputs": [
        {
          "output_type": "stream",
          "text": [
            "Columns sorted by cyrillic alphabet: ['Баланс', 'Дебиторская задолженность', 'Денежные средства и денежные эквиваленты', 'Добавочный капитал (без переоценки)', 'Долгосрочные заемные средства', 'Доходные вложения в материальные ценности', 'Доходы будущих периодов', 'Другие долгосрочные обязательства', 'Другие краткосрочные обязательства', 'Заемные средства', 'Запасы', 'Итого', 'Капитал и резервы', 'Краткосрочные заемные средства', 'Кредиторская задолженность', 'Материальные внеоборотные активы', 'Материальные поисковые активы', 'НДС по приобретенным ценностям', 'Нематериальные активы', 'Нематериальные поисковые активы', 'Нематериальные, финансовые и другие внеоборотные активы', 'Нераспределенная прибыль (непокрытый убыток)', 'Основные средства', 'Отложенные налоговые активы', 'Отложенные налоговые обязательства', 'Оценочные обязательства', 'Переоценка внеоборотных активов', 'Прочие внеоборотные активы', 'Прочие оборотные активы', 'Прочие обязательства', 'Резервный капитал', 'Результаты исследований и разработок', 'Собственные акции, выкупленные у акционеров', 'Уставный капитал', 'Финансовые вложения', 'Финансовые вложения (за исключением денежных эквивалентов)', 'Финансовые и другие оборотные активы']\n"
          ],
          "name": "stdout"
        }
      ]
    },
    {
      "cell_type": "code",
      "metadata": {
        "id": "rA3zHcWVpn7t",
        "colab": {
          "base_uri": "https://localhost:8080/",
          "height": 292
        },
        "outputId": "a9d8fccc-5dde-47bc-9567-db990d213002"
      },
      "source": [
        "df_form_1_end_values = df_form_1.pivot_table(index=['id', 'buhForms.year'], \n",
        "                                        columns=['form1_name'],\n",
        "                                        values=['form1_endValue']).reset_index()\n",
        "                                      \n",
        "df_form_1_end_values.columns = ['id', 'year'] + form1_names_sorted\n",
        "df_form_1_end_values.head()"
      ],
      "execution_count": 215,
      "outputs": [
        {
          "output_type": "execute_result",
          "data": {
            "text/html": [
              "<div>\n",
              "<style scoped>\n",
              "    .dataframe tbody tr th:only-of-type {\n",
              "        vertical-align: middle;\n",
              "    }\n",
              "\n",
              "    .dataframe tbody tr th {\n",
              "        vertical-align: top;\n",
              "    }\n",
              "\n",
              "    .dataframe thead th {\n",
              "        text-align: right;\n",
              "    }\n",
              "</style>\n",
              "<table border=\"1\" class=\"dataframe\">\n",
              "  <thead>\n",
              "    <tr style=\"text-align: right;\">\n",
              "      <th></th>\n",
              "      <th>id</th>\n",
              "      <th>year</th>\n",
              "      <th>Баланс</th>\n",
              "      <th>Дебиторская задолженность</th>\n",
              "      <th>Денежные средства и денежные эквиваленты</th>\n",
              "      <th>Добавочный капитал (без переоценки)</th>\n",
              "      <th>Долгосрочные заемные средства</th>\n",
              "      <th>Доходные вложения в материальные ценности</th>\n",
              "      <th>Доходы будущих периодов</th>\n",
              "      <th>Другие долгосрочные обязательства</th>\n",
              "      <th>Другие краткосрочные обязательства</th>\n",
              "      <th>Заемные средства</th>\n",
              "      <th>Запасы</th>\n",
              "      <th>Итого</th>\n",
              "      <th>Капитал и резервы</th>\n",
              "      <th>Краткосрочные заемные средства</th>\n",
              "      <th>Кредиторская задолженность</th>\n",
              "      <th>Материальные внеоборотные активы</th>\n",
              "      <th>Материальные поисковые активы</th>\n",
              "      <th>НДС по приобретенным ценностям</th>\n",
              "      <th>Нематериальные активы</th>\n",
              "      <th>Нематериальные поисковые активы</th>\n",
              "      <th>Нематериальные, финансовые и другие внеоборотные активы</th>\n",
              "      <th>Нераспределенная прибыль (непокрытый убыток)</th>\n",
              "      <th>Основные средства</th>\n",
              "      <th>Отложенные налоговые активы</th>\n",
              "      <th>Отложенные налоговые обязательства</th>\n",
              "      <th>Оценочные обязательства</th>\n",
              "      <th>Переоценка внеоборотных активов</th>\n",
              "      <th>Прочие внеоборотные активы</th>\n",
              "      <th>Прочие оборотные активы</th>\n",
              "      <th>Прочие обязательства</th>\n",
              "      <th>Резервный капитал</th>\n",
              "      <th>Результаты исследований и разработок</th>\n",
              "      <th>Собственные акции, выкупленные у акционеров</th>\n",
              "      <th>Уставный капитал</th>\n",
              "      <th>Финансовые вложения</th>\n",
              "      <th>Финансовые вложения (за исключением денежных эквивалентов)</th>\n",
              "      <th>Финансовые и другие оборотные активы</th>\n",
              "    </tr>\n",
              "  </thead>\n",
              "  <tbody>\n",
              "    <tr>\n",
              "      <th>0</th>\n",
              "      <td>0</td>\n",
              "      <td>2012</td>\n",
              "      <td>71451000.0</td>\n",
              "      <td>8247000.0</td>\n",
              "      <td>37940000.0</td>\n",
              "      <td>0.0</td>\n",
              "      <td>NaN</td>\n",
              "      <td>0.0</td>\n",
              "      <td>0.0</td>\n",
              "      <td>NaN</td>\n",
              "      <td>NaN</td>\n",
              "      <td>9625000.0</td>\n",
              "      <td>4225000.0</td>\n",
              "      <td>28580400.0</td>\n",
              "      <td>NaN</td>\n",
              "      <td>NaN</td>\n",
              "      <td>43841000.0</td>\n",
              "      <td>NaN</td>\n",
              "      <td>0.0</td>\n",
              "      <td>0.0</td>\n",
              "      <td>0.0</td>\n",
              "      <td>0.0</td>\n",
              "      <td>NaN</td>\n",
              "      <td>4764000.0</td>\n",
              "      <td>2316000.0</td>\n",
              "      <td>1603000.0</td>\n",
              "      <td>166000.0</td>\n",
              "      <td>215000.0</td>\n",
              "      <td>0.0</td>\n",
              "      <td>0.0</td>\n",
              "      <td>170000.0</td>\n",
              "      <td>0.0</td>\n",
              "      <td>0.0</td>\n",
              "      <td>0.0</td>\n",
              "      <td>0.0</td>\n",
              "      <td>3000000.0</td>\n",
              "      <td>15750000.0</td>\n",
              "      <td>1200000.0</td>\n",
              "      <td>NaN</td>\n",
              "    </tr>\n",
              "    <tr>\n",
              "      <th>1</th>\n",
              "      <td>0</td>\n",
              "      <td>2013</td>\n",
              "      <td>93654000.0</td>\n",
              "      <td>0.0</td>\n",
              "      <td>55875000.0</td>\n",
              "      <td>0.0</td>\n",
              "      <td>NaN</td>\n",
              "      <td>0.0</td>\n",
              "      <td>0.0</td>\n",
              "      <td>NaN</td>\n",
              "      <td>NaN</td>\n",
              "      <td>9625000.0</td>\n",
              "      <td>3140000.0</td>\n",
              "      <td>37461600.0</td>\n",
              "      <td>NaN</td>\n",
              "      <td>NaN</td>\n",
              "      <td>65181000.0</td>\n",
              "      <td>NaN</td>\n",
              "      <td>0.0</td>\n",
              "      <td>12208000.0</td>\n",
              "      <td>0.0</td>\n",
              "      <td>0.0</td>\n",
              "      <td>NaN</td>\n",
              "      <td>5818000.0</td>\n",
              "      <td>1679000.0</td>\n",
              "      <td>1252000.0</td>\n",
              "      <td>122000.0</td>\n",
              "      <td>141500.0</td>\n",
              "      <td>0.0</td>\n",
              "      <td>0.0</td>\n",
              "      <td>550000.0</td>\n",
              "      <td>0.0</td>\n",
              "      <td>0.0</td>\n",
              "      <td>0.0</td>\n",
              "      <td>0.0</td>\n",
              "      <td>3000000.0</td>\n",
              "      <td>15750000.0</td>\n",
              "      <td>3200000.0</td>\n",
              "      <td>NaN</td>\n",
              "    </tr>\n",
              "    <tr>\n",
              "      <th>2</th>\n",
              "      <td>0</td>\n",
              "      <td>2014</td>\n",
              "      <td>89061000.0</td>\n",
              "      <td>5051000.0</td>\n",
              "      <td>60374000.0</td>\n",
              "      <td>0.0</td>\n",
              "      <td>NaN</td>\n",
              "      <td>0.0</td>\n",
              "      <td>0.0</td>\n",
              "      <td>NaN</td>\n",
              "      <td>NaN</td>\n",
              "      <td>8972500.0</td>\n",
              "      <td>2091000.0</td>\n",
              "      <td>35624400.0</td>\n",
              "      <td>NaN</td>\n",
              "      <td>NaN</td>\n",
              "      <td>62357000.0</td>\n",
              "      <td>NaN</td>\n",
              "      <td>0.0</td>\n",
              "      <td>8000.0</td>\n",
              "      <td>0.0</td>\n",
              "      <td>0.0</td>\n",
              "      <td>NaN</td>\n",
              "      <td>5574000.0</td>\n",
              "      <td>1177000.0</td>\n",
              "      <td>808000.0</td>\n",
              "      <td>77000.0</td>\n",
              "      <td>50000.0</td>\n",
              "      <td>0.0</td>\n",
              "      <td>0.0</td>\n",
              "      <td>602000.0</td>\n",
              "      <td>4000.0</td>\n",
              "      <td>0.0</td>\n",
              "      <td>0.0</td>\n",
              "      <td>0.0</td>\n",
              "      <td>3000000.0</td>\n",
              "      <td>15750000.0</td>\n",
              "      <td>3200000.0</td>\n",
              "      <td>NaN</td>\n",
              "    </tr>\n",
              "    <tr>\n",
              "      <th>3</th>\n",
              "      <td>1</td>\n",
              "      <td>2012</td>\n",
              "      <td>4063000.0</td>\n",
              "      <td>NaN</td>\n",
              "      <td>2850000.0</td>\n",
              "      <td>NaN</td>\n",
              "      <td>0.0</td>\n",
              "      <td>NaN</td>\n",
              "      <td>NaN</td>\n",
              "      <td>0.0</td>\n",
              "      <td>333.333333</td>\n",
              "      <td>NaN</td>\n",
              "      <td>0.0</td>\n",
              "      <td>NaN</td>\n",
              "      <td>601000.0</td>\n",
              "      <td>150000.0</td>\n",
              "      <td>3311000.0</td>\n",
              "      <td>321000.0</td>\n",
              "      <td>NaN</td>\n",
              "      <td>NaN</td>\n",
              "      <td>NaN</td>\n",
              "      <td>NaN</td>\n",
              "      <td>0.0</td>\n",
              "      <td>NaN</td>\n",
              "      <td>NaN</td>\n",
              "      <td>NaN</td>\n",
              "      <td>NaN</td>\n",
              "      <td>NaN</td>\n",
              "      <td>NaN</td>\n",
              "      <td>NaN</td>\n",
              "      <td>NaN</td>\n",
              "      <td>NaN</td>\n",
              "      <td>NaN</td>\n",
              "      <td>NaN</td>\n",
              "      <td>NaN</td>\n",
              "      <td>NaN</td>\n",
              "      <td>NaN</td>\n",
              "      <td>NaN</td>\n",
              "      <td>223000.0</td>\n",
              "    </tr>\n",
              "    <tr>\n",
              "      <th>4</th>\n",
              "      <td>1</td>\n",
              "      <td>2013</td>\n",
              "      <td>8109000.0</td>\n",
              "      <td>1576000.0</td>\n",
              "      <td>1921000.0</td>\n",
              "      <td>0.0</td>\n",
              "      <td>NaN</td>\n",
              "      <td>0.0</td>\n",
              "      <td>0.0</td>\n",
              "      <td>NaN</td>\n",
              "      <td>NaN</td>\n",
              "      <td>0.0</td>\n",
              "      <td>1621000.0</td>\n",
              "      <td>3243800.0</td>\n",
              "      <td>NaN</td>\n",
              "      <td>NaN</td>\n",
              "      <td>6525000.0</td>\n",
              "      <td>NaN</td>\n",
              "      <td>0.0</td>\n",
              "      <td>0.0</td>\n",
              "      <td>0.0</td>\n",
              "      <td>0.0</td>\n",
              "      <td>NaN</td>\n",
              "      <td>1568000.0</td>\n",
              "      <td>2622000.0</td>\n",
              "      <td>0.0</td>\n",
              "      <td>0.0</td>\n",
              "      <td>0.0</td>\n",
              "      <td>0.0</td>\n",
              "      <td>0.0</td>\n",
              "      <td>369000.0</td>\n",
              "      <td>0.0</td>\n",
              "      <td>0.0</td>\n",
              "      <td>0.0</td>\n",
              "      <td>0.0</td>\n",
              "      <td>16000.0</td>\n",
              "      <td>0.0</td>\n",
              "      <td>0.0</td>\n",
              "      <td>NaN</td>\n",
              "    </tr>\n",
              "  </tbody>\n",
              "</table>\n",
              "</div>"
            ],
            "text/plain": [
              "   id  ...  Финансовые и другие оборотные активы\n",
              "0   0  ...                                   NaN\n",
              "1   0  ...                                   NaN\n",
              "2   0  ...                                   NaN\n",
              "3   1  ...                              223000.0\n",
              "4   1  ...                                   NaN\n",
              "\n",
              "[5 rows x 39 columns]"
            ]
          },
          "metadata": {
            "tags": []
          },
          "execution_count": 215
        }
      ]
    },
    {
      "cell_type": "code",
      "metadata": {
        "id": "ltWrmmatbyMl",
        "colab": {
          "base_uri": "https://localhost:8080/"
        },
        "outputId": "db5fa677-e632-433c-c7b7-0d96d1761391"
      },
      "source": [
        "duplicates_and_null_values(df_form_1_end_values, 1, 1, 1)"
      ],
      "execution_count": 216,
      "outputs": [
        {
          "output_type": "stream",
          "text": [
            "Number of duplicates: 0 \n",
            "\n",
            "Percentage of missing data: 33.16\n",
            "Ratio of null values:\n",
            "Другие краткосрочные обязательства                            82.167413\n",
            "Другие долгосрочные обязательства                             81.995523\n",
            "Нематериальные, финансовые и другие внеоборотные активы       81.699712\n",
            "Долгосрочные заемные средства                                 81.283978\n",
            "Краткосрочные заемные средства                                80.500480\n",
            "Материальные внеоборотные активы                              80.372562\n",
            "Финансовые и другие оборотные активы                          79.645027\n",
            "Капитал и резервы                                             79.621043\n",
            "Материальные поисковые активы                                 29.477135\n",
            "Нематериальные поисковые активы                               29.417173\n",
            "Собственные акции, выкупленные у акционеров                   29.409178\n",
            "Результаты исследований и разработок                          29.189319\n",
            "Доходы будущих периодов                                       28.849536\n",
            "Переоценка внеоборотных активов                               28.769587\n",
            "Доходные вложения в материальные ценности                     28.737608\n",
            "Добавочный капитал (без переоценки)                           28.373841\n",
            "Резервный капитал                                             28.066038\n",
            "Финансовые вложения                                           27.566358\n",
            "Прочие обязательства                                          27.310521\n",
            "Нематериальные активы                                         27.250560\n",
            "Прочие внеоборотные активы                                    27.222578\n",
            "Оценочные обязательства                                       26.602974\n",
            "Отложенные налоговые обязательства                            26.207227\n",
            "Отложенные налоговые активы                                   25.955389\n",
            "Финансовые вложения (за исключением денежных эквивалентов)    24.804125\n",
            "НДС по приобретенным ценностям                                23.532939\n",
            "Прочие оборотные активы                                       22.893348\n",
            "Заемные средства                                              21.973937\n",
            "Основные средства                                             21.614167\n",
            "Дебиторская задолженность                                     20.494883\n",
            "Нераспределенная прибыль (непокрытый убыток)                  20.474896\n",
            "Уставный капитал                                              20.450911\n",
            "Итого                                                         20.398945\n",
            "Запасы                                                         0.691557\n",
            "Денежные средства и денежные эквиваленты                       0.243844\n",
            "Кредиторская задолженность                                     0.103933\n",
            "Баланс                                                         0.000000\n",
            "year                                                           0.000000\n",
            "id                                                             0.000000\n",
            "dtype: float64\n"
          ],
          "name": "stdout"
        }
      ]
    },
    {
      "cell_type": "code",
      "metadata": {
        "id": "d0zNtWBb3SBF",
        "colab": {
          "base_uri": "https://localhost:8080/"
        },
        "outputId": "a4d7dd08-510f-44ad-95af-410156d0b5be"
      },
      "source": [
        "drop_almost_null_columns(df_form_1_end_values)\n",
        "duplicates_and_null_values(df_form_1_end_values, 0, 1, 0)"
      ],
      "execution_count": 217,
      "outputs": [
        {
          "output_type": "stream",
          "text": [
            "Percentage of missing data: 20.84\n"
          ],
          "name": "stdout"
        }
      ]
    },
    {
      "cell_type": "code",
      "metadata": {
        "id": "W041I_ASwpSp",
        "colab": {
          "base_uri": "https://localhost:8080/"
        },
        "outputId": "541f4960-2f50-46d4-af41-00261e0a0b7b"
      },
      "source": [
        "filling_missing_values(df_form_1_end_values)\n",
        "duplicates_and_null_values(df_form_1_end_values, 0, 1, 0)"
      ],
      "execution_count": 218,
      "outputs": [
        {
          "output_type": "stream",
          "text": [
            "Percentage of missing data: 0.60\n"
          ],
          "name": "stdout"
        }
      ]
    },
    {
      "cell_type": "code",
      "metadata": {
        "id": "kkWxySPZxVgk",
        "colab": {
          "base_uri": "https://localhost:8080/",
          "height": 292
        },
        "outputId": "778e14af-f079-4cb3-80c4-f0effa3d676f"
      },
      "source": [
        "df_form_1_end_values.head()"
      ],
      "execution_count": 219,
      "outputs": [
        {
          "output_type": "execute_result",
          "data": {
            "text/html": [
              "<div>\n",
              "<style scoped>\n",
              "    .dataframe tbody tr th:only-of-type {\n",
              "        vertical-align: middle;\n",
              "    }\n",
              "\n",
              "    .dataframe tbody tr th {\n",
              "        vertical-align: top;\n",
              "    }\n",
              "\n",
              "    .dataframe thead th {\n",
              "        text-align: right;\n",
              "    }\n",
              "</style>\n",
              "<table border=\"1\" class=\"dataframe\">\n",
              "  <thead>\n",
              "    <tr style=\"text-align: right;\">\n",
              "      <th></th>\n",
              "      <th>id</th>\n",
              "      <th>year</th>\n",
              "      <th>Баланс</th>\n",
              "      <th>Дебиторская задолженность</th>\n",
              "      <th>Денежные средства и денежные эквиваленты</th>\n",
              "      <th>Добавочный капитал (без переоценки)</th>\n",
              "      <th>Доходные вложения в материальные ценности</th>\n",
              "      <th>Доходы будущих периодов</th>\n",
              "      <th>Заемные средства</th>\n",
              "      <th>Запасы</th>\n",
              "      <th>Итого</th>\n",
              "      <th>Кредиторская задолженность</th>\n",
              "      <th>Материальные поисковые активы</th>\n",
              "      <th>НДС по приобретенным ценностям</th>\n",
              "      <th>Нематериальные активы</th>\n",
              "      <th>Нематериальные поисковые активы</th>\n",
              "      <th>Нераспределенная прибыль (непокрытый убыток)</th>\n",
              "      <th>Основные средства</th>\n",
              "      <th>Отложенные налоговые активы</th>\n",
              "      <th>Отложенные налоговые обязательства</th>\n",
              "      <th>Оценочные обязательства</th>\n",
              "      <th>Переоценка внеоборотных активов</th>\n",
              "      <th>Прочие внеоборотные активы</th>\n",
              "      <th>Прочие оборотные активы</th>\n",
              "      <th>Прочие обязательства</th>\n",
              "      <th>Резервный капитал</th>\n",
              "      <th>Результаты исследований и разработок</th>\n",
              "      <th>Собственные акции, выкупленные у акционеров</th>\n",
              "      <th>Уставный капитал</th>\n",
              "      <th>Финансовые вложения</th>\n",
              "      <th>Финансовые вложения (за исключением денежных эквивалентов)</th>\n",
              "    </tr>\n",
              "  </thead>\n",
              "  <tbody>\n",
              "    <tr>\n",
              "      <th>0</th>\n",
              "      <td>0</td>\n",
              "      <td>2012</td>\n",
              "      <td>71451000.0</td>\n",
              "      <td>8247000.0</td>\n",
              "      <td>37940000.0</td>\n",
              "      <td>0.0</td>\n",
              "      <td>0.0</td>\n",
              "      <td>0.0</td>\n",
              "      <td>9625000.0</td>\n",
              "      <td>4225000.0</td>\n",
              "      <td>28580400.0</td>\n",
              "      <td>43841000.0</td>\n",
              "      <td>0.0</td>\n",
              "      <td>0.0</td>\n",
              "      <td>0.0</td>\n",
              "      <td>0.0</td>\n",
              "      <td>4764000.0</td>\n",
              "      <td>2316000.0</td>\n",
              "      <td>1603000.0</td>\n",
              "      <td>166000.0</td>\n",
              "      <td>215000.0</td>\n",
              "      <td>0.0</td>\n",
              "      <td>0.0</td>\n",
              "      <td>170000.0</td>\n",
              "      <td>0.0</td>\n",
              "      <td>0.0</td>\n",
              "      <td>0.0</td>\n",
              "      <td>0.0</td>\n",
              "      <td>3000000.0</td>\n",
              "      <td>15750000.0</td>\n",
              "      <td>1200000.0</td>\n",
              "    </tr>\n",
              "    <tr>\n",
              "      <th>1</th>\n",
              "      <td>0</td>\n",
              "      <td>2013</td>\n",
              "      <td>93654000.0</td>\n",
              "      <td>0.0</td>\n",
              "      <td>55875000.0</td>\n",
              "      <td>0.0</td>\n",
              "      <td>0.0</td>\n",
              "      <td>0.0</td>\n",
              "      <td>9625000.0</td>\n",
              "      <td>3140000.0</td>\n",
              "      <td>37461600.0</td>\n",
              "      <td>65181000.0</td>\n",
              "      <td>0.0</td>\n",
              "      <td>12208000.0</td>\n",
              "      <td>0.0</td>\n",
              "      <td>0.0</td>\n",
              "      <td>5818000.0</td>\n",
              "      <td>1679000.0</td>\n",
              "      <td>1252000.0</td>\n",
              "      <td>122000.0</td>\n",
              "      <td>141500.0</td>\n",
              "      <td>0.0</td>\n",
              "      <td>0.0</td>\n",
              "      <td>550000.0</td>\n",
              "      <td>0.0</td>\n",
              "      <td>0.0</td>\n",
              "      <td>0.0</td>\n",
              "      <td>0.0</td>\n",
              "      <td>3000000.0</td>\n",
              "      <td>15750000.0</td>\n",
              "      <td>3200000.0</td>\n",
              "    </tr>\n",
              "    <tr>\n",
              "      <th>2</th>\n",
              "      <td>0</td>\n",
              "      <td>2014</td>\n",
              "      <td>89061000.0</td>\n",
              "      <td>5051000.0</td>\n",
              "      <td>60374000.0</td>\n",
              "      <td>0.0</td>\n",
              "      <td>0.0</td>\n",
              "      <td>0.0</td>\n",
              "      <td>8972500.0</td>\n",
              "      <td>2091000.0</td>\n",
              "      <td>35624400.0</td>\n",
              "      <td>62357000.0</td>\n",
              "      <td>0.0</td>\n",
              "      <td>8000.0</td>\n",
              "      <td>0.0</td>\n",
              "      <td>0.0</td>\n",
              "      <td>5574000.0</td>\n",
              "      <td>1177000.0</td>\n",
              "      <td>808000.0</td>\n",
              "      <td>77000.0</td>\n",
              "      <td>50000.0</td>\n",
              "      <td>0.0</td>\n",
              "      <td>0.0</td>\n",
              "      <td>602000.0</td>\n",
              "      <td>4000.0</td>\n",
              "      <td>0.0</td>\n",
              "      <td>0.0</td>\n",
              "      <td>0.0</td>\n",
              "      <td>3000000.0</td>\n",
              "      <td>15750000.0</td>\n",
              "      <td>3200000.0</td>\n",
              "    </tr>\n",
              "    <tr>\n",
              "      <th>3</th>\n",
              "      <td>1</td>\n",
              "      <td>2012</td>\n",
              "      <td>4063000.0</td>\n",
              "      <td>1576000.0</td>\n",
              "      <td>2850000.0</td>\n",
              "      <td>0.0</td>\n",
              "      <td>0.0</td>\n",
              "      <td>0.0</td>\n",
              "      <td>0.0</td>\n",
              "      <td>0.0</td>\n",
              "      <td>3243800.0</td>\n",
              "      <td>3311000.0</td>\n",
              "      <td>0.0</td>\n",
              "      <td>0.0</td>\n",
              "      <td>0.0</td>\n",
              "      <td>0.0</td>\n",
              "      <td>1568000.0</td>\n",
              "      <td>2622000.0</td>\n",
              "      <td>0.0</td>\n",
              "      <td>0.0</td>\n",
              "      <td>0.0</td>\n",
              "      <td>0.0</td>\n",
              "      <td>0.0</td>\n",
              "      <td>369000.0</td>\n",
              "      <td>0.0</td>\n",
              "      <td>0.0</td>\n",
              "      <td>0.0</td>\n",
              "      <td>0.0</td>\n",
              "      <td>16000.0</td>\n",
              "      <td>0.0</td>\n",
              "      <td>0.0</td>\n",
              "    </tr>\n",
              "    <tr>\n",
              "      <th>4</th>\n",
              "      <td>1</td>\n",
              "      <td>2013</td>\n",
              "      <td>8109000.0</td>\n",
              "      <td>1576000.0</td>\n",
              "      <td>1921000.0</td>\n",
              "      <td>0.0</td>\n",
              "      <td>0.0</td>\n",
              "      <td>0.0</td>\n",
              "      <td>0.0</td>\n",
              "      <td>1621000.0</td>\n",
              "      <td>3243800.0</td>\n",
              "      <td>6525000.0</td>\n",
              "      <td>0.0</td>\n",
              "      <td>0.0</td>\n",
              "      <td>0.0</td>\n",
              "      <td>0.0</td>\n",
              "      <td>1568000.0</td>\n",
              "      <td>2622000.0</td>\n",
              "      <td>0.0</td>\n",
              "      <td>0.0</td>\n",
              "      <td>0.0</td>\n",
              "      <td>0.0</td>\n",
              "      <td>0.0</td>\n",
              "      <td>369000.0</td>\n",
              "      <td>0.0</td>\n",
              "      <td>0.0</td>\n",
              "      <td>0.0</td>\n",
              "      <td>0.0</td>\n",
              "      <td>16000.0</td>\n",
              "      <td>0.0</td>\n",
              "      <td>0.0</td>\n",
              "    </tr>\n",
              "  </tbody>\n",
              "</table>\n",
              "</div>"
            ],
            "text/plain": [
              "   id  ...  Финансовые вложения (за исключением денежных эквивалентов)\n",
              "0   0  ...                                          1200000.0         \n",
              "1   0  ...                                          3200000.0         \n",
              "2   0  ...                                          3200000.0         \n",
              "3   1  ...                                                0.0         \n",
              "4   1  ...                                                0.0         \n",
              "\n",
              "[5 rows x 31 columns]"
            ]
          },
          "metadata": {
            "tags": []
          },
          "execution_count": 219
        }
      ]
    },
    {
      "cell_type": "code",
      "metadata": {
        "id": "E9tb4YJq27Tz"
      },
      "source": [
        "df_form_1_end_values = df_form_1_end_values.fillna(0).astype('int')"
      ],
      "execution_count": 220,
      "outputs": []
    },
    {
      "cell_type": "code",
      "metadata": {
        "id": "fA1HFanLoXWV",
        "colab": {
          "base_uri": "https://localhost:8080/",
          "height": 507
        },
        "outputId": "05883a8e-cbc9-449f-af41-fc5d0589fd93"
      },
      "source": [
        "df_form_1_last_end_values_keys = df_form_1_end_values.groupby(['id']).agg({'year': 'max'}).reset_index()\n",
        "df_form_1_last_end_values = df_form_1_end_values.merge(df_form_1_last_end_values_keys, on = ['id', 'year'])\n",
        "df_form_1_last_end_values"
      ],
      "execution_count": 221,
      "outputs": [
        {
          "output_type": "execute_result",
          "data": {
            "text/html": [
              "<div>\n",
              "<style scoped>\n",
              "    .dataframe tbody tr th:only-of-type {\n",
              "        vertical-align: middle;\n",
              "    }\n",
              "\n",
              "    .dataframe tbody tr th {\n",
              "        vertical-align: top;\n",
              "    }\n",
              "\n",
              "    .dataframe thead th {\n",
              "        text-align: right;\n",
              "    }\n",
              "</style>\n",
              "<table border=\"1\" class=\"dataframe\">\n",
              "  <thead>\n",
              "    <tr style=\"text-align: right;\">\n",
              "      <th></th>\n",
              "      <th>id</th>\n",
              "      <th>year</th>\n",
              "      <th>Баланс</th>\n",
              "      <th>Дебиторская задолженность</th>\n",
              "      <th>Денежные средства и денежные эквиваленты</th>\n",
              "      <th>Добавочный капитал (без переоценки)</th>\n",
              "      <th>Доходные вложения в материальные ценности</th>\n",
              "      <th>Доходы будущих периодов</th>\n",
              "      <th>Заемные средства</th>\n",
              "      <th>Запасы</th>\n",
              "      <th>Итого</th>\n",
              "      <th>Кредиторская задолженность</th>\n",
              "      <th>Материальные поисковые активы</th>\n",
              "      <th>НДС по приобретенным ценностям</th>\n",
              "      <th>Нематериальные активы</th>\n",
              "      <th>Нематериальные поисковые активы</th>\n",
              "      <th>Нераспределенная прибыль (непокрытый убыток)</th>\n",
              "      <th>Основные средства</th>\n",
              "      <th>Отложенные налоговые активы</th>\n",
              "      <th>Отложенные налоговые обязательства</th>\n",
              "      <th>Оценочные обязательства</th>\n",
              "      <th>Переоценка внеоборотных активов</th>\n",
              "      <th>Прочие внеоборотные активы</th>\n",
              "      <th>Прочие оборотные активы</th>\n",
              "      <th>Прочие обязательства</th>\n",
              "      <th>Резервный капитал</th>\n",
              "      <th>Результаты исследований и разработок</th>\n",
              "      <th>Собственные акции, выкупленные у акционеров</th>\n",
              "      <th>Уставный капитал</th>\n",
              "      <th>Финансовые вложения</th>\n",
              "      <th>Финансовые вложения (за исключением денежных эквивалентов)</th>\n",
              "    </tr>\n",
              "  </thead>\n",
              "  <tbody>\n",
              "    <tr>\n",
              "      <th>0</th>\n",
              "      <td>0</td>\n",
              "      <td>2014</td>\n",
              "      <td>89061000</td>\n",
              "      <td>5051000</td>\n",
              "      <td>60374000</td>\n",
              "      <td>0</td>\n",
              "      <td>0</td>\n",
              "      <td>0</td>\n",
              "      <td>8972500</td>\n",
              "      <td>2091000</td>\n",
              "      <td>35624400</td>\n",
              "      <td>62357000</td>\n",
              "      <td>0</td>\n",
              "      <td>8000</td>\n",
              "      <td>0</td>\n",
              "      <td>0</td>\n",
              "      <td>5574000</td>\n",
              "      <td>1177000</td>\n",
              "      <td>808000</td>\n",
              "      <td>77000</td>\n",
              "      <td>50000</td>\n",
              "      <td>0</td>\n",
              "      <td>0</td>\n",
              "      <td>602000</td>\n",
              "      <td>4000</td>\n",
              "      <td>0</td>\n",
              "      <td>0</td>\n",
              "      <td>0</td>\n",
              "      <td>3000000</td>\n",
              "      <td>15750000</td>\n",
              "      <td>3200000</td>\n",
              "    </tr>\n",
              "    <tr>\n",
              "      <th>1</th>\n",
              "      <td>1</td>\n",
              "      <td>2019</td>\n",
              "      <td>19410000</td>\n",
              "      <td>6916000</td>\n",
              "      <td>1489000</td>\n",
              "      <td>0</td>\n",
              "      <td>0</td>\n",
              "      <td>0</td>\n",
              "      <td>0</td>\n",
              "      <td>9814000</td>\n",
              "      <td>3673600</td>\n",
              "      <td>8976000</td>\n",
              "      <td>0</td>\n",
              "      <td>0</td>\n",
              "      <td>0</td>\n",
              "      <td>0</td>\n",
              "      <td>0</td>\n",
              "      <td>59000</td>\n",
              "      <td>0</td>\n",
              "      <td>0</td>\n",
              "      <td>0</td>\n",
              "      <td>0</td>\n",
              "      <td>0</td>\n",
              "      <td>0</td>\n",
              "      <td>0</td>\n",
              "      <td>0</td>\n",
              "      <td>0</td>\n",
              "      <td>0</td>\n",
              "      <td>0</td>\n",
              "      <td>0</td>\n",
              "      <td>0</td>\n",
              "    </tr>\n",
              "    <tr>\n",
              "      <th>2</th>\n",
              "      <td>2</td>\n",
              "      <td>2016</td>\n",
              "      <td>59000</td>\n",
              "      <td>58000</td>\n",
              "      <td>1000</td>\n",
              "      <td>0</td>\n",
              "      <td>0</td>\n",
              "      <td>0</td>\n",
              "      <td>20442500</td>\n",
              "      <td>0</td>\n",
              "      <td>23600</td>\n",
              "      <td>27919000</td>\n",
              "      <td>0</td>\n",
              "      <td>0</td>\n",
              "      <td>0</td>\n",
              "      <td>0</td>\n",
              "      <td>-861422000</td>\n",
              "      <td>0</td>\n",
              "      <td>0</td>\n",
              "      <td>0</td>\n",
              "      <td>396333500</td>\n",
              "      <td>0</td>\n",
              "      <td>0</td>\n",
              "      <td>0</td>\n",
              "      <td>0</td>\n",
              "      <td>0</td>\n",
              "      <td>0</td>\n",
              "      <td>0</td>\n",
              "      <td>10000</td>\n",
              "      <td>0</td>\n",
              "      <td>0</td>\n",
              "    </tr>\n",
              "    <tr>\n",
              "      <th>3</th>\n",
              "      <td>3</td>\n",
              "      <td>2019</td>\n",
              "      <td>989798000</td>\n",
              "      <td>416919000</td>\n",
              "      <td>34831000</td>\n",
              "      <td>0</td>\n",
              "      <td>0</td>\n",
              "      <td>0</td>\n",
              "      <td>67160500</td>\n",
              "      <td>301147000</td>\n",
              "      <td>395919200</td>\n",
              "      <td>437090000</td>\n",
              "      <td>0</td>\n",
              "      <td>720000</td>\n",
              "      <td>384000</td>\n",
              "      <td>0</td>\n",
              "      <td>388975000</td>\n",
              "      <td>40912000</td>\n",
              "      <td>514000</td>\n",
              "      <td>2499000</td>\n",
              "      <td>8456500</td>\n",
              "      <td>0</td>\n",
              "      <td>1308000</td>\n",
              "      <td>5173000</td>\n",
              "      <td>0</td>\n",
              "      <td>0</td>\n",
              "      <td>0</td>\n",
              "      <td>0</td>\n",
              "      <td>10000000</td>\n",
              "      <td>571000</td>\n",
              "      <td>187319000</td>\n",
              "    </tr>\n",
              "    <tr>\n",
              "      <th>4</th>\n",
              "      <td>4</td>\n",
              "      <td>2019</td>\n",
              "      <td>310724000</td>\n",
              "      <td>58099000</td>\n",
              "      <td>2568000</td>\n",
              "      <td>0</td>\n",
              "      <td>0</td>\n",
              "      <td>0</td>\n",
              "      <td>0</td>\n",
              "      <td>15822000</td>\n",
              "      <td>124289600</td>\n",
              "      <td>21329000</td>\n",
              "      <td>0</td>\n",
              "      <td>2017000</td>\n",
              "      <td>0</td>\n",
              "      <td>0</td>\n",
              "      <td>86672000</td>\n",
              "      <td>198783000</td>\n",
              "      <td>415000</td>\n",
              "      <td>3222000</td>\n",
              "      <td>2076000</td>\n",
              "      <td>0</td>\n",
              "      <td>0</td>\n",
              "      <td>33020000</td>\n",
              "      <td>197415000</td>\n",
              "      <td>0</td>\n",
              "      <td>0</td>\n",
              "      <td>0</td>\n",
              "      <td>10000</td>\n",
              "      <td>0</td>\n",
              "      <td>0</td>\n",
              "    </tr>\n",
              "    <tr>\n",
              "      <th>...</th>\n",
              "      <td>...</td>\n",
              "      <td>...</td>\n",
              "      <td>...</td>\n",
              "      <td>...</td>\n",
              "      <td>...</td>\n",
              "      <td>...</td>\n",
              "      <td>...</td>\n",
              "      <td>...</td>\n",
              "      <td>...</td>\n",
              "      <td>...</td>\n",
              "      <td>...</td>\n",
              "      <td>...</td>\n",
              "      <td>...</td>\n",
              "      <td>...</td>\n",
              "      <td>...</td>\n",
              "      <td>...</td>\n",
              "      <td>...</td>\n",
              "      <td>...</td>\n",
              "      <td>...</td>\n",
              "      <td>...</td>\n",
              "      <td>...</td>\n",
              "      <td>...</td>\n",
              "      <td>...</td>\n",
              "      <td>...</td>\n",
              "      <td>...</td>\n",
              "      <td>...</td>\n",
              "      <td>...</td>\n",
              "      <td>...</td>\n",
              "      <td>...</td>\n",
              "      <td>...</td>\n",
              "      <td>...</td>\n",
              "    </tr>\n",
              "    <tr>\n",
              "      <th>3913</th>\n",
              "      <td>4389</td>\n",
              "      <td>2019</td>\n",
              "      <td>7865000</td>\n",
              "      <td>6862000</td>\n",
              "      <td>726000</td>\n",
              "      <td>0</td>\n",
              "      <td>0</td>\n",
              "      <td>0</td>\n",
              "      <td>0</td>\n",
              "      <td>463000</td>\n",
              "      <td>4585800</td>\n",
              "      <td>5509000</td>\n",
              "      <td>0</td>\n",
              "      <td>0</td>\n",
              "      <td>0</td>\n",
              "      <td>0</td>\n",
              "      <td>0</td>\n",
              "      <td>595000</td>\n",
              "      <td>0</td>\n",
              "      <td>0</td>\n",
              "      <td>0</td>\n",
              "      <td>0</td>\n",
              "      <td>0</td>\n",
              "      <td>0</td>\n",
              "      <td>0</td>\n",
              "      <td>0</td>\n",
              "      <td>0</td>\n",
              "      <td>0</td>\n",
              "      <td>0</td>\n",
              "      <td>59000</td>\n",
              "      <td>0</td>\n",
              "    </tr>\n",
              "    <tr>\n",
              "      <th>3914</th>\n",
              "      <td>4390</td>\n",
              "      <td>2019</td>\n",
              "      <td>3953382000</td>\n",
              "      <td>550171000</td>\n",
              "      <td>18412000</td>\n",
              "      <td>0</td>\n",
              "      <td>0</td>\n",
              "      <td>0</td>\n",
              "      <td>753633500</td>\n",
              "      <td>848173000</td>\n",
              "      <td>1581352800</td>\n",
              "      <td>1593598000</td>\n",
              "      <td>0</td>\n",
              "      <td>223267000</td>\n",
              "      <td>117097000</td>\n",
              "      <td>0</td>\n",
              "      <td>388463000</td>\n",
              "      <td>2072824000</td>\n",
              "      <td>44034000</td>\n",
              "      <td>157516000</td>\n",
              "      <td>62998000</td>\n",
              "      <td>42815000</td>\n",
              "      <td>0</td>\n",
              "      <td>79394000</td>\n",
              "      <td>0</td>\n",
              "      <td>0</td>\n",
              "      <td>0</td>\n",
              "      <td>0</td>\n",
              "      <td>200725000</td>\n",
              "      <td>0</td>\n",
              "      <td>10000</td>\n",
              "    </tr>\n",
              "    <tr>\n",
              "      <th>3915</th>\n",
              "      <td>4391</td>\n",
              "      <td>2019</td>\n",
              "      <td>257446000</td>\n",
              "      <td>116866000</td>\n",
              "      <td>1345000</td>\n",
              "      <td>0</td>\n",
              "      <td>0</td>\n",
              "      <td>0</td>\n",
              "      <td>9606000</td>\n",
              "      <td>131201000</td>\n",
              "      <td>128723000</td>\n",
              "      <td>232977000</td>\n",
              "      <td>0</td>\n",
              "      <td>1382000</td>\n",
              "      <td>0</td>\n",
              "      <td>0</td>\n",
              "      <td>14853000</td>\n",
              "      <td>6652000</td>\n",
              "      <td>0</td>\n",
              "      <td>0</td>\n",
              "      <td>0</td>\n",
              "      <td>0</td>\n",
              "      <td>0</td>\n",
              "      <td>0</td>\n",
              "      <td>0</td>\n",
              "      <td>0</td>\n",
              "      <td>0</td>\n",
              "      <td>0</td>\n",
              "      <td>10000</td>\n",
              "      <td>0</td>\n",
              "      <td>0</td>\n",
              "    </tr>\n",
              "    <tr>\n",
              "      <th>3916</th>\n",
              "      <td>4392</td>\n",
              "      <td>2019</td>\n",
              "      <td>133519000</td>\n",
              "      <td>39895000</td>\n",
              "      <td>37000</td>\n",
              "      <td>0</td>\n",
              "      <td>0</td>\n",
              "      <td>0</td>\n",
              "      <td>0</td>\n",
              "      <td>63409000</td>\n",
              "      <td>53407200</td>\n",
              "      <td>54750000</td>\n",
              "      <td>0</td>\n",
              "      <td>0</td>\n",
              "      <td>0</td>\n",
              "      <td>0</td>\n",
              "      <td>64474000</td>\n",
              "      <td>17539000</td>\n",
              "      <td>10638000</td>\n",
              "      <td>2986000</td>\n",
              "      <td>9180000</td>\n",
              "      <td>0</td>\n",
              "      <td>0</td>\n",
              "      <td>0</td>\n",
              "      <td>0</td>\n",
              "      <td>2029000</td>\n",
              "      <td>0</td>\n",
              "      <td>0</td>\n",
              "      <td>100000</td>\n",
              "      <td>0</td>\n",
              "      <td>2000000</td>\n",
              "    </tr>\n",
              "    <tr>\n",
              "      <th>3917</th>\n",
              "      <td>4393</td>\n",
              "      <td>2019</td>\n",
              "      <td>137907000</td>\n",
              "      <td>76558000</td>\n",
              "      <td>55000</td>\n",
              "      <td>0</td>\n",
              "      <td>0</td>\n",
              "      <td>0</td>\n",
              "      <td>9001000</td>\n",
              "      <td>27710000</td>\n",
              "      <td>55163000</td>\n",
              "      <td>103809000</td>\n",
              "      <td>0</td>\n",
              "      <td>75000</td>\n",
              "      <td>0</td>\n",
              "      <td>0</td>\n",
              "      <td>15997000</td>\n",
              "      <td>0</td>\n",
              "      <td>0</td>\n",
              "      <td>0</td>\n",
              "      <td>0</td>\n",
              "      <td>0</td>\n",
              "      <td>0</td>\n",
              "      <td>0</td>\n",
              "      <td>0</td>\n",
              "      <td>0</td>\n",
              "      <td>0</td>\n",
              "      <td>0</td>\n",
              "      <td>100000</td>\n",
              "      <td>0</td>\n",
              "      <td>33510000</td>\n",
              "    </tr>\n",
              "  </tbody>\n",
              "</table>\n",
              "<p>3918 rows × 31 columns</p>\n",
              "</div>"
            ],
            "text/plain": [
              "        id  ...  Финансовые вложения (за исключением денежных эквивалентов)\n",
              "0        0  ...                                            3200000         \n",
              "1        1  ...                                                  0         \n",
              "2        2  ...                                                  0         \n",
              "3        3  ...                                          187319000         \n",
              "4        4  ...                                                  0         \n",
              "...    ...  ...                                                ...         \n",
              "3913  4389  ...                                                  0         \n",
              "3914  4390  ...                                              10000         \n",
              "3915  4391  ...                                                  0         \n",
              "3916  4392  ...                                            2000000         \n",
              "3917  4393  ...                                           33510000         \n",
              "\n",
              "[3918 rows x 31 columns]"
            ]
          },
          "metadata": {
            "tags": []
          },
          "execution_count": 221
        }
      ]
    },
    {
      "cell_type": "code",
      "metadata": {
        "id": "x2q3aRXvsvba",
        "colab": {
          "base_uri": "https://localhost:8080/",
          "height": 385
        },
        "outputId": "4c3bf38f-08d8-4ce0-c3ca-a1eec8b6d226"
      },
      "source": [
        "df_form_1_last_end_values.describe()"
      ],
      "execution_count": 222,
      "outputs": [
        {
          "output_type": "execute_result",
          "data": {
            "text/html": [
              "<div>\n",
              "<style scoped>\n",
              "    .dataframe tbody tr th:only-of-type {\n",
              "        vertical-align: middle;\n",
              "    }\n",
              "\n",
              "    .dataframe tbody tr th {\n",
              "        vertical-align: top;\n",
              "    }\n",
              "\n",
              "    .dataframe thead th {\n",
              "        text-align: right;\n",
              "    }\n",
              "</style>\n",
              "<table border=\"1\" class=\"dataframe\">\n",
              "  <thead>\n",
              "    <tr style=\"text-align: right;\">\n",
              "      <th></th>\n",
              "      <th>id</th>\n",
              "      <th>year</th>\n",
              "      <th>Баланс</th>\n",
              "      <th>Дебиторская задолженность</th>\n",
              "      <th>Денежные средства и денежные эквиваленты</th>\n",
              "      <th>Добавочный капитал (без переоценки)</th>\n",
              "      <th>Доходные вложения в материальные ценности</th>\n",
              "      <th>Доходы будущих периодов</th>\n",
              "      <th>Заемные средства</th>\n",
              "      <th>Запасы</th>\n",
              "      <th>Итого</th>\n",
              "      <th>Кредиторская задолженность</th>\n",
              "      <th>Материальные поисковые активы</th>\n",
              "      <th>НДС по приобретенным ценностям</th>\n",
              "      <th>Нематериальные активы</th>\n",
              "      <th>Нематериальные поисковые активы</th>\n",
              "      <th>Нераспределенная прибыль (непокрытый убыток)</th>\n",
              "      <th>Основные средства</th>\n",
              "      <th>Отложенные налоговые активы</th>\n",
              "      <th>Отложенные налоговые обязательства</th>\n",
              "      <th>Оценочные обязательства</th>\n",
              "      <th>Переоценка внеоборотных активов</th>\n",
              "      <th>Прочие внеоборотные активы</th>\n",
              "      <th>Прочие оборотные активы</th>\n",
              "      <th>Прочие обязательства</th>\n",
              "      <th>Резервный капитал</th>\n",
              "      <th>Результаты исследований и разработок</th>\n",
              "      <th>Собственные акции, выкупленные у акционеров</th>\n",
              "      <th>Уставный капитал</th>\n",
              "      <th>Финансовые вложения</th>\n",
              "      <th>Финансовые вложения (за исключением денежных эквивалентов)</th>\n",
              "    </tr>\n",
              "  </thead>\n",
              "  <tbody>\n",
              "    <tr>\n",
              "      <th>count</th>\n",
              "      <td>3918.000000</td>\n",
              "      <td>3918.000000</td>\n",
              "      <td>3.918000e+03</td>\n",
              "      <td>3.918000e+03</td>\n",
              "      <td>3.918000e+03</td>\n",
              "      <td>3.918000e+03</td>\n",
              "      <td>3.918000e+03</td>\n",
              "      <td>3.918000e+03</td>\n",
              "      <td>3.918000e+03</td>\n",
              "      <td>3.918000e+03</td>\n",
              "      <td>3.918000e+03</td>\n",
              "      <td>3.918000e+03</td>\n",
              "      <td>3.918000e+03</td>\n",
              "      <td>3.918000e+03</td>\n",
              "      <td>3.918000e+03</td>\n",
              "      <td>3.918000e+03</td>\n",
              "      <td>3.918000e+03</td>\n",
              "      <td>3.918000e+03</td>\n",
              "      <td>3.918000e+03</td>\n",
              "      <td>3.918000e+03</td>\n",
              "      <td>3.918000e+03</td>\n",
              "      <td>3.918000e+03</td>\n",
              "      <td>3.918000e+03</td>\n",
              "      <td>3.918000e+03</td>\n",
              "      <td>3.918000e+03</td>\n",
              "      <td>3.918000e+03</td>\n",
              "      <td>3.918000e+03</td>\n",
              "      <td>3.918000e+03</td>\n",
              "      <td>3.918000e+03</td>\n",
              "      <td>3.918000e+03</td>\n",
              "      <td>3.918000e+03</td>\n",
              "    </tr>\n",
              "    <tr>\n",
              "      <th>mean</th>\n",
              "      <td>2191.348903</td>\n",
              "      <td>2018.418836</td>\n",
              "      <td>8.279285e+08</td>\n",
              "      <td>1.695782e+08</td>\n",
              "      <td>4.971126e+07</td>\n",
              "      <td>4.715201e+07</td>\n",
              "      <td>1.217464e+07</td>\n",
              "      <td>4.445679e+06</td>\n",
              "      <td>1.437349e+08</td>\n",
              "      <td>9.897833e+07</td>\n",
              "      <td>3.344976e+08</td>\n",
              "      <td>2.325540e+08</td>\n",
              "      <td>2.748946e+05</td>\n",
              "      <td>5.129640e+06</td>\n",
              "      <td>3.327220e+06</td>\n",
              "      <td>1.102262e+06</td>\n",
              "      <td>1.199932e+08</td>\n",
              "      <td>1.929365e+08</td>\n",
              "      <td>1.029891e+07</td>\n",
              "      <td>2.650140e+07</td>\n",
              "      <td>5.614762e+06</td>\n",
              "      <td>4.702794e+06</td>\n",
              "      <td>4.837784e+07</td>\n",
              "      <td>7.857195e+06</td>\n",
              "      <td>1.657396e+07</td>\n",
              "      <td>6.515666e+05</td>\n",
              "      <td>1.331413e+06</td>\n",
              "      <td>1.684472e+05</td>\n",
              "      <td>8.879913e+07</td>\n",
              "      <td>2.020508e+08</td>\n",
              "      <td>2.410594e+07</td>\n",
              "    </tr>\n",
              "    <tr>\n",
              "      <th>std</th>\n",
              "      <td>1272.222772</td>\n",
              "      <td>1.294683</td>\n",
              "      <td>1.324488e+10</td>\n",
              "      <td>9.457159e+08</td>\n",
              "      <td>1.338295e+09</td>\n",
              "      <td>1.107164e+09</td>\n",
              "      <td>3.558590e+08</td>\n",
              "      <td>1.517462e+08</td>\n",
              "      <td>3.034831e+09</td>\n",
              "      <td>6.164927e+08</td>\n",
              "      <td>5.298073e+09</td>\n",
              "      <td>2.973747e+09</td>\n",
              "      <td>1.110204e+07</td>\n",
              "      <td>7.437029e+07</td>\n",
              "      <td>5.704506e+07</td>\n",
              "      <td>3.685370e+07</td>\n",
              "      <td>4.805849e+09</td>\n",
              "      <td>4.003894e+09</td>\n",
              "      <td>1.938969e+08</td>\n",
              "      <td>1.238018e+09</td>\n",
              "      <td>7.597633e+07</td>\n",
              "      <td>8.050486e+07</td>\n",
              "      <td>1.715718e+09</td>\n",
              "      <td>1.356103e+08</td>\n",
              "      <td>2.874051e+08</td>\n",
              "      <td>1.270343e+07</td>\n",
              "      <td>4.529032e+07</td>\n",
              "      <td>1.095913e+07</td>\n",
              "      <td>3.187420e+09</td>\n",
              "      <td>8.281136e+09</td>\n",
              "      <td>1.880935e+08</td>\n",
              "    </tr>\n",
              "    <tr>\n",
              "      <th>min</th>\n",
              "      <td>0.000000</td>\n",
              "      <td>2013.000000</td>\n",
              "      <td>0.000000e+00</td>\n",
              "      <td>-1.453000e+06</td>\n",
              "      <td>-6.700000e+04</td>\n",
              "      <td>-7.747900e+07</td>\n",
              "      <td>0.000000e+00</td>\n",
              "      <td>0.000000e+00</td>\n",
              "      <td>-1.296300e+07</td>\n",
              "      <td>0.000000e+00</td>\n",
              "      <td>-1.443820e+07</td>\n",
              "      <td>-5.424000e+06</td>\n",
              "      <td>0.000000e+00</td>\n",
              "      <td>-1.981000e+06</td>\n",
              "      <td>0.000000e+00</td>\n",
              "      <td>0.000000e+00</td>\n",
              "      <td>-1.271506e+11</td>\n",
              "      <td>0.000000e+00</td>\n",
              "      <td>-2.112000e+06</td>\n",
              "      <td>-1.153700e+07</td>\n",
              "      <td>-2.480000e+05</td>\n",
              "      <td>0.000000e+00</td>\n",
              "      <td>0.000000e+00</td>\n",
              "      <td>-7.000000e+05</td>\n",
              "      <td>-3.891000e+06</td>\n",
              "      <td>0.000000e+00</td>\n",
              "      <td>0.000000e+00</td>\n",
              "      <td>-2.950000e+08</td>\n",
              "      <td>-2.721000e+06</td>\n",
              "      <td>0.000000e+00</td>\n",
              "      <td>0.000000e+00</td>\n",
              "    </tr>\n",
              "    <tr>\n",
              "      <th>25%</th>\n",
              "      <td>1091.250000</td>\n",
              "      <td>2019.000000</td>\n",
              "      <td>2.509475e+07</td>\n",
              "      <td>5.992250e+06</td>\n",
              "      <td>4.025000e+04</td>\n",
              "      <td>0.000000e+00</td>\n",
              "      <td>0.000000e+00</td>\n",
              "      <td>0.000000e+00</td>\n",
              "      <td>0.000000e+00</td>\n",
              "      <td>4.725000e+05</td>\n",
              "      <td>1.026030e+07</td>\n",
              "      <td>6.789250e+06</td>\n",
              "      <td>0.000000e+00</td>\n",
              "      <td>0.000000e+00</td>\n",
              "      <td>0.000000e+00</td>\n",
              "      <td>0.000000e+00</td>\n",
              "      <td>0.000000e+00</td>\n",
              "      <td>0.000000e+00</td>\n",
              "      <td>0.000000e+00</td>\n",
              "      <td>0.000000e+00</td>\n",
              "      <td>0.000000e+00</td>\n",
              "      <td>0.000000e+00</td>\n",
              "      <td>0.000000e+00</td>\n",
              "      <td>0.000000e+00</td>\n",
              "      <td>0.000000e+00</td>\n",
              "      <td>0.000000e+00</td>\n",
              "      <td>0.000000e+00</td>\n",
              "      <td>0.000000e+00</td>\n",
              "      <td>1.000000e+04</td>\n",
              "      <td>0.000000e+00</td>\n",
              "      <td>0.000000e+00</td>\n",
              "    </tr>\n",
              "    <tr>\n",
              "      <th>50%</th>\n",
              "      <td>2183.500000</td>\n",
              "      <td>2019.000000</td>\n",
              "      <td>7.239950e+07</td>\n",
              "      <td>2.469200e+07</td>\n",
              "      <td>6.885000e+05</td>\n",
              "      <td>0.000000e+00</td>\n",
              "      <td>0.000000e+00</td>\n",
              "      <td>0.000000e+00</td>\n",
              "      <td>1.560500e+06</td>\n",
              "      <td>1.007450e+07</td>\n",
              "      <td>3.087740e+07</td>\n",
              "      <td>2.865150e+07</td>\n",
              "      <td>0.000000e+00</td>\n",
              "      <td>0.000000e+00</td>\n",
              "      <td>0.000000e+00</td>\n",
              "      <td>0.000000e+00</td>\n",
              "      <td>3.269000e+06</td>\n",
              "      <td>1.194000e+06</td>\n",
              "      <td>0.000000e+00</td>\n",
              "      <td>0.000000e+00</td>\n",
              "      <td>0.000000e+00</td>\n",
              "      <td>0.000000e+00</td>\n",
              "      <td>0.000000e+00</td>\n",
              "      <td>0.000000e+00</td>\n",
              "      <td>0.000000e+00</td>\n",
              "      <td>0.000000e+00</td>\n",
              "      <td>0.000000e+00</td>\n",
              "      <td>0.000000e+00</td>\n",
              "      <td>1.000000e+04</td>\n",
              "      <td>0.000000e+00</td>\n",
              "      <td>0.000000e+00</td>\n",
              "    </tr>\n",
              "    <tr>\n",
              "      <th>75%</th>\n",
              "      <td>3292.750000</td>\n",
              "      <td>2019.000000</td>\n",
              "      <td>2.358230e+08</td>\n",
              "      <td>7.959250e+07</td>\n",
              "      <td>4.916500e+06</td>\n",
              "      <td>0.000000e+00</td>\n",
              "      <td>0.000000e+00</td>\n",
              "      <td>0.000000e+00</td>\n",
              "      <td>1.951288e+07</td>\n",
              "      <td>4.879200e+07</td>\n",
              "      <td>9.751290e+07</td>\n",
              "      <td>9.989050e+07</td>\n",
              "      <td>0.000000e+00</td>\n",
              "      <td>2.040000e+05</td>\n",
              "      <td>0.000000e+00</td>\n",
              "      <td>0.000000e+00</td>\n",
              "      <td>3.452800e+07</td>\n",
              "      <td>1.702675e+07</td>\n",
              "      <td>0.000000e+00</td>\n",
              "      <td>0.000000e+00</td>\n",
              "      <td>0.000000e+00</td>\n",
              "      <td>0.000000e+00</td>\n",
              "      <td>0.000000e+00</td>\n",
              "      <td>2.655000e+05</td>\n",
              "      <td>0.000000e+00</td>\n",
              "      <td>0.000000e+00</td>\n",
              "      <td>0.000000e+00</td>\n",
              "      <td>0.000000e+00</td>\n",
              "      <td>1.100000e+05</td>\n",
              "      <td>0.000000e+00</td>\n",
              "      <td>4.560000e+05</td>\n",
              "    </tr>\n",
              "    <tr>\n",
              "      <th>max</th>\n",
              "      <td>4393.000000</td>\n",
              "      <td>2019.000000</td>\n",
              "      <td>7.407061e+11</td>\n",
              "      <td>2.820188e+10</td>\n",
              "      <td>8.004590e+10</td>\n",
              "      <td>5.434728e+10</td>\n",
              "      <td>1.957654e+10</td>\n",
              "      <td>8.893004e+09</td>\n",
              "      <td>1.661003e+11</td>\n",
              "      <td>2.494825e+10</td>\n",
              "      <td>2.962825e+11</td>\n",
              "      <td>1.772986e+11</td>\n",
              "      <td>5.931300e+08</td>\n",
              "      <td>3.970234e+09</td>\n",
              "      <td>2.359384e+09</td>\n",
              "      <td>2.064913e+09</td>\n",
              "      <td>2.585418e+11</td>\n",
              "      <td>1.985541e+11</td>\n",
              "      <td>9.613554e+09</td>\n",
              "      <td>7.660621e+10</td>\n",
              "      <td>2.892573e+09</td>\n",
              "      <td>3.658391e+09</td>\n",
              "      <td>9.433300e+10</td>\n",
              "      <td>7.518293e+09</td>\n",
              "      <td>1.022526e+10</td>\n",
              "      <td>6.947390e+08</td>\n",
              "      <td>2.629333e+09</td>\n",
              "      <td>4.897020e+08</td>\n",
              "      <td>1.961546e+11</td>\n",
              "      <td>5.098562e+11</td>\n",
              "      <td>5.953335e+09</td>\n",
              "    </tr>\n",
              "  </tbody>\n",
              "</table>\n",
              "</div>"
            ],
            "text/plain": [
              "                id  ...  Финансовые вложения (за исключением денежных эквивалентов)\n",
              "count  3918.000000  ...                                       3.918000e+03         \n",
              "mean   2191.348903  ...                                       2.410594e+07         \n",
              "std    1272.222772  ...                                       1.880935e+08         \n",
              "min       0.000000  ...                                       0.000000e+00         \n",
              "25%    1091.250000  ...                                       0.000000e+00         \n",
              "50%    2183.500000  ...                                       0.000000e+00         \n",
              "75%    3292.750000  ...                                       4.560000e+05         \n",
              "max    4393.000000  ...                                       5.953335e+09         \n",
              "\n",
              "[8 rows x 31 columns]"
            ]
          },
          "metadata": {
            "tags": []
          },
          "execution_count": 222
        }
      ]
    },
    {
      "cell_type": "markdown",
      "metadata": {
        "id": "DAx-OjnSm0F3"
      },
      "source": [
        "### 1.2.2. Form 2"
      ]
    },
    {
      "cell_type": "code",
      "metadata": {
        "id": "BTyxAJC8LJNg",
        "colab": {
          "base_uri": "https://localhost:8080/",
          "height": 564
        },
        "outputId": "b509ff31-ff95-438d-dc33-501937cdaa7e"
      },
      "source": [
        "# form 2\n",
        "df_form_2 = pd.io.json.json_normalize(fin_data, ['buhForms', 'form2'], \n",
        "                                      meta=['id', ['buhForms', 'organizationType'], ['buhForms', 'year']],\n",
        "                                      errors='ignore', record_prefix='form2_')\n",
        "\n",
        "df_form_2['form2_annualValue'] = df_form_2['form2_endValue'] - df_form_2['form2_startValue']\n",
        "\n",
        "df_form_2.info()\n",
        "df_form_2.head()"
      ],
      "execution_count": 223,
      "outputs": [
        {
          "output_type": "stream",
          "text": [
            "<class 'pandas.core.frame.DataFrame'>\n",
            "RangeIndex: 437014 entries, 0 to 437013\n",
            "Data columns (total 8 columns):\n",
            " #   Column                     Non-Null Count   Dtype  \n",
            "---  ------                     --------------   -----  \n",
            " 0   form2_code                 437014 non-null  int64  \n",
            " 1   form2_name                 437014 non-null  object \n",
            " 2   form2_startValue           434678 non-null  float64\n",
            " 3   form2_endValue             437005 non-null  float64\n",
            " 4   id                         437014 non-null  object \n",
            " 5   buhForms.organizationType  437014 non-null  object \n",
            " 6   buhForms.year              437014 non-null  object \n",
            " 7   form2_annualValue          434669 non-null  float64\n",
            "dtypes: float64(3), int64(1), object(4)\n",
            "memory usage: 26.7+ MB\n"
          ],
          "name": "stdout"
        },
        {
          "output_type": "execute_result",
          "data": {
            "text/html": [
              "<div>\n",
              "<style scoped>\n",
              "    .dataframe tbody tr th:only-of-type {\n",
              "        vertical-align: middle;\n",
              "    }\n",
              "\n",
              "    .dataframe tbody tr th {\n",
              "        vertical-align: top;\n",
              "    }\n",
              "\n",
              "    .dataframe thead th {\n",
              "        text-align: right;\n",
              "    }\n",
              "</style>\n",
              "<table border=\"1\" class=\"dataframe\">\n",
              "  <thead>\n",
              "    <tr style=\"text-align: right;\">\n",
              "      <th></th>\n",
              "      <th>form2_code</th>\n",
              "      <th>form2_name</th>\n",
              "      <th>form2_startValue</th>\n",
              "      <th>form2_endValue</th>\n",
              "      <th>id</th>\n",
              "      <th>buhForms.organizationType</th>\n",
              "      <th>buhForms.year</th>\n",
              "      <th>form2_annualValue</th>\n",
              "    </tr>\n",
              "  </thead>\n",
              "  <tbody>\n",
              "    <tr>\n",
              "      <th>0</th>\n",
              "      <td>2110</td>\n",
              "      <td>Выручка</td>\n",
              "      <td>143632000.0</td>\n",
              "      <td>162430000.0</td>\n",
              "      <td>3267</td>\n",
              "      <td>Small</td>\n",
              "      <td>2012</td>\n",
              "      <td>18798000.0</td>\n",
              "    </tr>\n",
              "    <tr>\n",
              "      <th>1</th>\n",
              "      <td>2120</td>\n",
              "      <td>Расходы по обычной деятельности</td>\n",
              "      <td>131942000.0</td>\n",
              "      <td>152806000.0</td>\n",
              "      <td>3267</td>\n",
              "      <td>Small</td>\n",
              "      <td>2012</td>\n",
              "      <td>20864000.0</td>\n",
              "    </tr>\n",
              "    <tr>\n",
              "      <th>2</th>\n",
              "      <td>2330</td>\n",
              "      <td>Проценты к уплате</td>\n",
              "      <td>763000.0</td>\n",
              "      <td>230000.0</td>\n",
              "      <td>3267</td>\n",
              "      <td>Small</td>\n",
              "      <td>2012</td>\n",
              "      <td>-533000.0</td>\n",
              "    </tr>\n",
              "    <tr>\n",
              "      <th>3</th>\n",
              "      <td>2340</td>\n",
              "      <td>Прочие доходы</td>\n",
              "      <td>644000.0</td>\n",
              "      <td>684000.0</td>\n",
              "      <td>3267</td>\n",
              "      <td>Small</td>\n",
              "      <td>2012</td>\n",
              "      <td>40000.0</td>\n",
              "    </tr>\n",
              "    <tr>\n",
              "      <th>4</th>\n",
              "      <td>2350</td>\n",
              "      <td>Прочие расходы</td>\n",
              "      <td>1693000.0</td>\n",
              "      <td>1816000.0</td>\n",
              "      <td>3267</td>\n",
              "      <td>Small</td>\n",
              "      <td>2012</td>\n",
              "      <td>123000.0</td>\n",
              "    </tr>\n",
              "  </tbody>\n",
              "</table>\n",
              "</div>"
            ],
            "text/plain": [
              "   form2_code                       form2_name  ...  buhForms.year  form2_annualValue\n",
              "0        2110                          Выручка  ...           2012         18798000.0\n",
              "1        2120  Расходы по обычной деятельности  ...           2012         20864000.0\n",
              "2        2330                Проценты к уплате  ...           2012          -533000.0\n",
              "3        2340                    Прочие доходы  ...           2012            40000.0\n",
              "4        2350                   Прочие расходы  ...           2012           123000.0\n",
              "\n",
              "[5 rows x 8 columns]"
            ]
          },
          "metadata": {
            "tags": []
          },
          "execution_count": 223
        }
      ]
    },
    {
      "cell_type": "code",
      "metadata": {
        "id": "RqCTqwEtNwWE",
        "colab": {
          "base_uri": "https://localhost:8080/"
        },
        "outputId": "9d079f81-ecd1-4001-9b58-1d5c03f932b3"
      },
      "source": [
        "duplicates_and_null_values(df_form_2, 1, 1, 1)"
      ],
      "execution_count": 224,
      "outputs": [
        {
          "output_type": "stream",
          "text": [
            "Number of duplicates: 0 \n",
            "\n",
            "Percentage of missing data: 0.13\n",
            "Ratio of null values:\n",
            "form2_annualValue            0.536596\n",
            "form2_startValue             0.534537\n",
            "form2_endValue               0.002059\n",
            "buhForms.year                0.000000\n",
            "buhForms.organizationType    0.000000\n",
            "id                           0.000000\n",
            "form2_name                   0.000000\n",
            "form2_code                   0.000000\n",
            "dtype: float64\n"
          ],
          "name": "stdout"
        }
      ]
    },
    {
      "cell_type": "code",
      "metadata": {
        "id": "1QUDocOeXEJh",
        "colab": {
          "base_uri": "https://localhost:8080/"
        },
        "outputId": "f77d51e6-b0d4-494e-9425-2929f8ddb4cb"
      },
      "source": [
        "for col in ['form2_code', 'form2_name']:\n",
        "    print('Total number of unique values', col, ':', df_form_2[col].nunique(), \n",
        "          '\\n including: \\n', df_form_2[col].unique(), '\\n')"
      ],
      "execution_count": 225,
      "outputs": [
        {
          "output_type": "stream",
          "text": [
            "Total number of unique values form2_code : 26 \n",
            " including: \n",
            " [2110 2120 2330 2340 2350 2400 2410 2100 2200 2210 2220 2300 2310 2320\n",
            " 2421 2430 2450 2460 2500 2510 2520 2411 2412 2530 2900 2910] \n",
            "\n",
            "Total number of unique values form2_name : 28 \n",
            " including: \n",
            " ['Выручка' 'Расходы по обычной деятельности' 'Проценты к уплате'\n",
            " 'Прочие доходы' 'Прочие расходы' 'Чистая прибыль (убыток)'\n",
            " 'Налоги на прибыль (доходы)' 'Валовая прибыль (убыток)'\n",
            " 'Себестоимость продаж' 'Прибыль (убыток) от продаж'\n",
            " 'Коммерческие расходы' 'Управленческие расходы'\n",
            " 'Прибыль (убыток) до налогообложения'\n",
            " 'Доходы от участия в других организациях' 'Проценты к получению'\n",
            " 'Текущий налог на прибыль' 'Постоянные налоговые обязательства (активы)'\n",
            " 'Изменение отложенных налоговых обязательств'\n",
            " 'Изменение отложенных налоговых активов' 'Прочее'\n",
            " 'Совокупный финансовый результат периода'\n",
            " 'Результат от переоценки внеоборотных активов, не включаемый в чистую прибыль (убыток)'\n",
            " 'Результат от прочих операций, не включаемый в чистую прибыль (убыток) периода'\n",
            " 'Налог на прибыль' 'Отложенный налог на прибыль'\n",
            " 'Налог на прибыль от операций, результат которых не включается в чистую прибыль (убыток)'\n",
            " 'Базовая прибыль (убыток) на акцию'\n",
            " 'Разводненная прибыль (убыток) на акцию'] \n",
            "\n"
          ],
          "name": "stdout"
        }
      ]
    },
    {
      "cell_type": "code",
      "metadata": {
        "id": "fRBTUJwy4Fmq",
        "colab": {
          "base_uri": "https://localhost:8080/"
        },
        "outputId": "94eef5dd-f679-477d-8ed8-637fb90b2d5f"
      },
      "source": [
        "form2_name_sorted = sorted(df_form_2['form2_name'].unique(), key=lambda x: transliterate.translit(x, 'ru'))\n",
        "print('Columns sorted by cyrillic alphabet:', form2_name_sorted)"
      ],
      "execution_count": 226,
      "outputs": [
        {
          "output_type": "stream",
          "text": [
            "Columns sorted by cyrillic alphabet: ['Базовая прибыль (убыток) на акцию', 'Валовая прибыль (убыток)', 'Выручка', 'Доходы от участия в других организациях', 'Изменение отложенных налоговых активов', 'Изменение отложенных налоговых обязательств', 'Коммерческие расходы', 'Налог на прибыль', 'Налог на прибыль от операций, результат которых не включается в чистую прибыль (убыток)', 'Налоги на прибыль (доходы)', 'Отложенный налог на прибыль', 'Постоянные налоговые обязательства (активы)', 'Прибыль (убыток) до налогообложения', 'Прибыль (убыток) от продаж', 'Проценты к получению', 'Проценты к уплате', 'Прочее', 'Прочие доходы', 'Прочие расходы', 'Разводненная прибыль (убыток) на акцию', 'Расходы по обычной деятельности', 'Результат от переоценки внеоборотных активов, не включаемый в чистую прибыль (убыток)', 'Результат от прочих операций, не включаемый в чистую прибыль (убыток) периода', 'Себестоимость продаж', 'Совокупный финансовый результат периода', 'Текущий налог на прибыль', 'Управленческие расходы', 'Чистая прибыль (убыток)']\n"
          ],
          "name": "stdout"
        }
      ]
    },
    {
      "cell_type": "code",
      "metadata": {
        "id": "74B7hw4xKJbP",
        "colab": {
          "base_uri": "https://localhost:8080/",
          "height": 394
        },
        "outputId": "a6135c71-7362-4e36-8800-5c3b630a907e"
      },
      "source": [
        "df_form_2_end_values = df_form_2.pivot_table(index=['id', 'buhForms.year'], \n",
        "                                        columns=['form2_name'],\n",
        "                                        values=['form2_endValue']).reset_index()\n",
        "                                      \n",
        "df_form_2_end_values.columns = ['id', 'year'] + form2_name_sorted\n",
        "df_form_2_end_values.head()"
      ],
      "execution_count": 227,
      "outputs": [
        {
          "output_type": "execute_result",
          "data": {
            "text/html": [
              "<div>\n",
              "<style scoped>\n",
              "    .dataframe tbody tr th:only-of-type {\n",
              "        vertical-align: middle;\n",
              "    }\n",
              "\n",
              "    .dataframe tbody tr th {\n",
              "        vertical-align: top;\n",
              "    }\n",
              "\n",
              "    .dataframe thead th {\n",
              "        text-align: right;\n",
              "    }\n",
              "</style>\n",
              "<table border=\"1\" class=\"dataframe\">\n",
              "  <thead>\n",
              "    <tr style=\"text-align: right;\">\n",
              "      <th></th>\n",
              "      <th>id</th>\n",
              "      <th>year</th>\n",
              "      <th>Базовая прибыль (убыток) на акцию</th>\n",
              "      <th>Валовая прибыль (убыток)</th>\n",
              "      <th>Выручка</th>\n",
              "      <th>Доходы от участия в других организациях</th>\n",
              "      <th>Изменение отложенных налоговых активов</th>\n",
              "      <th>Изменение отложенных налоговых обязательств</th>\n",
              "      <th>Коммерческие расходы</th>\n",
              "      <th>Налог на прибыль</th>\n",
              "      <th>Налог на прибыль от операций, результат которых не включается в чистую прибыль (убыток)</th>\n",
              "      <th>Налоги на прибыль (доходы)</th>\n",
              "      <th>Отложенный налог на прибыль</th>\n",
              "      <th>Постоянные налоговые обязательства (активы)</th>\n",
              "      <th>Прибыль (убыток) до налогообложения</th>\n",
              "      <th>Прибыль (убыток) от продаж</th>\n",
              "      <th>Проценты к получению</th>\n",
              "      <th>Проценты к уплате</th>\n",
              "      <th>Прочее</th>\n",
              "      <th>Прочие доходы</th>\n",
              "      <th>Прочие расходы</th>\n",
              "      <th>Разводненная прибыль (убыток) на акцию</th>\n",
              "      <th>Расходы по обычной деятельности</th>\n",
              "      <th>Результат от переоценки внеоборотных активов, не включаемый в чистую прибыль (убыток)</th>\n",
              "      <th>Результат от прочих операций, не включаемый в чистую прибыль (убыток) периода</th>\n",
              "      <th>Себестоимость продаж</th>\n",
              "      <th>Совокупный финансовый результат периода</th>\n",
              "      <th>Текущий налог на прибыль</th>\n",
              "      <th>Управленческие расходы</th>\n",
              "      <th>Чистая прибыль (убыток)</th>\n",
              "    </tr>\n",
              "  </thead>\n",
              "  <tbody>\n",
              "    <tr>\n",
              "      <th>0</th>\n",
              "      <td>0</td>\n",
              "      <td>2012</td>\n",
              "      <td>NaN</td>\n",
              "      <td>96514000.0</td>\n",
              "      <td>124447000.0</td>\n",
              "      <td>1547000.0</td>\n",
              "      <td>502000.0</td>\n",
              "      <td>-45000.0</td>\n",
              "      <td>0.0</td>\n",
              "      <td>NaN</td>\n",
              "      <td>NaN</td>\n",
              "      <td>NaN</td>\n",
              "      <td>NaN</td>\n",
              "      <td>-101000.0</td>\n",
              "      <td>4483000.0</td>\n",
              "      <td>11344000.0</td>\n",
              "      <td>19000.0</td>\n",
              "      <td>3080000.0</td>\n",
              "      <td>5000.0</td>\n",
              "      <td>157000.0</td>\n",
              "      <td>5504000.0</td>\n",
              "      <td>NaN</td>\n",
              "      <td>NaN</td>\n",
              "      <td>0.0</td>\n",
              "      <td>0.0</td>\n",
              "      <td>27933000.0</td>\n",
              "      <td>3683000.0</td>\n",
              "      <td>1342000.0</td>\n",
              "      <td>85170000.0</td>\n",
              "      <td>3683000.0</td>\n",
              "    </tr>\n",
              "    <tr>\n",
              "      <th>1</th>\n",
              "      <td>0</td>\n",
              "      <td>2013</td>\n",
              "      <td>NaN</td>\n",
              "      <td>98358000.0</td>\n",
              "      <td>129589000.0</td>\n",
              "      <td>0.0</td>\n",
              "      <td>-351000.0</td>\n",
              "      <td>-44000.0</td>\n",
              "      <td>0.0</td>\n",
              "      <td>NaN</td>\n",
              "      <td>NaN</td>\n",
              "      <td>NaN</td>\n",
              "      <td>NaN</td>\n",
              "      <td>0.0</td>\n",
              "      <td>2181000.0</td>\n",
              "      <td>12614000.0</td>\n",
              "      <td>149000.0</td>\n",
              "      <td>3080000.0</td>\n",
              "      <td>3000.0</td>\n",
              "      <td>27000.0</td>\n",
              "      <td>7526000.0</td>\n",
              "      <td>NaN</td>\n",
              "      <td>NaN</td>\n",
              "      <td>0.0</td>\n",
              "      <td>0.0</td>\n",
              "      <td>31231000.0</td>\n",
              "      <td>1054000.0</td>\n",
              "      <td>817000.0</td>\n",
              "      <td>85744000.0</td>\n",
              "      <td>1054000.0</td>\n",
              "    </tr>\n",
              "    <tr>\n",
              "      <th>2</th>\n",
              "      <td>0</td>\n",
              "      <td>2014</td>\n",
              "      <td>NaN</td>\n",
              "      <td>88247000.0</td>\n",
              "      <td>117597000.0</td>\n",
              "      <td>0.0</td>\n",
              "      <td>-444000.0</td>\n",
              "      <td>-45000.0</td>\n",
              "      <td>0.0</td>\n",
              "      <td>NaN</td>\n",
              "      <td>NaN</td>\n",
              "      <td>NaN</td>\n",
              "      <td>NaN</td>\n",
              "      <td>-760000.0</td>\n",
              "      <td>688000.0</td>\n",
              "      <td>9051000.0</td>\n",
              "      <td>0.0</td>\n",
              "      <td>1749000.0</td>\n",
              "      <td>35000.0</td>\n",
              "      <td>88000.0</td>\n",
              "      <td>6702000.0</td>\n",
              "      <td>NaN</td>\n",
              "      <td>NaN</td>\n",
              "      <td>0.0</td>\n",
              "      <td>0.0</td>\n",
              "      <td>29350000.0</td>\n",
              "      <td>-244000.0</td>\n",
              "      <td>498000.0</td>\n",
              "      <td>79196000.0</td>\n",
              "      <td>-244000.0</td>\n",
              "    </tr>\n",
              "    <tr>\n",
              "      <th>3</th>\n",
              "      <td>1</td>\n",
              "      <td>2012</td>\n",
              "      <td>NaN</td>\n",
              "      <td>NaN</td>\n",
              "      <td>19388000.0</td>\n",
              "      <td>NaN</td>\n",
              "      <td>NaN</td>\n",
              "      <td>NaN</td>\n",
              "      <td>NaN</td>\n",
              "      <td>NaN</td>\n",
              "      <td>NaN</td>\n",
              "      <td>159000.0</td>\n",
              "      <td>NaN</td>\n",
              "      <td>NaN</td>\n",
              "      <td>NaN</td>\n",
              "      <td>NaN</td>\n",
              "      <td>NaN</td>\n",
              "      <td>7000.0</td>\n",
              "      <td>NaN</td>\n",
              "      <td>5000.0</td>\n",
              "      <td>77000.0</td>\n",
              "      <td>NaN</td>\n",
              "      <td>18529000.0</td>\n",
              "      <td>NaN</td>\n",
              "      <td>NaN</td>\n",
              "      <td>NaN</td>\n",
              "      <td>NaN</td>\n",
              "      <td>NaN</td>\n",
              "      <td>NaN</td>\n",
              "      <td>621000.0</td>\n",
              "    </tr>\n",
              "    <tr>\n",
              "      <th>4</th>\n",
              "      <td>1</td>\n",
              "      <td>2013</td>\n",
              "      <td>NaN</td>\n",
              "      <td>1280000.0</td>\n",
              "      <td>28221000.0</td>\n",
              "      <td>0.0</td>\n",
              "      <td>0.0</td>\n",
              "      <td>0.0</td>\n",
              "      <td>0.0</td>\n",
              "      <td>NaN</td>\n",
              "      <td>NaN</td>\n",
              "      <td>NaN</td>\n",
              "      <td>NaN</td>\n",
              "      <td>0.0</td>\n",
              "      <td>1107000.0</td>\n",
              "      <td>1280000.0</td>\n",
              "      <td>0.0</td>\n",
              "      <td>0.0</td>\n",
              "      <td>0.0</td>\n",
              "      <td>0.0</td>\n",
              "      <td>173000.0</td>\n",
              "      <td>NaN</td>\n",
              "      <td>NaN</td>\n",
              "      <td>0.0</td>\n",
              "      <td>0.0</td>\n",
              "      <td>26941000.0</td>\n",
              "      <td>1001000.0</td>\n",
              "      <td>106000.0</td>\n",
              "      <td>0.0</td>\n",
              "      <td>1001000.0</td>\n",
              "    </tr>\n",
              "  </tbody>\n",
              "</table>\n",
              "</div>"
            ],
            "text/plain": [
              "   id  year  ...  Управленческие расходы  Чистая прибыль (убыток)\n",
              "0   0  2012  ...              85170000.0                3683000.0\n",
              "1   0  2013  ...              85744000.0                1054000.0\n",
              "2   0  2014  ...              79196000.0                -244000.0\n",
              "3   1  2012  ...                     NaN                 621000.0\n",
              "4   1  2013  ...                     0.0                1001000.0\n",
              "\n",
              "[5 rows x 30 columns]"
            ]
          },
          "metadata": {
            "tags": []
          },
          "execution_count": 227
        }
      ]
    },
    {
      "cell_type": "code",
      "metadata": {
        "id": "UD3DHKDMKJdN",
        "colab": {
          "base_uri": "https://localhost:8080/"
        },
        "outputId": "17def2ad-56a9-4267-814f-060d1b2c6da8"
      },
      "source": [
        "duplicates_and_null_values(df_form_2_end_values, 1, 1, 1)"
      ],
      "execution_count": 228,
      "outputs": [
        {
          "output_type": "stream",
          "text": [
            "Number of duplicates: 0 \n",
            "\n",
            "Percentage of missing data: 34.95\n",
            "Ratio of null values:\n",
            "Налог на прибыль от операций, результат которых не включается в чистую прибыль (убыток)    99.955915\n",
            "Разводненная прибыль (убыток) на акцию                                                     99.919846\n",
            "Базовая прибыль (убыток) на акцию                                                          99.731484\n",
            "Отложенный налог на прибыль                                                                98.525168\n",
            "Налог на прибыль                                                                           96.369029\n",
            "Налоги на прибыль (доходы)                                                                 80.001603\n",
            "Расходы по обычной деятельности                                                            79.729080\n",
            "Результат от прочих операций, не включаемый в чистую прибыль (убыток) периода              29.188041\n",
            "Результат от переоценки внеоборотных активов, не включаемый в чистую прибыль (убыток)      29.131933\n",
            "Доходы от участия в других организациях                                                    28.923533\n",
            "Изменение отложенных налоговых обязательств                                                25.901731\n",
            "Изменение отложенных налоговых активов                                                     25.865662\n",
            "Постоянные налоговые обязательства (активы)                                                25.488939\n",
            "Прочее                                                                                     24.879769\n",
            "Проценты к получению                                                                       24.623277\n",
            "Управленческие расходы                                                                     24.130330\n",
            "Коммерческие расходы                                                                       23.789676\n",
            "Текущий налог на прибыль                                                                   22.050337\n",
            "Себестоимость продаж                                                                       20.827990\n",
            "Валовая прибыль (убыток)                                                                   20.635620\n",
            "Прибыль (убыток) от продаж                                                                 20.487336\n",
            "Прибыль (убыток) до налогообложения                                                        20.487336\n",
            "Совокупный финансовый результат периода                                                    20.427220\n",
            "Проценты к уплате                                                                           5.642834\n",
            "Прочие доходы                                                                               1.174255\n",
            "Выручка                                                                                     0.408785\n",
            "Прочие расходы                                                                              0.264508\n",
            "Чистая прибыль (убыток)                                                                     0.056108\n",
            "year                                                                                        0.000000\n",
            "id                                                                                          0.000000\n",
            "dtype: float64\n"
          ],
          "name": "stdout"
        }
      ]
    },
    {
      "cell_type": "code",
      "metadata": {
        "id": "9UilBPNR44fS",
        "colab": {
          "base_uri": "https://localhost:8080/"
        },
        "outputId": "306b28b0-eeed-4595-bdeb-fef59483fd94"
      },
      "source": [
        "drop_almost_null_columns(df_form_2_end_values)\n",
        "duplicates_and_null_values(df_form_2_end_values, 0, 1, 0)"
      ],
      "execution_count": 229,
      "outputs": [
        {
          "output_type": "stream",
          "text": [
            "Percentage of missing data: 17.15\n"
          ],
          "name": "stdout"
        }
      ]
    },
    {
      "cell_type": "code",
      "metadata": {
        "id": "DN8gt8grWWFK",
        "colab": {
          "base_uri": "https://localhost:8080/"
        },
        "outputId": "9aea8aed-856f-4c10-92d3-5fe5b629d822"
      },
      "source": [
        "filling_missing_values(df_form_2_end_values)\n",
        "duplicates_and_null_values(df_form_2_end_values, 0, 1, 0)"
      ],
      "execution_count": 230,
      "outputs": [
        {
          "output_type": "stream",
          "text": [
            "Percentage of missing data: 0.52\n"
          ],
          "name": "stdout"
        }
      ]
    },
    {
      "cell_type": "code",
      "metadata": {
        "id": "7_eC1JlEWruG",
        "colab": {
          "base_uri": "https://localhost:8080/",
          "height": 360
        },
        "outputId": "f2857d8c-732e-43d6-b734-ddd27593180a"
      },
      "source": [
        "df_form_2_end_values.head()"
      ],
      "execution_count": 231,
      "outputs": [
        {
          "output_type": "execute_result",
          "data": {
            "text/html": [
              "<div>\n",
              "<style scoped>\n",
              "    .dataframe tbody tr th:only-of-type {\n",
              "        vertical-align: middle;\n",
              "    }\n",
              "\n",
              "    .dataframe tbody tr th {\n",
              "        vertical-align: top;\n",
              "    }\n",
              "\n",
              "    .dataframe thead th {\n",
              "        text-align: right;\n",
              "    }\n",
              "</style>\n",
              "<table border=\"1\" class=\"dataframe\">\n",
              "  <thead>\n",
              "    <tr style=\"text-align: right;\">\n",
              "      <th></th>\n",
              "      <th>id</th>\n",
              "      <th>year</th>\n",
              "      <th>Валовая прибыль (убыток)</th>\n",
              "      <th>Выручка</th>\n",
              "      <th>Доходы от участия в других организациях</th>\n",
              "      <th>Изменение отложенных налоговых активов</th>\n",
              "      <th>Изменение отложенных налоговых обязательств</th>\n",
              "      <th>Коммерческие расходы</th>\n",
              "      <th>Постоянные налоговые обязательства (активы)</th>\n",
              "      <th>Прибыль (убыток) до налогообложения</th>\n",
              "      <th>Прибыль (убыток) от продаж</th>\n",
              "      <th>Проценты к получению</th>\n",
              "      <th>Проценты к уплате</th>\n",
              "      <th>Прочее</th>\n",
              "      <th>Прочие доходы</th>\n",
              "      <th>Прочие расходы</th>\n",
              "      <th>Результат от переоценки внеоборотных активов, не включаемый в чистую прибыль (убыток)</th>\n",
              "      <th>Результат от прочих операций, не включаемый в чистую прибыль (убыток) периода</th>\n",
              "      <th>Себестоимость продаж</th>\n",
              "      <th>Совокупный финансовый результат периода</th>\n",
              "      <th>Текущий налог на прибыль</th>\n",
              "      <th>Управленческие расходы</th>\n",
              "      <th>Чистая прибыль (убыток)</th>\n",
              "    </tr>\n",
              "  </thead>\n",
              "  <tbody>\n",
              "    <tr>\n",
              "      <th>0</th>\n",
              "      <td>0</td>\n",
              "      <td>2012</td>\n",
              "      <td>96514000.0</td>\n",
              "      <td>124447000.0</td>\n",
              "      <td>1547000.0</td>\n",
              "      <td>502000.0</td>\n",
              "      <td>-45000.0</td>\n",
              "      <td>0.0</td>\n",
              "      <td>-101000.0</td>\n",
              "      <td>4483000.0</td>\n",
              "      <td>11344000.0</td>\n",
              "      <td>19000.0</td>\n",
              "      <td>3080000.0</td>\n",
              "      <td>5000.0</td>\n",
              "      <td>157000.0</td>\n",
              "      <td>5504000.0</td>\n",
              "      <td>0.0</td>\n",
              "      <td>0.0</td>\n",
              "      <td>27933000.0</td>\n",
              "      <td>3683000.0</td>\n",
              "      <td>1342000.0</td>\n",
              "      <td>85170000.0</td>\n",
              "      <td>3683000.0</td>\n",
              "    </tr>\n",
              "    <tr>\n",
              "      <th>1</th>\n",
              "      <td>0</td>\n",
              "      <td>2013</td>\n",
              "      <td>98358000.0</td>\n",
              "      <td>129589000.0</td>\n",
              "      <td>0.0</td>\n",
              "      <td>-351000.0</td>\n",
              "      <td>-44000.0</td>\n",
              "      <td>0.0</td>\n",
              "      <td>0.0</td>\n",
              "      <td>2181000.0</td>\n",
              "      <td>12614000.0</td>\n",
              "      <td>149000.0</td>\n",
              "      <td>3080000.0</td>\n",
              "      <td>3000.0</td>\n",
              "      <td>27000.0</td>\n",
              "      <td>7526000.0</td>\n",
              "      <td>0.0</td>\n",
              "      <td>0.0</td>\n",
              "      <td>31231000.0</td>\n",
              "      <td>1054000.0</td>\n",
              "      <td>817000.0</td>\n",
              "      <td>85744000.0</td>\n",
              "      <td>1054000.0</td>\n",
              "    </tr>\n",
              "    <tr>\n",
              "      <th>2</th>\n",
              "      <td>0</td>\n",
              "      <td>2014</td>\n",
              "      <td>88247000.0</td>\n",
              "      <td>117597000.0</td>\n",
              "      <td>0.0</td>\n",
              "      <td>-444000.0</td>\n",
              "      <td>-45000.0</td>\n",
              "      <td>0.0</td>\n",
              "      <td>-760000.0</td>\n",
              "      <td>688000.0</td>\n",
              "      <td>9051000.0</td>\n",
              "      <td>0.0</td>\n",
              "      <td>1749000.0</td>\n",
              "      <td>35000.0</td>\n",
              "      <td>88000.0</td>\n",
              "      <td>6702000.0</td>\n",
              "      <td>0.0</td>\n",
              "      <td>0.0</td>\n",
              "      <td>29350000.0</td>\n",
              "      <td>-244000.0</td>\n",
              "      <td>498000.0</td>\n",
              "      <td>79196000.0</td>\n",
              "      <td>-244000.0</td>\n",
              "    </tr>\n",
              "    <tr>\n",
              "      <th>3</th>\n",
              "      <td>1</td>\n",
              "      <td>2012</td>\n",
              "      <td>1280000.0</td>\n",
              "      <td>19388000.0</td>\n",
              "      <td>0.0</td>\n",
              "      <td>0.0</td>\n",
              "      <td>0.0</td>\n",
              "      <td>0.0</td>\n",
              "      <td>0.0</td>\n",
              "      <td>1107000.0</td>\n",
              "      <td>1280000.0</td>\n",
              "      <td>0.0</td>\n",
              "      <td>7000.0</td>\n",
              "      <td>0.0</td>\n",
              "      <td>5000.0</td>\n",
              "      <td>77000.0</td>\n",
              "      <td>0.0</td>\n",
              "      <td>0.0</td>\n",
              "      <td>26941000.0</td>\n",
              "      <td>1001000.0</td>\n",
              "      <td>106000.0</td>\n",
              "      <td>0.0</td>\n",
              "      <td>621000.0</td>\n",
              "    </tr>\n",
              "    <tr>\n",
              "      <th>4</th>\n",
              "      <td>1</td>\n",
              "      <td>2013</td>\n",
              "      <td>1280000.0</td>\n",
              "      <td>28221000.0</td>\n",
              "      <td>0.0</td>\n",
              "      <td>0.0</td>\n",
              "      <td>0.0</td>\n",
              "      <td>0.0</td>\n",
              "      <td>0.0</td>\n",
              "      <td>1107000.0</td>\n",
              "      <td>1280000.0</td>\n",
              "      <td>0.0</td>\n",
              "      <td>0.0</td>\n",
              "      <td>0.0</td>\n",
              "      <td>0.0</td>\n",
              "      <td>173000.0</td>\n",
              "      <td>0.0</td>\n",
              "      <td>0.0</td>\n",
              "      <td>26941000.0</td>\n",
              "      <td>1001000.0</td>\n",
              "      <td>106000.0</td>\n",
              "      <td>0.0</td>\n",
              "      <td>1001000.0</td>\n",
              "    </tr>\n",
              "  </tbody>\n",
              "</table>\n",
              "</div>"
            ],
            "text/plain": [
              "   id  year  ...  Управленческие расходы  Чистая прибыль (убыток)\n",
              "0   0  2012  ...              85170000.0                3683000.0\n",
              "1   0  2013  ...              85744000.0                1054000.0\n",
              "2   0  2014  ...              79196000.0                -244000.0\n",
              "3   1  2012  ...                     0.0                 621000.0\n",
              "4   1  2013  ...                     0.0                1001000.0\n",
              "\n",
              "[5 rows x 23 columns]"
            ]
          },
          "metadata": {
            "tags": []
          },
          "execution_count": 231
        }
      ]
    },
    {
      "cell_type": "code",
      "metadata": {
        "id": "u4kP58-TWpYt"
      },
      "source": [
        "df_form_2_end_values = df_form_2_end_values.fillna(0).astype('int')"
      ],
      "execution_count": 232,
      "outputs": []
    },
    {
      "cell_type": "code",
      "metadata": {
        "id": "vJgyvy_MWnLL",
        "colab": {
          "base_uri": "https://localhost:8080/",
          "height": 575
        },
        "outputId": "22671ce6-1a84-4c5b-b3f7-a0878a9520f6"
      },
      "source": [
        "df_form_2_last_end_values_keys = df_form_2_end_values.groupby(['id']).agg({'year': 'max'}).reset_index()\n",
        "df_form_2_last_end_values = df_form_2_end_values.merge(df_form_2_last_end_values_keys, on = ['id', 'year'])\n",
        "df_form_2_last_end_values"
      ],
      "execution_count": 233,
      "outputs": [
        {
          "output_type": "execute_result",
          "data": {
            "text/html": [
              "<div>\n",
              "<style scoped>\n",
              "    .dataframe tbody tr th:only-of-type {\n",
              "        vertical-align: middle;\n",
              "    }\n",
              "\n",
              "    .dataframe tbody tr th {\n",
              "        vertical-align: top;\n",
              "    }\n",
              "\n",
              "    .dataframe thead th {\n",
              "        text-align: right;\n",
              "    }\n",
              "</style>\n",
              "<table border=\"1\" class=\"dataframe\">\n",
              "  <thead>\n",
              "    <tr style=\"text-align: right;\">\n",
              "      <th></th>\n",
              "      <th>id</th>\n",
              "      <th>year</th>\n",
              "      <th>Валовая прибыль (убыток)</th>\n",
              "      <th>Выручка</th>\n",
              "      <th>Доходы от участия в других организациях</th>\n",
              "      <th>Изменение отложенных налоговых активов</th>\n",
              "      <th>Изменение отложенных налоговых обязательств</th>\n",
              "      <th>Коммерческие расходы</th>\n",
              "      <th>Постоянные налоговые обязательства (активы)</th>\n",
              "      <th>Прибыль (убыток) до налогообложения</th>\n",
              "      <th>Прибыль (убыток) от продаж</th>\n",
              "      <th>Проценты к получению</th>\n",
              "      <th>Проценты к уплате</th>\n",
              "      <th>Прочее</th>\n",
              "      <th>Прочие доходы</th>\n",
              "      <th>Прочие расходы</th>\n",
              "      <th>Результат от переоценки внеоборотных активов, не включаемый в чистую прибыль (убыток)</th>\n",
              "      <th>Результат от прочих операций, не включаемый в чистую прибыль (убыток) периода</th>\n",
              "      <th>Себестоимость продаж</th>\n",
              "      <th>Совокупный финансовый результат периода</th>\n",
              "      <th>Текущий налог на прибыль</th>\n",
              "      <th>Управленческие расходы</th>\n",
              "      <th>Чистая прибыль (убыток)</th>\n",
              "    </tr>\n",
              "  </thead>\n",
              "  <tbody>\n",
              "    <tr>\n",
              "      <th>0</th>\n",
              "      <td>0</td>\n",
              "      <td>2014</td>\n",
              "      <td>88247000</td>\n",
              "      <td>117597000</td>\n",
              "      <td>0</td>\n",
              "      <td>-444000</td>\n",
              "      <td>-45000</td>\n",
              "      <td>0</td>\n",
              "      <td>-760000</td>\n",
              "      <td>688000</td>\n",
              "      <td>9051000</td>\n",
              "      <td>0</td>\n",
              "      <td>1749000</td>\n",
              "      <td>35000</td>\n",
              "      <td>88000</td>\n",
              "      <td>6702000</td>\n",
              "      <td>0</td>\n",
              "      <td>0</td>\n",
              "      <td>29350000</td>\n",
              "      <td>-244000</td>\n",
              "      <td>498000</td>\n",
              "      <td>79196000</td>\n",
              "      <td>-244000</td>\n",
              "    </tr>\n",
              "    <tr>\n",
              "      <th>1</th>\n",
              "      <td>1</td>\n",
              "      <td>2019</td>\n",
              "      <td>1268000</td>\n",
              "      <td>31674000</td>\n",
              "      <td>0</td>\n",
              "      <td>0</td>\n",
              "      <td>0</td>\n",
              "      <td>0</td>\n",
              "      <td>0</td>\n",
              "      <td>-47000</td>\n",
              "      <td>1268000</td>\n",
              "      <td>0</td>\n",
              "      <td>7000</td>\n",
              "      <td>0</td>\n",
              "      <td>3578000</td>\n",
              "      <td>3707000</td>\n",
              "      <td>0</td>\n",
              "      <td>0</td>\n",
              "      <td>66519000</td>\n",
              "      <td>0</td>\n",
              "      <td>495000</td>\n",
              "      <td>0</td>\n",
              "      <td>263000</td>\n",
              "    </tr>\n",
              "    <tr>\n",
              "      <th>2</th>\n",
              "      <td>2</td>\n",
              "      <td>2016</td>\n",
              "      <td>0</td>\n",
              "      <td>0</td>\n",
              "      <td>0</td>\n",
              "      <td>0</td>\n",
              "      <td>0</td>\n",
              "      <td>749000</td>\n",
              "      <td>0</td>\n",
              "      <td>-6665000</td>\n",
              "      <td>-749000</td>\n",
              "      <td>1856000</td>\n",
              "      <td>986000</td>\n",
              "      <td>0</td>\n",
              "      <td>4000</td>\n",
              "      <td>6790000</td>\n",
              "      <td>0</td>\n",
              "      <td>0</td>\n",
              "      <td>0</td>\n",
              "      <td>-6670000</td>\n",
              "      <td>5000</td>\n",
              "      <td>0</td>\n",
              "      <td>-6670000</td>\n",
              "    </tr>\n",
              "    <tr>\n",
              "      <th>3</th>\n",
              "      <td>3</td>\n",
              "      <td>2019</td>\n",
              "      <td>395363000</td>\n",
              "      <td>2538937000</td>\n",
              "      <td>0</td>\n",
              "      <td>-5000</td>\n",
              "      <td>-437000</td>\n",
              "      <td>134741000</td>\n",
              "      <td>1503000</td>\n",
              "      <td>126488000</td>\n",
              "      <td>148021000</td>\n",
              "      <td>520000</td>\n",
              "      <td>17555000</td>\n",
              "      <td>-203000</td>\n",
              "      <td>160192000</td>\n",
              "      <td>164690000</td>\n",
              "      <td>0</td>\n",
              "      <td>0</td>\n",
              "      <td>2143574000</td>\n",
              "      <td>102490000</td>\n",
              "      <td>23353000</td>\n",
              "      <td>112601000</td>\n",
              "      <td>102490000</td>\n",
              "    </tr>\n",
              "    <tr>\n",
              "      <th>4</th>\n",
              "      <td>4</td>\n",
              "      <td>2019</td>\n",
              "      <td>12089000</td>\n",
              "      <td>344088000</td>\n",
              "      <td>0</td>\n",
              "      <td>214000</td>\n",
              "      <td>-1511000</td>\n",
              "      <td>0</td>\n",
              "      <td>234000</td>\n",
              "      <td>23858000</td>\n",
              "      <td>10514000</td>\n",
              "      <td>353000</td>\n",
              "      <td>29000</td>\n",
              "      <td>0</td>\n",
              "      <td>35890000</td>\n",
              "      <td>22870000</td>\n",
              "      <td>0</td>\n",
              "      <td>0</td>\n",
              "      <td>331999000</td>\n",
              "      <td>19320000</td>\n",
              "      <td>3241000</td>\n",
              "      <td>1575000</td>\n",
              "      <td>19320000</td>\n",
              "    </tr>\n",
              "    <tr>\n",
              "      <th>...</th>\n",
              "      <td>...</td>\n",
              "      <td>...</td>\n",
              "      <td>...</td>\n",
              "      <td>...</td>\n",
              "      <td>...</td>\n",
              "      <td>...</td>\n",
              "      <td>...</td>\n",
              "      <td>...</td>\n",
              "      <td>...</td>\n",
              "      <td>...</td>\n",
              "      <td>...</td>\n",
              "      <td>...</td>\n",
              "      <td>...</td>\n",
              "      <td>...</td>\n",
              "      <td>...</td>\n",
              "      <td>...</td>\n",
              "      <td>...</td>\n",
              "      <td>...</td>\n",
              "      <td>...</td>\n",
              "      <td>...</td>\n",
              "      <td>...</td>\n",
              "      <td>...</td>\n",
              "      <td>...</td>\n",
              "    </tr>\n",
              "    <tr>\n",
              "      <th>3913</th>\n",
              "      <td>4389</td>\n",
              "      <td>2019</td>\n",
              "      <td>180000</td>\n",
              "      <td>40617000</td>\n",
              "      <td>0</td>\n",
              "      <td>0</td>\n",
              "      <td>0</td>\n",
              "      <td>0</td>\n",
              "      <td>0</td>\n",
              "      <td>11000</td>\n",
              "      <td>180000</td>\n",
              "      <td>0</td>\n",
              "      <td>0</td>\n",
              "      <td>0</td>\n",
              "      <td>374000</td>\n",
              "      <td>1133000</td>\n",
              "      <td>0</td>\n",
              "      <td>0</td>\n",
              "      <td>49733000</td>\n",
              "      <td>0</td>\n",
              "      <td>20000</td>\n",
              "      <td>0</td>\n",
              "      <td>2266000</td>\n",
              "    </tr>\n",
              "    <tr>\n",
              "      <th>3914</th>\n",
              "      <td>4390</td>\n",
              "      <td>2019</td>\n",
              "      <td>473575000</td>\n",
              "      <td>4427360000</td>\n",
              "      <td>0</td>\n",
              "      <td>38953000</td>\n",
              "      <td>-419000</td>\n",
              "      <td>293044000</td>\n",
              "      <td>-11523000</td>\n",
              "      <td>-250289000</td>\n",
              "      <td>-51988000</td>\n",
              "      <td>686000</td>\n",
              "      <td>134357000</td>\n",
              "      <td>-1647000</td>\n",
              "      <td>3410039000</td>\n",
              "      <td>3474669000</td>\n",
              "      <td>0</td>\n",
              "      <td>0</td>\n",
              "      <td>3953785000</td>\n",
              "      <td>-213402000</td>\n",
              "      <td>0</td>\n",
              "      <td>232519000</td>\n",
              "      <td>-213402000</td>\n",
              "    </tr>\n",
              "    <tr>\n",
              "      <th>3915</th>\n",
              "      <td>4391</td>\n",
              "      <td>2019</td>\n",
              "      <td>5985000</td>\n",
              "      <td>107198000</td>\n",
              "      <td>0</td>\n",
              "      <td>0</td>\n",
              "      <td>0</td>\n",
              "      <td>7149000</td>\n",
              "      <td>0</td>\n",
              "      <td>-2479000</td>\n",
              "      <td>-1164000</td>\n",
              "      <td>0</td>\n",
              "      <td>1485000</td>\n",
              "      <td>0</td>\n",
              "      <td>1103000</td>\n",
              "      <td>933000</td>\n",
              "      <td>0</td>\n",
              "      <td>0</td>\n",
              "      <td>101213000</td>\n",
              "      <td>-2479000</td>\n",
              "      <td>478000</td>\n",
              "      <td>0</td>\n",
              "      <td>-2479000</td>\n",
              "    </tr>\n",
              "    <tr>\n",
              "      <th>3916</th>\n",
              "      <td>4392</td>\n",
              "      <td>2019</td>\n",
              "      <td>24555000</td>\n",
              "      <td>253724000</td>\n",
              "      <td>0</td>\n",
              "      <td>-2644000</td>\n",
              "      <td>-117000</td>\n",
              "      <td>1376000</td>\n",
              "      <td>-326000</td>\n",
              "      <td>12177000</td>\n",
              "      <td>-28403000</td>\n",
              "      <td>0</td>\n",
              "      <td>0</td>\n",
              "      <td>-2929000</td>\n",
              "      <td>95362000</td>\n",
              "      <td>54782000</td>\n",
              "      <td>0</td>\n",
              "      <td>0</td>\n",
              "      <td>229169000</td>\n",
              "      <td>6487000</td>\n",
              "      <td>0</td>\n",
              "      <td>51582000</td>\n",
              "      <td>6487000</td>\n",
              "    </tr>\n",
              "    <tr>\n",
              "      <th>3917</th>\n",
              "      <td>4393</td>\n",
              "      <td>2019</td>\n",
              "      <td>59598000</td>\n",
              "      <td>59598000</td>\n",
              "      <td>0</td>\n",
              "      <td>0</td>\n",
              "      <td>0</td>\n",
              "      <td>45431000</td>\n",
              "      <td>0</td>\n",
              "      <td>1964000</td>\n",
              "      <td>7751000</td>\n",
              "      <td>0</td>\n",
              "      <td>0</td>\n",
              "      <td>0</td>\n",
              "      <td>3623000</td>\n",
              "      <td>9410000</td>\n",
              "      <td>0</td>\n",
              "      <td>0</td>\n",
              "      <td>0</td>\n",
              "      <td>1332000</td>\n",
              "      <td>632000</td>\n",
              "      <td>6416000</td>\n",
              "      <td>1332000</td>\n",
              "    </tr>\n",
              "  </tbody>\n",
              "</table>\n",
              "<p>3918 rows × 23 columns</p>\n",
              "</div>"
            ],
            "text/plain": [
              "        id  year  ...  Управленческие расходы  Чистая прибыль (убыток)\n",
              "0        0  2014  ...                79196000                  -244000\n",
              "1        1  2019  ...                       0                   263000\n",
              "2        2  2016  ...                       0                 -6670000\n",
              "3        3  2019  ...               112601000                102490000\n",
              "4        4  2019  ...                 1575000                 19320000\n",
              "...    ...   ...  ...                     ...                      ...\n",
              "3913  4389  2019  ...                       0                  2266000\n",
              "3914  4390  2019  ...               232519000               -213402000\n",
              "3915  4391  2019  ...                       0                 -2479000\n",
              "3916  4392  2019  ...                51582000                  6487000\n",
              "3917  4393  2019  ...                 6416000                  1332000\n",
              "\n",
              "[3918 rows x 23 columns]"
            ]
          },
          "metadata": {
            "tags": []
          },
          "execution_count": 233
        }
      ]
    },
    {
      "cell_type": "code",
      "metadata": {
        "id": "xckcm163WnXc",
        "colab": {
          "base_uri": "https://localhost:8080/",
          "height": 436
        },
        "outputId": "9b6d80ab-3a7d-4f17-d117-d7de4ea092b8"
      },
      "source": [
        "df_form_2_last_end_values.describe()"
      ],
      "execution_count": 234,
      "outputs": [
        {
          "output_type": "execute_result",
          "data": {
            "text/html": [
              "<div>\n",
              "<style scoped>\n",
              "    .dataframe tbody tr th:only-of-type {\n",
              "        vertical-align: middle;\n",
              "    }\n",
              "\n",
              "    .dataframe tbody tr th {\n",
              "        vertical-align: top;\n",
              "    }\n",
              "\n",
              "    .dataframe thead th {\n",
              "        text-align: right;\n",
              "    }\n",
              "</style>\n",
              "<table border=\"1\" class=\"dataframe\">\n",
              "  <thead>\n",
              "    <tr style=\"text-align: right;\">\n",
              "      <th></th>\n",
              "      <th>id</th>\n",
              "      <th>year</th>\n",
              "      <th>Валовая прибыль (убыток)</th>\n",
              "      <th>Выручка</th>\n",
              "      <th>Доходы от участия в других организациях</th>\n",
              "      <th>Изменение отложенных налоговых активов</th>\n",
              "      <th>Изменение отложенных налоговых обязательств</th>\n",
              "      <th>Коммерческие расходы</th>\n",
              "      <th>Постоянные налоговые обязательства (активы)</th>\n",
              "      <th>Прибыль (убыток) до налогообложения</th>\n",
              "      <th>Прибыль (убыток) от продаж</th>\n",
              "      <th>Проценты к получению</th>\n",
              "      <th>Проценты к уплате</th>\n",
              "      <th>Прочее</th>\n",
              "      <th>Прочие доходы</th>\n",
              "      <th>Прочие расходы</th>\n",
              "      <th>Результат от переоценки внеоборотных активов, не включаемый в чистую прибыль (убыток)</th>\n",
              "      <th>Результат от прочих операций, не включаемый в чистую прибыль (убыток) периода</th>\n",
              "      <th>Себестоимость продаж</th>\n",
              "      <th>Совокупный финансовый результат периода</th>\n",
              "      <th>Текущий налог на прибыль</th>\n",
              "      <th>Управленческие расходы</th>\n",
              "      <th>Чистая прибыль (убыток)</th>\n",
              "    </tr>\n",
              "  </thead>\n",
              "  <tbody>\n",
              "    <tr>\n",
              "      <th>count</th>\n",
              "      <td>3918.000000</td>\n",
              "      <td>3918.000000</td>\n",
              "      <td>3.918000e+03</td>\n",
              "      <td>3.918000e+03</td>\n",
              "      <td>3.918000e+03</td>\n",
              "      <td>3.918000e+03</td>\n",
              "      <td>3.918000e+03</td>\n",
              "      <td>3.918000e+03</td>\n",
              "      <td>3.918000e+03</td>\n",
              "      <td>3.918000e+03</td>\n",
              "      <td>3.918000e+03</td>\n",
              "      <td>3.918000e+03</td>\n",
              "      <td>3.918000e+03</td>\n",
              "      <td>3.918000e+03</td>\n",
              "      <td>3.918000e+03</td>\n",
              "      <td>3.918000e+03</td>\n",
              "      <td>3.918000e+03</td>\n",
              "      <td>3.918000e+03</td>\n",
              "      <td>3.918000e+03</td>\n",
              "      <td>3.918000e+03</td>\n",
              "      <td>3.918000e+03</td>\n",
              "      <td>3.918000e+03</td>\n",
              "      <td>3.918000e+03</td>\n",
              "    </tr>\n",
              "    <tr>\n",
              "      <th>mean</th>\n",
              "      <td>2191.348903</td>\n",
              "      <td>2018.398673</td>\n",
              "      <td>1.374464e+08</td>\n",
              "      <td>6.243030e+08</td>\n",
              "      <td>3.998843e+06</td>\n",
              "      <td>1.159590e+06</td>\n",
              "      <td>-3.495626e+06</td>\n",
              "      <td>2.327556e+07</td>\n",
              "      <td>2.541130e+06</td>\n",
              "      <td>6.043379e+07</td>\n",
              "      <td>8.002346e+07</td>\n",
              "      <td>4.526785e+06</td>\n",
              "      <td>1.327584e+07</td>\n",
              "      <td>-5.392956e+05</td>\n",
              "      <td>8.094590e+07</td>\n",
              "      <td>8.765324e+07</td>\n",
              "      <td>6.492213e+05</td>\n",
              "      <td>-5.359775e+04</td>\n",
              "      <td>3.826925e+08</td>\n",
              "      <td>4.558849e+07</td>\n",
              "      <td>-2.786780e+06</td>\n",
              "      <td>1.811641e+07</td>\n",
              "      <td>4.553965e+07</td>\n",
              "    </tr>\n",
              "    <tr>\n",
              "      <th>std</th>\n",
              "      <td>1272.222772</td>\n",
              "      <td>1.297793</td>\n",
              "      <td>2.104939e+09</td>\n",
              "      <td>4.172482e+09</td>\n",
              "      <td>1.610019e+08</td>\n",
              "      <td>1.320708e+08</td>\n",
              "      <td>1.542250e+08</td>\n",
              "      <td>2.488682e+08</td>\n",
              "      <td>1.417338e+08</td>\n",
              "      <td>2.039753e+09</td>\n",
              "      <td>1.909569e+09</td>\n",
              "      <td>5.765727e+07</td>\n",
              "      <td>3.182687e+08</td>\n",
              "      <td>1.511672e+07</td>\n",
              "      <td>2.175873e+09</td>\n",
              "      <td>2.189363e+09</td>\n",
              "      <td>2.441839e+07</td>\n",
              "      <td>1.574916e+06</td>\n",
              "      <td>2.689207e+09</td>\n",
              "      <td>1.700356e+09</td>\n",
              "      <td>3.124280e+08</td>\n",
              "      <td>1.780828e+08</td>\n",
              "      <td>1.699739e+09</td>\n",
              "    </tr>\n",
              "    <tr>\n",
              "      <th>min</th>\n",
              "      <td>0.000000</td>\n",
              "      <td>2013.000000</td>\n",
              "      <td>-3.871840e+08</td>\n",
              "      <td>0.000000e+00</td>\n",
              "      <td>0.000000e+00</td>\n",
              "      <td>-3.924264e+09</td>\n",
              "      <td>-9.163369e+09</td>\n",
              "      <td>-7.184757e+09</td>\n",
              "      <td>-1.224371e+09</td>\n",
              "      <td>-4.317534e+10</td>\n",
              "      <td>-2.711271e+09</td>\n",
              "      <td>0.000000e+00</td>\n",
              "      <td>-2.453807e+09</td>\n",
              "      <td>-8.974470e+08</td>\n",
              "      <td>-7.890000e+06</td>\n",
              "      <td>-3.320212e+09</td>\n",
              "      <td>-1.915060e+08</td>\n",
              "      <td>-5.909000e+07</td>\n",
              "      <td>-6.339559e+10</td>\n",
              "      <td>-4.322729e+10</td>\n",
              "      <td>-1.877439e+10</td>\n",
              "      <td>-2.150178e+09</td>\n",
              "      <td>-4.322729e+10</td>\n",
              "    </tr>\n",
              "    <tr>\n",
              "      <th>25%</th>\n",
              "      <td>1091.250000</td>\n",
              "      <td>2019.000000</td>\n",
              "      <td>2.002500e+05</td>\n",
              "      <td>1.712525e+07</td>\n",
              "      <td>0.000000e+00</td>\n",
              "      <td>0.000000e+00</td>\n",
              "      <td>0.000000e+00</td>\n",
              "      <td>0.000000e+00</td>\n",
              "      <td>0.000000e+00</td>\n",
              "      <td>0.000000e+00</td>\n",
              "      <td>0.000000e+00</td>\n",
              "      <td>0.000000e+00</td>\n",
              "      <td>0.000000e+00</td>\n",
              "      <td>0.000000e+00</td>\n",
              "      <td>0.000000e+00</td>\n",
              "      <td>1.130000e+05</td>\n",
              "      <td>0.000000e+00</td>\n",
              "      <td>0.000000e+00</td>\n",
              "      <td>6.035500e+06</td>\n",
              "      <td>0.000000e+00</td>\n",
              "      <td>0.000000e+00</td>\n",
              "      <td>0.000000e+00</td>\n",
              "      <td>0.000000e+00</td>\n",
              "    </tr>\n",
              "    <tr>\n",
              "      <th>50%</th>\n",
              "      <td>2183.500000</td>\n",
              "      <td>2019.000000</td>\n",
              "      <td>8.928000e+06</td>\n",
              "      <td>9.071700e+07</td>\n",
              "      <td>0.000000e+00</td>\n",
              "      <td>0.000000e+00</td>\n",
              "      <td>0.000000e+00</td>\n",
              "      <td>0.000000e+00</td>\n",
              "      <td>0.000000e+00</td>\n",
              "      <td>1.153500e+06</td>\n",
              "      <td>1.735000e+06</td>\n",
              "      <td>0.000000e+00</td>\n",
              "      <td>0.000000e+00</td>\n",
              "      <td>0.000000e+00</td>\n",
              "      <td>9.545000e+05</td>\n",
              "      <td>1.765000e+06</td>\n",
              "      <td>0.000000e+00</td>\n",
              "      <td>0.000000e+00</td>\n",
              "      <td>6.728400e+07</td>\n",
              "      <td>1.425000e+05</td>\n",
              "      <td>8.200000e+04</td>\n",
              "      <td>0.000000e+00</td>\n",
              "      <td>7.035000e+05</td>\n",
              "    </tr>\n",
              "    <tr>\n",
              "      <th>75%</th>\n",
              "      <td>3292.750000</td>\n",
              "      <td>2019.000000</td>\n",
              "      <td>4.806200e+07</td>\n",
              "      <td>3.030970e+08</td>\n",
              "      <td>0.000000e+00</td>\n",
              "      <td>0.000000e+00</td>\n",
              "      <td>0.000000e+00</td>\n",
              "      <td>6.792500e+06</td>\n",
              "      <td>0.000000e+00</td>\n",
              "      <td>9.099750e+06</td>\n",
              "      <td>1.266525e+07</td>\n",
              "      <td>4.300000e+04</td>\n",
              "      <td>8.435000e+05</td>\n",
              "      <td>0.000000e+00</td>\n",
              "      <td>9.797250e+06</td>\n",
              "      <td>1.184400e+07</td>\n",
              "      <td>0.000000e+00</td>\n",
              "      <td>0.000000e+00</td>\n",
              "      <td>2.309438e+08</td>\n",
              "      <td>5.041750e+06</td>\n",
              "      <td>9.470000e+05</td>\n",
              "      <td>5.661750e+06</td>\n",
              "      <td>7.088000e+06</td>\n",
              "    </tr>\n",
              "    <tr>\n",
              "      <th>max</th>\n",
              "      <td>4393.000000</td>\n",
              "      <td>2019.000000</td>\n",
              "      <td>1.141830e+11</td>\n",
              "      <td>1.636536e+11</td>\n",
              "      <td>9.879988e+09</td>\n",
              "      <td>7.207014e+09</td>\n",
              "      <td>5.973800e+08</td>\n",
              "      <td>6.585791e+09</td>\n",
              "      <td>8.636166e+09</td>\n",
              "      <td>1.074119e+11</td>\n",
              "      <td>1.028611e+11</td>\n",
              "      <td>1.952770e+09</td>\n",
              "      <td>1.866230e+10</td>\n",
              "      <td>1.051820e+08</td>\n",
              "      <td>1.342947e+11</td>\n",
              "      <td>1.229144e+11</td>\n",
              "      <td>1.309751e+09</td>\n",
              "      <td>3.072500e+07</td>\n",
              "      <td>6.988172e+10</td>\n",
              "      <td>8.668934e+10</td>\n",
              "      <td>2.916781e+09</td>\n",
              "      <td>9.670982e+09</td>\n",
              "      <td>8.669326e+10</td>\n",
              "    </tr>\n",
              "  </tbody>\n",
              "</table>\n",
              "</div>"
            ],
            "text/plain": [
              "                id  ...  Чистая прибыль (убыток)\n",
              "count  3918.000000  ...             3.918000e+03\n",
              "mean   2191.348903  ...             4.553965e+07\n",
              "std    1272.222772  ...             1.699739e+09\n",
              "min       0.000000  ...            -4.322729e+10\n",
              "25%    1091.250000  ...             0.000000e+00\n",
              "50%    2183.500000  ...             7.035000e+05\n",
              "75%    3292.750000  ...             7.088000e+06\n",
              "max    4393.000000  ...             8.669326e+10\n",
              "\n",
              "[8 rows x 23 columns]"
            ]
          },
          "metadata": {
            "tags": []
          },
          "execution_count": 234
        }
      ]
    },
    {
      "cell_type": "markdown",
      "metadata": {
        "id": "VgcZeoo6T-vv"
      },
      "source": [
        "Financial data includes general information about the organizations and 2 forms of balance-sheet, which contained a large amount of NaN values. So features with more than 75% of the missing information were dropped and the rest were filled with last year's values since predictions will be made for a year ahead."
      ]
    },
    {
      "cell_type": "markdown",
      "metadata": {
        "id": "wOx8pnqgdQOS"
      },
      "source": [
        "## 1.3. Flags data"
      ]
    },
    {
      "cell_type": "markdown",
      "metadata": {
        "id": "1gXMLOoydgg1"
      },
      "source": [
        "- id: ID компании\n",
        "- default_date: Дата дефолта (решение суда о признании компании банкротом)"
      ]
    },
    {
      "cell_type": "code",
      "metadata": {
        "id": "_Y1jsgbN08-3",
        "colab": {
          "base_uri": "https://localhost:8080/",
          "height": 357
        },
        "outputId": "e0fa5ae0-3db0-426a-cf26-80c55946231d"
      },
      "source": [
        "# loading flags data\n",
        "df_flags = pd.read_csv('flags.csv', sep = ';', parse_dates=['default_date'])\n",
        "df_flags.info()\n",
        "df_flags.head()"
      ],
      "execution_count": 235,
      "outputs": [
        {
          "output_type": "stream",
          "text": [
            "<class 'pandas.core.frame.DataFrame'>\n",
            "RangeIndex: 223 entries, 0 to 222\n",
            "Data columns (total 2 columns):\n",
            " #   Column        Non-Null Count  Dtype         \n",
            "---  ------        --------------  -----         \n",
            " 0   id            223 non-null    int64         \n",
            " 1   default_date  223 non-null    datetime64[ns]\n",
            "dtypes: datetime64[ns](1), int64(1)\n",
            "memory usage: 3.6 KB\n"
          ],
          "name": "stdout"
        },
        {
          "output_type": "execute_result",
          "data": {
            "text/html": [
              "<div>\n",
              "<style scoped>\n",
              "    .dataframe tbody tr th:only-of-type {\n",
              "        vertical-align: middle;\n",
              "    }\n",
              "\n",
              "    .dataframe tbody tr th {\n",
              "        vertical-align: top;\n",
              "    }\n",
              "\n",
              "    .dataframe thead th {\n",
              "        text-align: right;\n",
              "    }\n",
              "</style>\n",
              "<table border=\"1\" class=\"dataframe\">\n",
              "  <thead>\n",
              "    <tr style=\"text-align: right;\">\n",
              "      <th></th>\n",
              "      <th>id</th>\n",
              "      <th>default_date</th>\n",
              "    </tr>\n",
              "  </thead>\n",
              "  <tbody>\n",
              "    <tr>\n",
              "      <th>0</th>\n",
              "      <td>2</td>\n",
              "      <td>2017-07-26</td>\n",
              "    </tr>\n",
              "    <tr>\n",
              "      <th>1</th>\n",
              "      <td>29</td>\n",
              "      <td>2015-07-29</td>\n",
              "    </tr>\n",
              "    <tr>\n",
              "      <th>2</th>\n",
              "      <td>70</td>\n",
              "      <td>2016-12-29</td>\n",
              "    </tr>\n",
              "    <tr>\n",
              "      <th>3</th>\n",
              "      <td>75</td>\n",
              "      <td>2016-01-07</td>\n",
              "    </tr>\n",
              "    <tr>\n",
              "      <th>4</th>\n",
              "      <td>81</td>\n",
              "      <td>2019-09-30</td>\n",
              "    </tr>\n",
              "  </tbody>\n",
              "</table>\n",
              "</div>"
            ],
            "text/plain": [
              "   id default_date\n",
              "0   2   2017-07-26\n",
              "1  29   2015-07-29\n",
              "2  70   2016-12-29\n",
              "3  75   2016-01-07\n",
              "4  81   2019-09-30"
            ]
          },
          "metadata": {
            "tags": []
          },
          "execution_count": 235
        }
      ]
    },
    {
      "cell_type": "code",
      "metadata": {
        "id": "BrVDF3_EIF5a",
        "colab": {
          "base_uri": "https://localhost:8080/",
          "height": 204
        },
        "outputId": "2249018a-6ed9-4acd-f34d-bc475c994caf"
      },
      "source": [
        "# assigning status and extracting year\n",
        "df_flags['default_status'] = 1\n",
        "df_flags['default_year'] = pd.DatetimeIndex(df_flags['default_date']).year\n",
        "df_flags['year'] = df_flags['default_year'] - 1\n",
        "df_flags.head()"
      ],
      "execution_count": 236,
      "outputs": [
        {
          "output_type": "execute_result",
          "data": {
            "text/html": [
              "<div>\n",
              "<style scoped>\n",
              "    .dataframe tbody tr th:only-of-type {\n",
              "        vertical-align: middle;\n",
              "    }\n",
              "\n",
              "    .dataframe tbody tr th {\n",
              "        vertical-align: top;\n",
              "    }\n",
              "\n",
              "    .dataframe thead th {\n",
              "        text-align: right;\n",
              "    }\n",
              "</style>\n",
              "<table border=\"1\" class=\"dataframe\">\n",
              "  <thead>\n",
              "    <tr style=\"text-align: right;\">\n",
              "      <th></th>\n",
              "      <th>id</th>\n",
              "      <th>default_date</th>\n",
              "      <th>default_status</th>\n",
              "      <th>default_year</th>\n",
              "      <th>year</th>\n",
              "    </tr>\n",
              "  </thead>\n",
              "  <tbody>\n",
              "    <tr>\n",
              "      <th>0</th>\n",
              "      <td>2</td>\n",
              "      <td>2017-07-26</td>\n",
              "      <td>1</td>\n",
              "      <td>2017</td>\n",
              "      <td>2016</td>\n",
              "    </tr>\n",
              "    <tr>\n",
              "      <th>1</th>\n",
              "      <td>29</td>\n",
              "      <td>2015-07-29</td>\n",
              "      <td>1</td>\n",
              "      <td>2015</td>\n",
              "      <td>2014</td>\n",
              "    </tr>\n",
              "    <tr>\n",
              "      <th>2</th>\n",
              "      <td>70</td>\n",
              "      <td>2016-12-29</td>\n",
              "      <td>1</td>\n",
              "      <td>2016</td>\n",
              "      <td>2015</td>\n",
              "    </tr>\n",
              "    <tr>\n",
              "      <th>3</th>\n",
              "      <td>75</td>\n",
              "      <td>2016-01-07</td>\n",
              "      <td>1</td>\n",
              "      <td>2016</td>\n",
              "      <td>2015</td>\n",
              "    </tr>\n",
              "    <tr>\n",
              "      <th>4</th>\n",
              "      <td>81</td>\n",
              "      <td>2019-09-30</td>\n",
              "      <td>1</td>\n",
              "      <td>2019</td>\n",
              "      <td>2018</td>\n",
              "    </tr>\n",
              "  </tbody>\n",
              "</table>\n",
              "</div>"
            ],
            "text/plain": [
              "   id default_date  default_status  default_year  year\n",
              "0   2   2017-07-26               1          2017  2016\n",
              "1  29   2015-07-29               1          2015  2014\n",
              "2  70   2016-12-29               1          2016  2015\n",
              "3  75   2016-01-07               1          2016  2015\n",
              "4  81   2019-09-30               1          2019  2018"
            ]
          },
          "metadata": {
            "tags": []
          },
          "execution_count": 236
        }
      ]
    },
    {
      "cell_type": "code",
      "metadata": {
        "id": "5HZgT2o62pbd",
        "colab": {
          "base_uri": "https://localhost:8080/",
          "height": 297
        },
        "outputId": "04d2ae7b-07d8-4a02-f20f-94ad86b5784a"
      },
      "source": [
        "# default by year\n",
        "df_default_by_year = df_flags.groupby('default_year').agg({'default_status': 'count'}).reset_index()\n",
        "df_default_by_year"
      ],
      "execution_count": 237,
      "outputs": [
        {
          "output_type": "execute_result",
          "data": {
            "text/html": [
              "<div>\n",
              "<style scoped>\n",
              "    .dataframe tbody tr th:only-of-type {\n",
              "        vertical-align: middle;\n",
              "    }\n",
              "\n",
              "    .dataframe tbody tr th {\n",
              "        vertical-align: top;\n",
              "    }\n",
              "\n",
              "    .dataframe thead th {\n",
              "        text-align: right;\n",
              "    }\n",
              "</style>\n",
              "<table border=\"1\" class=\"dataframe\">\n",
              "  <thead>\n",
              "    <tr style=\"text-align: right;\">\n",
              "      <th></th>\n",
              "      <th>default_year</th>\n",
              "      <th>default_status</th>\n",
              "    </tr>\n",
              "  </thead>\n",
              "  <tbody>\n",
              "    <tr>\n",
              "      <th>0</th>\n",
              "      <td>2014</td>\n",
              "      <td>1</td>\n",
              "    </tr>\n",
              "    <tr>\n",
              "      <th>1</th>\n",
              "      <td>2015</td>\n",
              "      <td>9</td>\n",
              "    </tr>\n",
              "    <tr>\n",
              "      <th>2</th>\n",
              "      <td>2016</td>\n",
              "      <td>17</td>\n",
              "    </tr>\n",
              "    <tr>\n",
              "      <th>3</th>\n",
              "      <td>2017</td>\n",
              "      <td>37</td>\n",
              "    </tr>\n",
              "    <tr>\n",
              "      <th>4</th>\n",
              "      <td>2018</td>\n",
              "      <td>57</td>\n",
              "    </tr>\n",
              "    <tr>\n",
              "      <th>5</th>\n",
              "      <td>2019</td>\n",
              "      <td>40</td>\n",
              "    </tr>\n",
              "    <tr>\n",
              "      <th>6</th>\n",
              "      <td>2020</td>\n",
              "      <td>58</td>\n",
              "    </tr>\n",
              "    <tr>\n",
              "      <th>7</th>\n",
              "      <td>2021</td>\n",
              "      <td>4</td>\n",
              "    </tr>\n",
              "  </tbody>\n",
              "</table>\n",
              "</div>"
            ],
            "text/plain": [
              "   default_year  default_status\n",
              "0          2014               1\n",
              "1          2015               9\n",
              "2          2016              17\n",
              "3          2017              37\n",
              "4          2018              57\n",
              "5          2019              40\n",
              "6          2020              58\n",
              "7          2021               4"
            ]
          },
          "metadata": {
            "tags": []
          },
          "execution_count": 237
        }
      ]
    },
    {
      "cell_type": "code",
      "metadata": {
        "id": "k21iql1G3PKi",
        "colab": {
          "base_uri": "https://localhost:8080/",
          "height": 301
        },
        "outputId": "d0688eea-5607-4643-8976-e796afd6f9a7"
      },
      "source": [
        "plt.figure(figsize=(12, 4))\n",
        "sns.lineplot(x=df_default_by_year['default_year'], y=df_default_by_year['default_status'])\n",
        "plt.title('Default dynamics')\n",
        "plt.show()"
      ],
      "execution_count": 238,
      "outputs": [
        {
          "output_type": "display_data",
          "data": {
            "image/png": "[encoded data removed]",
            "text/plain": [
              "<Figure size 864x288 with 1 Axes>"
            ]
          },
          "metadata": {
            "tags": []
          }
        }
      ]
    },
    {
      "cell_type": "markdown",
      "metadata": {
        "id": "6y_Nw8LVADHV"
      },
      "source": [
        "### 1.3.1. Dependencies with qualitative features"
      ]
    },
    {
      "cell_type": "code",
      "metadata": {
        "id": "ui-WYQZsyDU-",
        "colab": {
          "base_uri": "https://localhost:8080/",
          "height": 751
        },
        "outputId": "7d0b05b5-67ed-4d3b-eeff-0b5483ad0b1b"
      },
      "source": [
        "# merging with qualitive data\n",
        "df_default_org_info = pd.merge(df_flags, df_qual[['id', 'regBody.nalogCode', 'statedCapital.sum',\n",
        "                                      'activities.principalActivity.text']], on=['id'], how='left')\n",
        "df_default_org_info.rename(columns = {'activities.principalActivity.text': 'activity'}, inplace=True)\n",
        "df_default_org_info.info()\n",
        "df_default_org_info.head()"
      ],
      "execution_count": 239,
      "outputs": [
        {
          "output_type": "stream",
          "text": [
            "<class 'pandas.core.frame.DataFrame'>\n",
            "Int64Index: 223 entries, 0 to 222\n",
            "Data columns (total 8 columns):\n",
            " #   Column             Non-Null Count  Dtype         \n",
            "---  ------             --------------  -----         \n",
            " 0   id                 223 non-null    int64         \n",
            " 1   default_date       223 non-null    datetime64[ns]\n",
            " 2   default_status     223 non-null    int64         \n",
            " 3   default_year       223 non-null    int64         \n",
            " 4   year               223 non-null    int64         \n",
            " 5   regBody.nalogCode  223 non-null    object        \n",
            " 6   statedCapital.sum  214 non-null    float64       \n",
            " 7   activity           223 non-null    object        \n",
            "dtypes: datetime64[ns](1), float64(1), int64(4), object(2)\n",
            "memory usage: 15.7+ KB\n"
          ],
          "name": "stdout"
        },
        {
          "output_type": "execute_result",
          "data": {
            "text/html": [
              "<div>\n",
              "<style scoped>\n",
              "    .dataframe tbody tr th:only-of-type {\n",
              "        vertical-align: middle;\n",
              "    }\n",
              "\n",
              "    .dataframe tbody tr th {\n",
              "        vertical-align: top;\n",
              "    }\n",
              "\n",
              "    .dataframe thead th {\n",
              "        text-align: right;\n",
              "    }\n",
              "</style>\n",
              "<table border=\"1\" class=\"dataframe\">\n",
              "  <thead>\n",
              "    <tr style=\"text-align: right;\">\n",
              "      <th></th>\n",
              "      <th>id</th>\n",
              "      <th>default_date</th>\n",
              "      <th>default_status</th>\n",
              "      <th>default_year</th>\n",
              "      <th>year</th>\n",
              "      <th>regBody.nalogCode</th>\n",
              "      <th>statedCapital.sum</th>\n",
              "      <th>activity</th>\n",
              "    </tr>\n",
              "  </thead>\n",
              "  <tbody>\n",
              "    <tr>\n",
              "      <th>0</th>\n",
              "      <td>2</td>\n",
              "      <td>2017-07-26</td>\n",
              "      <td>1</td>\n",
              "      <td>2017</td>\n",
              "      <td>2016</td>\n",
              "      <td>1215</td>\n",
              "      <td>10000.0</td>\n",
              "      <td>Торговля розничная лекарственными средствами в...</td>\n",
              "    </tr>\n",
              "    <tr>\n",
              "      <th>1</th>\n",
              "      <td>29</td>\n",
              "      <td>2015-07-29</td>\n",
              "      <td>1</td>\n",
              "      <td>2015</td>\n",
              "      <td>2014</td>\n",
              "      <td>4205</td>\n",
              "      <td>20000.0</td>\n",
              "      <td>Оптовая торговля рыбой, морепродуктами и рыбны...</td>\n",
              "    </tr>\n",
              "    <tr>\n",
              "      <th>2</th>\n",
              "      <td>70</td>\n",
              "      <td>2016-12-29</td>\n",
              "      <td>1</td>\n",
              "      <td>2016</td>\n",
              "      <td>2015</td>\n",
              "      <td>6196</td>\n",
              "      <td>10000.0</td>\n",
              "      <td>Торговля оптовая пищевыми продуктами, напиткам...</td>\n",
              "    </tr>\n",
              "    <tr>\n",
              "      <th>3</th>\n",
              "      <td>75</td>\n",
              "      <td>2016-01-07</td>\n",
              "      <td>1</td>\n",
              "      <td>2016</td>\n",
              "      <td>2015</td>\n",
              "      <td>3328</td>\n",
              "      <td>11000.0</td>\n",
              "      <td>Производство прочих деревянных изделий</td>\n",
              "    </tr>\n",
              "    <tr>\n",
              "      <th>4</th>\n",
              "      <td>81</td>\n",
              "      <td>2019-09-30</td>\n",
              "      <td>1</td>\n",
              "      <td>2019</td>\n",
              "      <td>2018</td>\n",
              "      <td>7746</td>\n",
              "      <td>10000.0</td>\n",
              "      <td>Торговля розничная, осуществляемая непосредств...</td>\n",
              "    </tr>\n",
              "  </tbody>\n",
              "</table>\n",
              "</div>"
            ],
            "text/plain": [
              "   id  ...                                           activity\n",
              "0   2  ...  Торговля розничная лекарственными средствами в...\n",
              "1  29  ...  Оптовая торговля рыбой, морепродуктами и рыбны...\n",
              "2  70  ...  Торговля оптовая пищевыми продуктами, напиткам...\n",
              "3  75  ...             Производство прочих деревянных изделий\n",
              "4  81  ...  Торговля розничная, осуществляемая непосредств...\n",
              "\n",
              "[5 rows x 8 columns]"
            ]
          },
          "metadata": {
            "tags": []
          },
          "execution_count": 239
        }
      ]
    },
    {
      "cell_type": "code",
      "metadata": {
        "id": "Crmf1fP5JHL6",
        "colab": {
          "base_uri": "https://localhost:8080/"
        },
        "outputId": "52b82519-192a-4956-b477-995f7f0eee8f"
      },
      "source": [
        "# the most affected sectors\n",
        "df_by_sector = df_default_org_info.groupby('activity').agg({'default_status': 'count'}).reset_index()\n",
        "df_by_sector = df_by_sector.sort_values(by='default_status', ascending=False).head()\n",
        "sectors = df_by_sector['activity']\n",
        "sectors"
      ],
      "execution_count": 240,
      "outputs": [
        {
          "output_type": "execute_result",
          "data": {
            "text/plain": [
              "80                  Строительство жилых и нежилых зданий\n",
              "97                 Торговля оптовая неспециализированная\n",
              "102           Торговля оптовая прочими бытовыми товарами\n",
              "99     Торговля оптовая пищевыми продуктами, напиткам...\n",
              "79     Строительство автомобильных дорог и автомагист...\n",
              "Name: activity, dtype: object"
            ]
          },
          "metadata": {
            "tags": []
          },
          "execution_count": 240
        }
      ]
    },
    {
      "cell_type": "code",
      "metadata": {
        "id": "99qYGgJtSitO"
      },
      "source": [
        "df_default_by_sector = df_default_org_info.query('activity in @sectors')\n",
        "df_default_by_sector = df_default_by_sector.groupby(['activity', 'default_year']).agg({'default_status': 'count'}).reset_index()\n"
      ],
      "execution_count": 241,
      "outputs": []
    },
    {
      "cell_type": "code",
      "metadata": {
        "id": "BILQ0eTQ54SG",
        "colab": {
          "base_uri": "https://localhost:8080/",
          "height": 364
        },
        "outputId": "7e29049c-ec1f-4fa3-e2cc-58d0063ccb64"
      },
      "source": [
        "plt.figure(figsize=(15, 6))\n",
        "sns.lineplot(x = 'default_year', y = 'default_status', hue='activity', data = df_default_by_sector)\n",
        "plt.title('Default by economic sector')\n",
        "plt.show()"
      ],
      "execution_count": 242,
      "outputs": [
        {
          "output_type": "display_data",
          "data": {
            "image/png": "[encoded data removed]",
            "text/plain": [
              "<Figure size 1080x432 with 1 Axes>"
            ]
          },
          "metadata": {
            "tags": []
          }
        }
      ]
    },
    {
      "cell_type": "code",
      "metadata": {
        "id": "eBMYJwDEVm_I",
        "colab": {
          "base_uri": "https://localhost:8080/",
          "height": 479
        },
        "outputId": "f5b79944-cd85-4595-9d7b-b16baccb8471"
      },
      "source": [
        "df_by_type = pd.merge(df_flags, df_org_info_by_id_last_year, on='id', how='left')\n",
        "df_by_type.info()\n",
        "df_by_type.head()"
      ],
      "execution_count": 243,
      "outputs": [
        {
          "output_type": "stream",
          "text": [
            "<class 'pandas.core.frame.DataFrame'>\n",
            "Int64Index: 223 entries, 0 to 222\n",
            "Data columns (total 8 columns):\n",
            " #   Column            Non-Null Count  Dtype         \n",
            "---  ------            --------------  -----         \n",
            " 0   id                223 non-null    int64         \n",
            " 1   default_date      223 non-null    datetime64[ns]\n",
            " 2   default_status    223 non-null    int64         \n",
            " 3   default_year      223 non-null    int64         \n",
            " 4   year              223 non-null    int64         \n",
            " 5   organizationType  223 non-null    object        \n",
            " 6   num_of_forms      223 non-null    int64         \n",
            " 7   last_year         223 non-null    int64         \n",
            "dtypes: datetime64[ns](1), int64(6), object(1)\n",
            "memory usage: 15.7+ KB\n"
          ],
          "name": "stdout"
        },
        {
          "output_type": "execute_result",
          "data": {
            "text/html": [
              "<div>\n",
              "<style scoped>\n",
              "    .dataframe tbody tr th:only-of-type {\n",
              "        vertical-align: middle;\n",
              "    }\n",
              "\n",
              "    .dataframe tbody tr th {\n",
              "        vertical-align: top;\n",
              "    }\n",
              "\n",
              "    .dataframe thead th {\n",
              "        text-align: right;\n",
              "    }\n",
              "</style>\n",
              "<table border=\"1\" class=\"dataframe\">\n",
              "  <thead>\n",
              "    <tr style=\"text-align: right;\">\n",
              "      <th></th>\n",
              "      <th>id</th>\n",
              "      <th>default_date</th>\n",
              "      <th>default_status</th>\n",
              "      <th>default_year</th>\n",
              "      <th>year</th>\n",
              "      <th>organizationType</th>\n",
              "      <th>num_of_forms</th>\n",
              "      <th>last_year</th>\n",
              "    </tr>\n",
              "  </thead>\n",
              "  <tbody>\n",
              "    <tr>\n",
              "      <th>0</th>\n",
              "      <td>2</td>\n",
              "      <td>2017-07-26</td>\n",
              "      <td>1</td>\n",
              "      <td>2017</td>\n",
              "      <td>2016</td>\n",
              "      <td>Small</td>\n",
              "      <td>5</td>\n",
              "      <td>2016</td>\n",
              "    </tr>\n",
              "    <tr>\n",
              "      <th>1</th>\n",
              "      <td>29</td>\n",
              "      <td>2015-07-29</td>\n",
              "      <td>1</td>\n",
              "      <td>2015</td>\n",
              "      <td>2014</td>\n",
              "      <td>Small</td>\n",
              "      <td>3</td>\n",
              "      <td>2014</td>\n",
              "    </tr>\n",
              "    <tr>\n",
              "      <th>2</th>\n",
              "      <td>70</td>\n",
              "      <td>2016-12-29</td>\n",
              "      <td>1</td>\n",
              "      <td>2016</td>\n",
              "      <td>2015</td>\n",
              "      <td>Small</td>\n",
              "      <td>4</td>\n",
              "      <td>2015</td>\n",
              "    </tr>\n",
              "    <tr>\n",
              "      <th>3</th>\n",
              "      <td>75</td>\n",
              "      <td>2016-01-07</td>\n",
              "      <td>1</td>\n",
              "      <td>2016</td>\n",
              "      <td>2015</td>\n",
              "      <td>Small</td>\n",
              "      <td>2</td>\n",
              "      <td>2013</td>\n",
              "    </tr>\n",
              "    <tr>\n",
              "      <th>4</th>\n",
              "      <td>81</td>\n",
              "      <td>2019-09-30</td>\n",
              "      <td>1</td>\n",
              "      <td>2019</td>\n",
              "      <td>2018</td>\n",
              "      <td>Large</td>\n",
              "      <td>1</td>\n",
              "      <td>2016</td>\n",
              "    </tr>\n",
              "  </tbody>\n",
              "</table>\n",
              "</div>"
            ],
            "text/plain": [
              "   id default_date  default_status  ...  organizationType  num_of_forms last_year\n",
              "0   2   2017-07-26               1  ...             Small             5      2016\n",
              "1  29   2015-07-29               1  ...             Small             3      2014\n",
              "2  70   2016-12-29               1  ...             Small             4      2015\n",
              "3  75   2016-01-07               1  ...             Small             2      2013\n",
              "4  81   2019-09-30               1  ...             Large             1      2016\n",
              "\n",
              "[5 rows x 8 columns]"
            ]
          },
          "metadata": {
            "tags": []
          },
          "execution_count": 243
        }
      ]
    },
    {
      "cell_type": "code",
      "metadata": {
        "id": "ZTSte30Q19xA",
        "colab": {
          "base_uri": "https://localhost:8080/",
          "height": 313
        },
        "outputId": "465852eb-1363-473d-ad3f-a4298d41aa12"
      },
      "source": [
        "df_default_by_type = df_by_type.groupby(['organizationType', 'default_year']).agg({'default_status': 'count'}).reset_index()\n",
        "\n",
        "plt.figure(figsize=(15, 5))\n",
        "sns.lineplot(x = 'default_year', y = 'default_status', hue='organizationType', data = df_default_by_type)\n",
        "plt.title('Default by organization type')\n",
        "plt.show()"
      ],
      "execution_count": 244,
      "outputs": [
        {
          "output_type": "display_data",
          "data": {
            "image/png": "[encoded data removed]",
            "text/plain": [
              "<Figure size 1080x360 with 1 Axes>"
            ]
          },
          "metadata": {
            "tags": []
          }
        }
      ]
    },
    {
      "cell_type": "markdown",
      "metadata": {
        "id": "5lPBSvvEAK5d"
      },
      "source": [
        "### 1.3.2. Dependencies with financial features"
      ]
    },
    {
      "cell_type": "code",
      "metadata": {
        "id": "Fzvvn6fYfogS",
        "colab": {
          "base_uri": "https://localhost:8080/",
          "height": 575
        },
        "outputId": "30fa477d-dc73-4a5e-f929-36f22a9f01aa"
      },
      "source": [
        "df_full_forms = pd.merge(df_form_1_last_end_values, df_form_2_last_end_values, on=['id'])\n",
        "df_full_forms"
      ],
      "execution_count": 245,
      "outputs": [
        {
          "output_type": "execute_result",
          "data": {
            "text/html": [
              "<div>\n",
              "<style scoped>\n",
              "    .dataframe tbody tr th:only-of-type {\n",
              "        vertical-align: middle;\n",
              "    }\n",
              "\n",
              "    .dataframe tbody tr th {\n",
              "        vertical-align: top;\n",
              "    }\n",
              "\n",
              "    .dataframe thead th {\n",
              "        text-align: right;\n",
              "    }\n",
              "</style>\n",
              "<table border=\"1\" class=\"dataframe\">\n",
              "  <thead>\n",
              "    <tr style=\"text-align: right;\">\n",
              "      <th></th>\n",
              "      <th>id</th>\n",
              "      <th>year_x</th>\n",
              "      <th>Баланс</th>\n",
              "      <th>Дебиторская задолженность</th>\n",
              "      <th>Денежные средства и денежные эквиваленты</th>\n",
              "      <th>Добавочный капитал (без переоценки)</th>\n",
              "      <th>Доходные вложения в материальные ценности</th>\n",
              "      <th>Доходы будущих периодов</th>\n",
              "      <th>Заемные средства</th>\n",
              "      <th>Запасы</th>\n",
              "      <th>Итого</th>\n",
              "      <th>Кредиторская задолженность</th>\n",
              "      <th>Материальные поисковые активы</th>\n",
              "      <th>НДС по приобретенным ценностям</th>\n",
              "      <th>Нематериальные активы</th>\n",
              "      <th>Нематериальные поисковые активы</th>\n",
              "      <th>Нераспределенная прибыль (непокрытый убыток)</th>\n",
              "      <th>Основные средства</th>\n",
              "      <th>Отложенные налоговые активы</th>\n",
              "      <th>Отложенные налоговые обязательства</th>\n",
              "      <th>Оценочные обязательства</th>\n",
              "      <th>Переоценка внеоборотных активов</th>\n",
              "      <th>Прочие внеоборотные активы</th>\n",
              "      <th>Прочие оборотные активы</th>\n",
              "      <th>Прочие обязательства</th>\n",
              "      <th>Резервный капитал</th>\n",
              "      <th>Результаты исследований и разработок</th>\n",
              "      <th>Собственные акции, выкупленные у акционеров</th>\n",
              "      <th>Уставный капитал</th>\n",
              "      <th>Финансовые вложения</th>\n",
              "      <th>Финансовые вложения (за исключением денежных эквивалентов)</th>\n",
              "      <th>year_y</th>\n",
              "      <th>Валовая прибыль (убыток)</th>\n",
              "      <th>Выручка</th>\n",
              "      <th>Доходы от участия в других организациях</th>\n",
              "      <th>Изменение отложенных налоговых активов</th>\n",
              "      <th>Изменение отложенных налоговых обязательств</th>\n",
              "      <th>Коммерческие расходы</th>\n",
              "      <th>Постоянные налоговые обязательства (активы)</th>\n",
              "      <th>Прибыль (убыток) до налогообложения</th>\n",
              "      <th>Прибыль (убыток) от продаж</th>\n",
              "      <th>Проценты к получению</th>\n",
              "      <th>Проценты к уплате</th>\n",
              "      <th>Прочее</th>\n",
              "      <th>Прочие доходы</th>\n",
              "      <th>Прочие расходы</th>\n",
              "      <th>Результат от переоценки внеоборотных активов, не включаемый в чистую прибыль (убыток)</th>\n",
              "      <th>Результат от прочих операций, не включаемый в чистую прибыль (убыток) периода</th>\n",
              "      <th>Себестоимость продаж</th>\n",
              "      <th>Совокупный финансовый результат периода</th>\n",
              "      <th>Текущий налог на прибыль</th>\n",
              "      <th>Управленческие расходы</th>\n",
              "      <th>Чистая прибыль (убыток)</th>\n",
              "    </tr>\n",
              "  </thead>\n",
              "  <tbody>\n",
              "    <tr>\n",
              "      <th>0</th>\n",
              "      <td>0</td>\n",
              "      <td>2014</td>\n",
              "      <td>89061000</td>\n",
              "      <td>5051000</td>\n",
              "      <td>60374000</td>\n",
              "      <td>0</td>\n",
              "      <td>0</td>\n",
              "      <td>0</td>\n",
              "      <td>8972500</td>\n",
              "      <td>2091000</td>\n",
              "      <td>35624400</td>\n",
              "      <td>62357000</td>\n",
              "      <td>0</td>\n",
              "      <td>8000</td>\n",
              "      <td>0</td>\n",
              "      <td>0</td>\n",
              "      <td>5574000</td>\n",
              "      <td>1177000</td>\n",
              "      <td>808000</td>\n",
              "      <td>77000</td>\n",
              "      <td>50000</td>\n",
              "      <td>0</td>\n",
              "      <td>0</td>\n",
              "      <td>602000</td>\n",
              "      <td>4000</td>\n",
              "      <td>0</td>\n",
              "      <td>0</td>\n",
              "      <td>0</td>\n",
              "      <td>3000000</td>\n",
              "      <td>15750000</td>\n",
              "      <td>3200000</td>\n",
              "      <td>2014</td>\n",
              "      <td>88247000</td>\n",
              "      <td>117597000</td>\n",
              "      <td>0</td>\n",
              "      <td>-444000</td>\n",
              "      <td>-45000</td>\n",
              "      <td>0</td>\n",
              "      <td>-760000</td>\n",
              "      <td>688000</td>\n",
              "      <td>9051000</td>\n",
              "      <td>0</td>\n",
              "      <td>1749000</td>\n",
              "      <td>35000</td>\n",
              "      <td>88000</td>\n",
              "      <td>6702000</td>\n",
              "      <td>0</td>\n",
              "      <td>0</td>\n",
              "      <td>29350000</td>\n",
              "      <td>-244000</td>\n",
              "      <td>498000</td>\n",
              "      <td>79196000</td>\n",
              "      <td>-244000</td>\n",
              "    </tr>\n",
              "    <tr>\n",
              "      <th>1</th>\n",
              "      <td>1</td>\n",
              "      <td>2019</td>\n",
              "      <td>19410000</td>\n",
              "      <td>6916000</td>\n",
              "      <td>1489000</td>\n",
              "      <td>0</td>\n",
              "      <td>0</td>\n",
              "      <td>0</td>\n",
              "      <td>0</td>\n",
              "      <td>9814000</td>\n",
              "      <td>3673600</td>\n",
              "      <td>8976000</td>\n",
              "      <td>0</td>\n",
              "      <td>0</td>\n",
              "      <td>0</td>\n",
              "      <td>0</td>\n",
              "      <td>0</td>\n",
              "      <td>59000</td>\n",
              "      <td>0</td>\n",
              "      <td>0</td>\n",
              "      <td>0</td>\n",
              "      <td>0</td>\n",
              "      <td>0</td>\n",
              "      <td>0</td>\n",
              "      <td>0</td>\n",
              "      <td>0</td>\n",
              "      <td>0</td>\n",
              "      <td>0</td>\n",
              "      <td>0</td>\n",
              "      <td>0</td>\n",
              "      <td>0</td>\n",
              "      <td>2019</td>\n",
              "      <td>1268000</td>\n",
              "      <td>31674000</td>\n",
              "      <td>0</td>\n",
              "      <td>0</td>\n",
              "      <td>0</td>\n",
              "      <td>0</td>\n",
              "      <td>0</td>\n",
              "      <td>-47000</td>\n",
              "      <td>1268000</td>\n",
              "      <td>0</td>\n",
              "      <td>7000</td>\n",
              "      <td>0</td>\n",
              "      <td>3578000</td>\n",
              "      <td>3707000</td>\n",
              "      <td>0</td>\n",
              "      <td>0</td>\n",
              "      <td>66519000</td>\n",
              "      <td>0</td>\n",
              "      <td>495000</td>\n",
              "      <td>0</td>\n",
              "      <td>263000</td>\n",
              "    </tr>\n",
              "    <tr>\n",
              "      <th>2</th>\n",
              "      <td>2</td>\n",
              "      <td>2016</td>\n",
              "      <td>59000</td>\n",
              "      <td>58000</td>\n",
              "      <td>1000</td>\n",
              "      <td>0</td>\n",
              "      <td>0</td>\n",
              "      <td>0</td>\n",
              "      <td>20442500</td>\n",
              "      <td>0</td>\n",
              "      <td>23600</td>\n",
              "      <td>27919000</td>\n",
              "      <td>0</td>\n",
              "      <td>0</td>\n",
              "      <td>0</td>\n",
              "      <td>0</td>\n",
              "      <td>-861422000</td>\n",
              "      <td>0</td>\n",
              "      <td>0</td>\n",
              "      <td>0</td>\n",
              "      <td>396333500</td>\n",
              "      <td>0</td>\n",
              "      <td>0</td>\n",
              "      <td>0</td>\n",
              "      <td>0</td>\n",
              "      <td>0</td>\n",
              "      <td>0</td>\n",
              "      <td>0</td>\n",
              "      <td>10000</td>\n",
              "      <td>0</td>\n",
              "      <td>0</td>\n",
              "      <td>2016</td>\n",
              "      <td>0</td>\n",
              "      <td>0</td>\n",
              "      <td>0</td>\n",
              "      <td>0</td>\n",
              "      <td>0</td>\n",
              "      <td>749000</td>\n",
              "      <td>0</td>\n",
              "      <td>-6665000</td>\n",
              "      <td>-749000</td>\n",
              "      <td>1856000</td>\n",
              "      <td>986000</td>\n",
              "      <td>0</td>\n",
              "      <td>4000</td>\n",
              "      <td>6790000</td>\n",
              "      <td>0</td>\n",
              "      <td>0</td>\n",
              "      <td>0</td>\n",
              "      <td>-6670000</td>\n",
              "      <td>5000</td>\n",
              "      <td>0</td>\n",
              "      <td>-6670000</td>\n",
              "    </tr>\n",
              "    <tr>\n",
              "      <th>3</th>\n",
              "      <td>3</td>\n",
              "      <td>2019</td>\n",
              "      <td>989798000</td>\n",
              "      <td>416919000</td>\n",
              "      <td>34831000</td>\n",
              "      <td>0</td>\n",
              "      <td>0</td>\n",
              "      <td>0</td>\n",
              "      <td>67160500</td>\n",
              "      <td>301147000</td>\n",
              "      <td>395919200</td>\n",
              "      <td>437090000</td>\n",
              "      <td>0</td>\n",
              "      <td>720000</td>\n",
              "      <td>384000</td>\n",
              "      <td>0</td>\n",
              "      <td>388975000</td>\n",
              "      <td>40912000</td>\n",
              "      <td>514000</td>\n",
              "      <td>2499000</td>\n",
              "      <td>8456500</td>\n",
              "      <td>0</td>\n",
              "      <td>1308000</td>\n",
              "      <td>5173000</td>\n",
              "      <td>0</td>\n",
              "      <td>0</td>\n",
              "      <td>0</td>\n",
              "      <td>0</td>\n",
              "      <td>10000000</td>\n",
              "      <td>571000</td>\n",
              "      <td>187319000</td>\n",
              "      <td>2019</td>\n",
              "      <td>395363000</td>\n",
              "      <td>2538937000</td>\n",
              "      <td>0</td>\n",
              "      <td>-5000</td>\n",
              "      <td>-437000</td>\n",
              "      <td>134741000</td>\n",
              "      <td>1503000</td>\n",
              "      <td>126488000</td>\n",
              "      <td>148021000</td>\n",
              "      <td>520000</td>\n",
              "      <td>17555000</td>\n",
              "      <td>-203000</td>\n",
              "      <td>160192000</td>\n",
              "      <td>164690000</td>\n",
              "      <td>0</td>\n",
              "      <td>0</td>\n",
              "      <td>2143574000</td>\n",
              "      <td>102490000</td>\n",
              "      <td>23353000</td>\n",
              "      <td>112601000</td>\n",
              "      <td>102490000</td>\n",
              "    </tr>\n",
              "    <tr>\n",
              "      <th>4</th>\n",
              "      <td>4</td>\n",
              "      <td>2019</td>\n",
              "      <td>310724000</td>\n",
              "      <td>58099000</td>\n",
              "      <td>2568000</td>\n",
              "      <td>0</td>\n",
              "      <td>0</td>\n",
              "      <td>0</td>\n",
              "      <td>0</td>\n",
              "      <td>15822000</td>\n",
              "      <td>124289600</td>\n",
              "      <td>21329000</td>\n",
              "      <td>0</td>\n",
              "      <td>2017000</td>\n",
              "      <td>0</td>\n",
              "      <td>0</td>\n",
              "      <td>86672000</td>\n",
              "      <td>198783000</td>\n",
              "      <td>415000</td>\n",
              "      <td>3222000</td>\n",
              "      <td>2076000</td>\n",
              "      <td>0</td>\n",
              "      <td>0</td>\n",
              "      <td>33020000</td>\n",
              "      <td>197415000</td>\n",
              "      <td>0</td>\n",
              "      <td>0</td>\n",
              "      <td>0</td>\n",
              "      <td>10000</td>\n",
              "      <td>0</td>\n",
              "      <td>0</td>\n",
              "      <td>2019</td>\n",
              "      <td>12089000</td>\n",
              "      <td>344088000</td>\n",
              "      <td>0</td>\n",
              "      <td>214000</td>\n",
              "      <td>-1511000</td>\n",
              "      <td>0</td>\n",
              "      <td>234000</td>\n",
              "      <td>23858000</td>\n",
              "      <td>10514000</td>\n",
              "      <td>353000</td>\n",
              "      <td>29000</td>\n",
              "      <td>0</td>\n",
              "      <td>35890000</td>\n",
              "      <td>22870000</td>\n",
              "      <td>0</td>\n",
              "      <td>0</td>\n",
              "      <td>331999000</td>\n",
              "      <td>19320000</td>\n",
              "      <td>3241000</td>\n",
              "      <td>1575000</td>\n",
              "      <td>19320000</td>\n",
              "    </tr>\n",
              "    <tr>\n",
              "      <th>...</th>\n",
              "      <td>...</td>\n",
              "      <td>...</td>\n",
              "      <td>...</td>\n",
              "      <td>...</td>\n",
              "      <td>...</td>\n",
              "      <td>...</td>\n",
              "      <td>...</td>\n",
              "      <td>...</td>\n",
              "      <td>...</td>\n",
              "      <td>...</td>\n",
              "      <td>...</td>\n",
              "      <td>...</td>\n",
              "      <td>...</td>\n",
              "      <td>...</td>\n",
              "      <td>...</td>\n",
              "      <td>...</td>\n",
              "      <td>...</td>\n",
              "      <td>...</td>\n",
              "      <td>...</td>\n",
              "      <td>...</td>\n",
              "      <td>...</td>\n",
              "      <td>...</td>\n",
              "      <td>...</td>\n",
              "      <td>...</td>\n",
              "      <td>...</td>\n",
              "      <td>...</td>\n",
              "      <td>...</td>\n",
              "      <td>...</td>\n",
              "      <td>...</td>\n",
              "      <td>...</td>\n",
              "      <td>...</td>\n",
              "      <td>...</td>\n",
              "      <td>...</td>\n",
              "      <td>...</td>\n",
              "      <td>...</td>\n",
              "      <td>...</td>\n",
              "      <td>...</td>\n",
              "      <td>...</td>\n",
              "      <td>...</td>\n",
              "      <td>...</td>\n",
              "      <td>...</td>\n",
              "      <td>...</td>\n",
              "      <td>...</td>\n",
              "      <td>...</td>\n",
              "      <td>...</td>\n",
              "      <td>...</td>\n",
              "      <td>...</td>\n",
              "      <td>...</td>\n",
              "      <td>...</td>\n",
              "      <td>...</td>\n",
              "      <td>...</td>\n",
              "      <td>...</td>\n",
              "      <td>...</td>\n",
              "    </tr>\n",
              "    <tr>\n",
              "      <th>3913</th>\n",
              "      <td>4389</td>\n",
              "      <td>2019</td>\n",
              "      <td>7865000</td>\n",
              "      <td>6862000</td>\n",
              "      <td>726000</td>\n",
              "      <td>0</td>\n",
              "      <td>0</td>\n",
              "      <td>0</td>\n",
              "      <td>0</td>\n",
              "      <td>463000</td>\n",
              "      <td>4585800</td>\n",
              "      <td>5509000</td>\n",
              "      <td>0</td>\n",
              "      <td>0</td>\n",
              "      <td>0</td>\n",
              "      <td>0</td>\n",
              "      <td>0</td>\n",
              "      <td>595000</td>\n",
              "      <td>0</td>\n",
              "      <td>0</td>\n",
              "      <td>0</td>\n",
              "      <td>0</td>\n",
              "      <td>0</td>\n",
              "      <td>0</td>\n",
              "      <td>0</td>\n",
              "      <td>0</td>\n",
              "      <td>0</td>\n",
              "      <td>0</td>\n",
              "      <td>0</td>\n",
              "      <td>59000</td>\n",
              "      <td>0</td>\n",
              "      <td>2019</td>\n",
              "      <td>180000</td>\n",
              "      <td>40617000</td>\n",
              "      <td>0</td>\n",
              "      <td>0</td>\n",
              "      <td>0</td>\n",
              "      <td>0</td>\n",
              "      <td>0</td>\n",
              "      <td>11000</td>\n",
              "      <td>180000</td>\n",
              "      <td>0</td>\n",
              "      <td>0</td>\n",
              "      <td>0</td>\n",
              "      <td>374000</td>\n",
              "      <td>1133000</td>\n",
              "      <td>0</td>\n",
              "      <td>0</td>\n",
              "      <td>49733000</td>\n",
              "      <td>0</td>\n",
              "      <td>20000</td>\n",
              "      <td>0</td>\n",
              "      <td>2266000</td>\n",
              "    </tr>\n",
              "    <tr>\n",
              "      <th>3914</th>\n",
              "      <td>4390</td>\n",
              "      <td>2019</td>\n",
              "      <td>3953382000</td>\n",
              "      <td>550171000</td>\n",
              "      <td>18412000</td>\n",
              "      <td>0</td>\n",
              "      <td>0</td>\n",
              "      <td>0</td>\n",
              "      <td>753633500</td>\n",
              "      <td>848173000</td>\n",
              "      <td>1581352800</td>\n",
              "      <td>1593598000</td>\n",
              "      <td>0</td>\n",
              "      <td>223267000</td>\n",
              "      <td>117097000</td>\n",
              "      <td>0</td>\n",
              "      <td>388463000</td>\n",
              "      <td>2072824000</td>\n",
              "      <td>44034000</td>\n",
              "      <td>157516000</td>\n",
              "      <td>62998000</td>\n",
              "      <td>42815000</td>\n",
              "      <td>0</td>\n",
              "      <td>79394000</td>\n",
              "      <td>0</td>\n",
              "      <td>0</td>\n",
              "      <td>0</td>\n",
              "      <td>0</td>\n",
              "      <td>200725000</td>\n",
              "      <td>0</td>\n",
              "      <td>10000</td>\n",
              "      <td>2019</td>\n",
              "      <td>473575000</td>\n",
              "      <td>4427360000</td>\n",
              "      <td>0</td>\n",
              "      <td>38953000</td>\n",
              "      <td>-419000</td>\n",
              "      <td>293044000</td>\n",
              "      <td>-11523000</td>\n",
              "      <td>-250289000</td>\n",
              "      <td>-51988000</td>\n",
              "      <td>686000</td>\n",
              "      <td>134357000</td>\n",
              "      <td>-1647000</td>\n",
              "      <td>3410039000</td>\n",
              "      <td>3474669000</td>\n",
              "      <td>0</td>\n",
              "      <td>0</td>\n",
              "      <td>3953785000</td>\n",
              "      <td>-213402000</td>\n",
              "      <td>0</td>\n",
              "      <td>232519000</td>\n",
              "      <td>-213402000</td>\n",
              "    </tr>\n",
              "    <tr>\n",
              "      <th>3915</th>\n",
              "      <td>4391</td>\n",
              "      <td>2019</td>\n",
              "      <td>257446000</td>\n",
              "      <td>116866000</td>\n",
              "      <td>1345000</td>\n",
              "      <td>0</td>\n",
              "      <td>0</td>\n",
              "      <td>0</td>\n",
              "      <td>9606000</td>\n",
              "      <td>131201000</td>\n",
              "      <td>128723000</td>\n",
              "      <td>232977000</td>\n",
              "      <td>0</td>\n",
              "      <td>1382000</td>\n",
              "      <td>0</td>\n",
              "      <td>0</td>\n",
              "      <td>14853000</td>\n",
              "      <td>6652000</td>\n",
              "      <td>0</td>\n",
              "      <td>0</td>\n",
              "      <td>0</td>\n",
              "      <td>0</td>\n",
              "      <td>0</td>\n",
              "      <td>0</td>\n",
              "      <td>0</td>\n",
              "      <td>0</td>\n",
              "      <td>0</td>\n",
              "      <td>0</td>\n",
              "      <td>10000</td>\n",
              "      <td>0</td>\n",
              "      <td>0</td>\n",
              "      <td>2019</td>\n",
              "      <td>5985000</td>\n",
              "      <td>107198000</td>\n",
              "      <td>0</td>\n",
              "      <td>0</td>\n",
              "      <td>0</td>\n",
              "      <td>7149000</td>\n",
              "      <td>0</td>\n",
              "      <td>-2479000</td>\n",
              "      <td>-1164000</td>\n",
              "      <td>0</td>\n",
              "      <td>1485000</td>\n",
              "      <td>0</td>\n",
              "      <td>1103000</td>\n",
              "      <td>933000</td>\n",
              "      <td>0</td>\n",
              "      <td>0</td>\n",
              "      <td>101213000</td>\n",
              "      <td>-2479000</td>\n",
              "      <td>478000</td>\n",
              "      <td>0</td>\n",
              "      <td>-2479000</td>\n",
              "    </tr>\n",
              "    <tr>\n",
              "      <th>3916</th>\n",
              "      <td>4392</td>\n",
              "      <td>2019</td>\n",
              "      <td>133519000</td>\n",
              "      <td>39895000</td>\n",
              "      <td>37000</td>\n",
              "      <td>0</td>\n",
              "      <td>0</td>\n",
              "      <td>0</td>\n",
              "      <td>0</td>\n",
              "      <td>63409000</td>\n",
              "      <td>53407200</td>\n",
              "      <td>54750000</td>\n",
              "      <td>0</td>\n",
              "      <td>0</td>\n",
              "      <td>0</td>\n",
              "      <td>0</td>\n",
              "      <td>64474000</td>\n",
              "      <td>17539000</td>\n",
              "      <td>10638000</td>\n",
              "      <td>2986000</td>\n",
              "      <td>9180000</td>\n",
              "      <td>0</td>\n",
              "      <td>0</td>\n",
              "      <td>0</td>\n",
              "      <td>0</td>\n",
              "      <td>2029000</td>\n",
              "      <td>0</td>\n",
              "      <td>0</td>\n",
              "      <td>100000</td>\n",
              "      <td>0</td>\n",
              "      <td>2000000</td>\n",
              "      <td>2019</td>\n",
              "      <td>24555000</td>\n",
              "      <td>253724000</td>\n",
              "      <td>0</td>\n",
              "      <td>-2644000</td>\n",
              "      <td>-117000</td>\n",
              "      <td>1376000</td>\n",
              "      <td>-326000</td>\n",
              "      <td>12177000</td>\n",
              "      <td>-28403000</td>\n",
              "      <td>0</td>\n",
              "      <td>0</td>\n",
              "      <td>-2929000</td>\n",
              "      <td>95362000</td>\n",
              "      <td>54782000</td>\n",
              "      <td>0</td>\n",
              "      <td>0</td>\n",
              "      <td>229169000</td>\n",
              "      <td>6487000</td>\n",
              "      <td>0</td>\n",
              "      <td>51582000</td>\n",
              "      <td>6487000</td>\n",
              "    </tr>\n",
              "    <tr>\n",
              "      <th>3917</th>\n",
              "      <td>4393</td>\n",
              "      <td>2019</td>\n",
              "      <td>137907000</td>\n",
              "      <td>76558000</td>\n",
              "      <td>55000</td>\n",
              "      <td>0</td>\n",
              "      <td>0</td>\n",
              "      <td>0</td>\n",
              "      <td>9001000</td>\n",
              "      <td>27710000</td>\n",
              "      <td>55163000</td>\n",
              "      <td>103809000</td>\n",
              "      <td>0</td>\n",
              "      <td>75000</td>\n",
              "      <td>0</td>\n",
              "      <td>0</td>\n",
              "      <td>15997000</td>\n",
              "      <td>0</td>\n",
              "      <td>0</td>\n",
              "      <td>0</td>\n",
              "      <td>0</td>\n",
              "      <td>0</td>\n",
              "      <td>0</td>\n",
              "      <td>0</td>\n",
              "      <td>0</td>\n",
              "      <td>0</td>\n",
              "      <td>0</td>\n",
              "      <td>0</td>\n",
              "      <td>100000</td>\n",
              "      <td>0</td>\n",
              "      <td>33510000</td>\n",
              "      <td>2019</td>\n",
              "      <td>59598000</td>\n",
              "      <td>59598000</td>\n",
              "      <td>0</td>\n",
              "      <td>0</td>\n",
              "      <td>0</td>\n",
              "      <td>45431000</td>\n",
              "      <td>0</td>\n",
              "      <td>1964000</td>\n",
              "      <td>7751000</td>\n",
              "      <td>0</td>\n",
              "      <td>0</td>\n",
              "      <td>0</td>\n",
              "      <td>3623000</td>\n",
              "      <td>9410000</td>\n",
              "      <td>0</td>\n",
              "      <td>0</td>\n",
              "      <td>0</td>\n",
              "      <td>1332000</td>\n",
              "      <td>632000</td>\n",
              "      <td>6416000</td>\n",
              "      <td>1332000</td>\n",
              "    </tr>\n",
              "  </tbody>\n",
              "</table>\n",
              "<p>3918 rows × 53 columns</p>\n",
              "</div>"
            ],
            "text/plain": [
              "        id  year_x  ...  Управленческие расходы  Чистая прибыль (убыток)\n",
              "0        0    2014  ...                79196000                  -244000\n",
              "1        1    2019  ...                       0                   263000\n",
              "2        2    2016  ...                       0                 -6670000\n",
              "3        3    2019  ...               112601000                102490000\n",
              "4        4    2019  ...                 1575000                 19320000\n",
              "...    ...     ...  ...                     ...                      ...\n",
              "3913  4389    2019  ...                       0                  2266000\n",
              "3914  4390    2019  ...               232519000               -213402000\n",
              "3915  4391    2019  ...                       0                 -2479000\n",
              "3916  4392    2019  ...                51582000                  6487000\n",
              "3917  4393    2019  ...                 6416000                  1332000\n",
              "\n",
              "[3918 rows x 53 columns]"
            ]
          },
          "metadata": {
            "tags": []
          },
          "execution_count": 245
        }
      ]
    },
    {
      "cell_type": "code",
      "metadata": {
        "id": "FChcmm8lalIP",
        "colab": {
          "base_uri": "https://localhost:8080/"
        },
        "outputId": "e5de650f-14f8-460b-d1c8-35b99309fb4d"
      },
      "source": [
        "df_full_forms.drop(['year_x', 'year_y'], axis=1, inplace=True)\n",
        "duplicates_and_null_values(df_full_forms, 1, 1, 0)"
      ],
      "execution_count": 246,
      "outputs": [
        {
          "output_type": "stream",
          "text": [
            "Number of duplicates: 0 \n",
            "\n",
            "Percentage of missing data: 0.00\n"
          ],
          "name": "stdout"
        }
      ]
    },
    {
      "cell_type": "code",
      "metadata": {
        "id": "AxqOqYG1k5qP",
        "colab": {
          "base_uri": "https://localhost:8080/"
        },
        "outputId": "5c58aa42-ef13-4a48-ca97-82dcc65f0102"
      },
      "source": [
        "corr = df_full_forms.corr()\n",
        "cols = np.full((corr.shape[0],), True, dtype=bool)\n",
        "\n",
        "for i in range(corr.shape[0]):\n",
        "    for j in range(i+1, corr.shape[0]):\n",
        "        if corr.iloc[i,j] >= 0.9:\n",
        "            if cols[j]:\n",
        "                cols[j] = False\n",
        "\n",
        "print(len(df_full_forms.columns[cols]))\n",
        "selected_cols = df_full_forms.columns[cols]\n",
        "df_full_forms = df_full_forms[selected_cols]"
      ],
      "execution_count": 247,
      "outputs": [
        {
          "output_type": "stream",
          "text": [
            "33\n"
          ],
          "name": "stdout"
        }
      ]
    },
    {
      "cell_type": "code",
      "metadata": {
        "id": "TCWkhWtW7Tq5"
      },
      "source": [
        "df_full = pd.merge(df_flags[['id', 'default_status']], \n",
        "                   df_org_info_by_id_last_year[['id', 'organizationType', 'num_of_forms']], on=['id'], how='outer')\n",
        "df_full = pd.merge(df_full, df_full_forms, on='id')"
      ],
      "execution_count": 248,
      "outputs": []
    },
    {
      "cell_type": "code",
      "metadata": {
        "id": "OVDCJOyCk45B"
      },
      "source": [
        "df_full = df_full.fillna(0)\n",
        "df_full['default_status'] = df_full['default_status'].astype('int')"
      ],
      "execution_count": 249,
      "outputs": []
    },
    {
      "cell_type": "code",
      "metadata": {
        "colab": {
          "base_uri": "https://localhost:8080/",
          "height": 360
        },
        "id": "Ajk1SauRaXhl",
        "outputId": "581e1491-076c-4dd5-a675-b1e707fb360a"
      },
      "source": [
        "df_full.head()"
      ],
      "execution_count": 250,
      "outputs": [
        {
          "output_type": "execute_result",
          "data": {
            "text/html": [
              "<div>\n",
              "<style scoped>\n",
              "    .dataframe tbody tr th:only-of-type {\n",
              "        vertical-align: middle;\n",
              "    }\n",
              "\n",
              "    .dataframe tbody tr th {\n",
              "        vertical-align: top;\n",
              "    }\n",
              "\n",
              "    .dataframe thead th {\n",
              "        text-align: right;\n",
              "    }\n",
              "</style>\n",
              "<table border=\"1\" class=\"dataframe\">\n",
              "  <thead>\n",
              "    <tr style=\"text-align: right;\">\n",
              "      <th></th>\n",
              "      <th>id</th>\n",
              "      <th>default_status</th>\n",
              "      <th>organizationType</th>\n",
              "      <th>num_of_forms</th>\n",
              "      <th>Баланс</th>\n",
              "      <th>Дебиторская задолженность</th>\n",
              "      <th>Добавочный капитал (без переоценки)</th>\n",
              "      <th>Доходные вложения в материальные ценности</th>\n",
              "      <th>Доходы будущих периодов</th>\n",
              "      <th>Запасы</th>\n",
              "      <th>Кредиторская задолженность</th>\n",
              "      <th>Материальные поисковые активы</th>\n",
              "      <th>НДС по приобретенным ценностям</th>\n",
              "      <th>Нематериальные активы</th>\n",
              "      <th>Нераспределенная прибыль (непокрытый убыток)</th>\n",
              "      <th>Основные средства</th>\n",
              "      <th>Оценочные обязательства</th>\n",
              "      <th>Переоценка внеоборотных активов</th>\n",
              "      <th>Прочие внеоборотные активы</th>\n",
              "      <th>Прочие оборотные активы</th>\n",
              "      <th>Прочие обязательства</th>\n",
              "      <th>Резервный капитал</th>\n",
              "      <th>Результаты исследований и разработок</th>\n",
              "      <th>Собственные акции, выкупленные у акционеров</th>\n",
              "      <th>Уставный капитал</th>\n",
              "      <th>Финансовые вложения (за исключением денежных эквивалентов)</th>\n",
              "      <th>Выручка</th>\n",
              "      <th>Изменение отложенных налоговых активов</th>\n",
              "      <th>Изменение отложенных налоговых обязательств</th>\n",
              "      <th>Коммерческие расходы</th>\n",
              "      <th>Проценты к получению</th>\n",
              "      <th>Прочее</th>\n",
              "      <th>Результат от переоценки внеоборотных активов, не включаемый в чистую прибыль (убыток)</th>\n",
              "      <th>Результат от прочих операций, не включаемый в чистую прибыль (убыток) периода</th>\n",
              "      <th>Себестоимость продаж</th>\n",
              "      <th>Управленческие расходы</th>\n",
              "    </tr>\n",
              "  </thead>\n",
              "  <tbody>\n",
              "    <tr>\n",
              "      <th>0</th>\n",
              "      <td>2</td>\n",
              "      <td>1</td>\n",
              "      <td>Small</td>\n",
              "      <td>5</td>\n",
              "      <td>59000</td>\n",
              "      <td>58000</td>\n",
              "      <td>0</td>\n",
              "      <td>0</td>\n",
              "      <td>0</td>\n",
              "      <td>0</td>\n",
              "      <td>27919000</td>\n",
              "      <td>0</td>\n",
              "      <td>0</td>\n",
              "      <td>0</td>\n",
              "      <td>-861422000</td>\n",
              "      <td>0</td>\n",
              "      <td>396333500</td>\n",
              "      <td>0</td>\n",
              "      <td>0</td>\n",
              "      <td>0</td>\n",
              "      <td>0</td>\n",
              "      <td>0</td>\n",
              "      <td>0</td>\n",
              "      <td>0</td>\n",
              "      <td>10000</td>\n",
              "      <td>0</td>\n",
              "      <td>0</td>\n",
              "      <td>0</td>\n",
              "      <td>0</td>\n",
              "      <td>749000</td>\n",
              "      <td>1856000</td>\n",
              "      <td>0</td>\n",
              "      <td>0</td>\n",
              "      <td>0</td>\n",
              "      <td>0</td>\n",
              "      <td>0</td>\n",
              "    </tr>\n",
              "    <tr>\n",
              "      <th>1</th>\n",
              "      <td>29</td>\n",
              "      <td>1</td>\n",
              "      <td>Small</td>\n",
              "      <td>3</td>\n",
              "      <td>51495000</td>\n",
              "      <td>51495000</td>\n",
              "      <td>0</td>\n",
              "      <td>0</td>\n",
              "      <td>0</td>\n",
              "      <td>0</td>\n",
              "      <td>18794000</td>\n",
              "      <td>0</td>\n",
              "      <td>0</td>\n",
              "      <td>0</td>\n",
              "      <td>774000</td>\n",
              "      <td>0</td>\n",
              "      <td>0</td>\n",
              "      <td>0</td>\n",
              "      <td>0</td>\n",
              "      <td>0</td>\n",
              "      <td>0</td>\n",
              "      <td>0</td>\n",
              "      <td>0</td>\n",
              "      <td>0</td>\n",
              "      <td>20000</td>\n",
              "      <td>0</td>\n",
              "      <td>67999000</td>\n",
              "      <td>0</td>\n",
              "      <td>0</td>\n",
              "      <td>5352000</td>\n",
              "      <td>0</td>\n",
              "      <td>0</td>\n",
              "      <td>0</td>\n",
              "      <td>0</td>\n",
              "      <td>62390000</td>\n",
              "      <td>0</td>\n",
              "    </tr>\n",
              "    <tr>\n",
              "      <th>2</th>\n",
              "      <td>70</td>\n",
              "      <td>1</td>\n",
              "      <td>Small</td>\n",
              "      <td>4</td>\n",
              "      <td>22000</td>\n",
              "      <td>0</td>\n",
              "      <td>0</td>\n",
              "      <td>0</td>\n",
              "      <td>0</td>\n",
              "      <td>22000</td>\n",
              "      <td>361000</td>\n",
              "      <td>0</td>\n",
              "      <td>0</td>\n",
              "      <td>0</td>\n",
              "      <td>-153178000</td>\n",
              "      <td>0</td>\n",
              "      <td>0</td>\n",
              "      <td>0</td>\n",
              "      <td>0</td>\n",
              "      <td>0</td>\n",
              "      <td>0</td>\n",
              "      <td>0</td>\n",
              "      <td>0</td>\n",
              "      <td>0</td>\n",
              "      <td>10000</td>\n",
              "      <td>0</td>\n",
              "      <td>16630000</td>\n",
              "      <td>0</td>\n",
              "      <td>0</td>\n",
              "      <td>907000</td>\n",
              "      <td>0</td>\n",
              "      <td>0</td>\n",
              "      <td>0</td>\n",
              "      <td>0</td>\n",
              "      <td>16278000</td>\n",
              "      <td>0</td>\n",
              "    </tr>\n",
              "    <tr>\n",
              "      <th>3</th>\n",
              "      <td>75</td>\n",
              "      <td>1</td>\n",
              "      <td>Small</td>\n",
              "      <td>2</td>\n",
              "      <td>39681000</td>\n",
              "      <td>12090000</td>\n",
              "      <td>0</td>\n",
              "      <td>0</td>\n",
              "      <td>0</td>\n",
              "      <td>10348000</td>\n",
              "      <td>17960000</td>\n",
              "      <td>0</td>\n",
              "      <td>1780000</td>\n",
              "      <td>0</td>\n",
              "      <td>13597000</td>\n",
              "      <td>10835000</td>\n",
              "      <td>0</td>\n",
              "      <td>0</td>\n",
              "      <td>0</td>\n",
              "      <td>222000</td>\n",
              "      <td>0</td>\n",
              "      <td>0</td>\n",
              "      <td>0</td>\n",
              "      <td>0</td>\n",
              "      <td>10000</td>\n",
              "      <td>3280000</td>\n",
              "      <td>65551000</td>\n",
              "      <td>0</td>\n",
              "      <td>-18000</td>\n",
              "      <td>2133000</td>\n",
              "      <td>0</td>\n",
              "      <td>0</td>\n",
              "      <td>0</td>\n",
              "      <td>0</td>\n",
              "      <td>58832000</td>\n",
              "      <td>0</td>\n",
              "    </tr>\n",
              "    <tr>\n",
              "      <th>4</th>\n",
              "      <td>81</td>\n",
              "      <td>1</td>\n",
              "      <td>Large</td>\n",
              "      <td>1</td>\n",
              "      <td>23394000</td>\n",
              "      <td>17471000</td>\n",
              "      <td>0</td>\n",
              "      <td>0</td>\n",
              "      <td>0</td>\n",
              "      <td>5840000</td>\n",
              "      <td>17912000</td>\n",
              "      <td>0</td>\n",
              "      <td>0</td>\n",
              "      <td>0</td>\n",
              "      <td>2801000</td>\n",
              "      <td>58000</td>\n",
              "      <td>0</td>\n",
              "      <td>0</td>\n",
              "      <td>0</td>\n",
              "      <td>1000</td>\n",
              "      <td>0</td>\n",
              "      <td>0</td>\n",
              "      <td>0</td>\n",
              "      <td>0</td>\n",
              "      <td>10000</td>\n",
              "      <td>0</td>\n",
              "      <td>182510000</td>\n",
              "      <td>0</td>\n",
              "      <td>0</td>\n",
              "      <td>126547000</td>\n",
              "      <td>1000</td>\n",
              "      <td>879000</td>\n",
              "      <td>0</td>\n",
              "      <td>0</td>\n",
              "      <td>51071000</td>\n",
              "      <td>0</td>\n",
              "    </tr>\n",
              "  </tbody>\n",
              "</table>\n",
              "</div>"
            ],
            "text/plain": [
              "   id  default_status  ... Себестоимость продаж  Управленческие расходы\n",
              "0   2               1  ...                    0                       0\n",
              "1  29               1  ...             62390000                       0\n",
              "2  70               1  ...             16278000                       0\n",
              "3  75               1  ...             58832000                       0\n",
              "4  81               1  ...             51071000                       0\n",
              "\n",
              "[5 rows x 36 columns]"
            ]
          },
          "metadata": {
            "tags": []
          },
          "execution_count": 250
        }
      ]
    },
    {
      "cell_type": "code",
      "metadata": {
        "id": "B7X9egHEbCHl",
        "colab": {
          "base_uri": "https://localhost:8080/"
        },
        "outputId": "64907c7c-a975-4e54-c7d5-8e694eb5f445"
      },
      "source": [
        "# count examples in each class\n",
        "counter = Counter(df_full['default_status'])\n",
        "estimate = counter[0] / counter[1]\n",
        "ratio_of_default = (counter[1] / (counter[1] + counter[0])) * 100\n",
        "print(f'Number of defaults: {counter[1]}, ratio: {ratio_of_default:.3f}')\n",
        "print(f'Number of non defaults: {counter[0]}, ratio: {100 - ratio_of_default:.3f}')\n",
        "print(f'Estimate: {estimate:.3f}')"
      ],
      "execution_count": 251,
      "outputs": [
        {
          "output_type": "stream",
          "text": [
            "Number of defaults: 223, ratio: 5.692\n",
            "Number of non defaults: 3695, ratio: 94.308\n",
            "Estimate: 16.570\n"
          ],
          "name": "stdout"
        }
      ]
    },
    {
      "cell_type": "code",
      "metadata": {
        "id": "90ow0dT0atxr",
        "colab": {
          "base_uri": "https://localhost:8080/",
          "height": 301
        },
        "outputId": "982cf0f0-1924-4a53-a4ab-71f8d6d37d2b"
      },
      "source": [
        "sns.countplot(x='default_status',data=df_full)\n",
        "plt.title('Target values')\n",
        "plt.show()"
      ],
      "execution_count": 252,
      "outputs": [
        {
          "output_type": "display_data",
          "data": {
            "image/png": "[encoded data removed]",
            "text/plain": [
              "<Figure size 432x288 with 1 Axes>"
            ]
          },
          "metadata": {
            "tags": []
          }
        }
      ]
    },
    {
      "cell_type": "code",
      "metadata": {
        "id": "O-2TjaBNEan0",
        "colab": {
          "base_uri": "https://localhost:8080/",
          "height": 343
        },
        "outputId": "7e928db9-d07c-43d6-af81-b569aafe20b8"
      },
      "source": [
        "df_full.groupby(['default_status', 'organizationType']).mean()"
      ],
      "execution_count": 253,
      "outputs": [
        {
          "output_type": "execute_result",
          "data": {
            "text/html": [
              "<div>\n",
              "<style scoped>\n",
              "    .dataframe tbody tr th:only-of-type {\n",
              "        vertical-align: middle;\n",
              "    }\n",
              "\n",
              "    .dataframe tbody tr th {\n",
              "        vertical-align: top;\n",
              "    }\n",
              "\n",
              "    .dataframe thead th {\n",
              "        text-align: right;\n",
              "    }\n",
              "</style>\n",
              "<table border=\"1\" class=\"dataframe\">\n",
              "  <thead>\n",
              "    <tr style=\"text-align: right;\">\n",
              "      <th></th>\n",
              "      <th></th>\n",
              "      <th>id</th>\n",
              "      <th>num_of_forms</th>\n",
              "      <th>Баланс</th>\n",
              "      <th>Дебиторская задолженность</th>\n",
              "      <th>Добавочный капитал (без переоценки)</th>\n",
              "      <th>Доходные вложения в материальные ценности</th>\n",
              "      <th>Доходы будущих периодов</th>\n",
              "      <th>Запасы</th>\n",
              "      <th>Кредиторская задолженность</th>\n",
              "      <th>Материальные поисковые активы</th>\n",
              "      <th>НДС по приобретенным ценностям</th>\n",
              "      <th>Нематериальные активы</th>\n",
              "      <th>Нераспределенная прибыль (непокрытый убыток)</th>\n",
              "      <th>Основные средства</th>\n",
              "      <th>Оценочные обязательства</th>\n",
              "      <th>Переоценка внеоборотных активов</th>\n",
              "      <th>Прочие внеоборотные активы</th>\n",
              "      <th>Прочие оборотные активы</th>\n",
              "      <th>Прочие обязательства</th>\n",
              "      <th>Резервный капитал</th>\n",
              "      <th>Результаты исследований и разработок</th>\n",
              "      <th>Собственные акции, выкупленные у акционеров</th>\n",
              "      <th>Уставный капитал</th>\n",
              "      <th>Финансовые вложения (за исключением денежных эквивалентов)</th>\n",
              "      <th>Выручка</th>\n",
              "      <th>Изменение отложенных налоговых активов</th>\n",
              "      <th>Изменение отложенных налоговых обязательств</th>\n",
              "      <th>Коммерческие расходы</th>\n",
              "      <th>Проценты к получению</th>\n",
              "      <th>Прочее</th>\n",
              "      <th>Результат от переоценки внеоборотных активов, не включаемый в чистую прибыль (убыток)</th>\n",
              "      <th>Результат от прочих операций, не включаемый в чистую прибыль (убыток) периода</th>\n",
              "      <th>Себестоимость продаж</th>\n",
              "      <th>Управленческие расходы</th>\n",
              "    </tr>\n",
              "    <tr>\n",
              "      <th>default_status</th>\n",
              "      <th>organizationType</th>\n",
              "      <th></th>\n",
              "      <th></th>\n",
              "      <th></th>\n",
              "      <th></th>\n",
              "      <th></th>\n",
              "      <th></th>\n",
              "      <th></th>\n",
              "      <th></th>\n",
              "      <th></th>\n",
              "      <th></th>\n",
              "      <th></th>\n",
              "      <th></th>\n",
              "      <th></th>\n",
              "      <th></th>\n",
              "      <th></th>\n",
              "      <th></th>\n",
              "      <th></th>\n",
              "      <th></th>\n",
              "      <th></th>\n",
              "      <th></th>\n",
              "      <th></th>\n",
              "      <th></th>\n",
              "      <th></th>\n",
              "      <th></th>\n",
              "      <th></th>\n",
              "      <th></th>\n",
              "      <th></th>\n",
              "      <th></th>\n",
              "      <th></th>\n",
              "      <th></th>\n",
              "      <th></th>\n",
              "      <th></th>\n",
              "      <th></th>\n",
              "      <th></th>\n",
              "    </tr>\n",
              "  </thead>\n",
              "  <tbody>\n",
              "    <tr>\n",
              "      <th rowspan=\"2\" valign=\"top\">0</th>\n",
              "      <th>Large</th>\n",
              "      <td>2130.706487</td>\n",
              "      <td>6.118818</td>\n",
              "      <td>1.807057e+09</td>\n",
              "      <td>3.079813e+08</td>\n",
              "      <td>1.158125e+08</td>\n",
              "      <td>2.854567e+07</td>\n",
              "      <td>9.698234e+06</td>\n",
              "      <td>1.901429e+08</td>\n",
              "      <td>4.344628e+08</td>\n",
              "      <td>681332.048812</td>\n",
              "      <td>1.077090e+07</td>\n",
              "      <td>6.918882e+06</td>\n",
              "      <td>2.857423e+08</td>\n",
              "      <td>4.446379e+08</td>\n",
              "      <td>1.221720e+07</td>\n",
              "      <td>1.091634e+07</td>\n",
              "      <td>1.150507e+08</td>\n",
              "      <td>1.567443e+07</td>\n",
              "      <td>3.561069e+07</td>\n",
              "      <td>1.453437e+06</td>\n",
              "      <td>3.197751e+06</td>\n",
              "      <td>457759.794477</td>\n",
              "      <td>2.160370e+08</td>\n",
              "      <td>4.806617e+07</td>\n",
              "      <td>1.255492e+09</td>\n",
              "      <td>2.650782e+06</td>\n",
              "      <td>-8.793948e+06</td>\n",
              "      <td>4.177088e+07</td>\n",
              "      <td>1.019608e+07</td>\n",
              "      <td>-1.237575e+06</td>\n",
              "      <td>1.556974e+06</td>\n",
              "      <td>-92983.943481</td>\n",
              "      <td>7.236387e+08</td>\n",
              "      <td>3.476119e+07</td>\n",
              "    </tr>\n",
              "    <tr>\n",
              "      <th>Small</th>\n",
              "      <td>2230.459775</td>\n",
              "      <td>6.797007</td>\n",
              "      <td>1.691515e+08</td>\n",
              "      <td>6.511032e+07</td>\n",
              "      <td>1.804145e+06</td>\n",
              "      <td>1.441287e+06</td>\n",
              "      <td>1.054720e+06</td>\n",
              "      <td>3.964854e+07</td>\n",
              "      <td>7.733374e+07</td>\n",
              "      <td>7286.248831</td>\n",
              "      <td>1.405734e+06</td>\n",
              "      <td>9.804518e+05</td>\n",
              "      <td>2.824052e+07</td>\n",
              "      <td>2.745992e+07</td>\n",
              "      <td>4.309518e+05</td>\n",
              "      <td>6.434392e+05</td>\n",
              "      <td>3.198890e+06</td>\n",
              "      <td>2.372331e+06</td>\n",
              "      <td>4.074633e+06</td>\n",
              "      <td>1.336492e+05</td>\n",
              "      <td>1.111207e+05</td>\n",
              "      <td>-24413.938260</td>\n",
              "      <td>4.171431e+06</td>\n",
              "      <td>8.335970e+06</td>\n",
              "      <td>2.073812e+08</td>\n",
              "      <td>7.656361e+04</td>\n",
              "      <td>-3.723152e+04</td>\n",
              "      <td>1.086753e+07</td>\n",
              "      <td>8.200398e+05</td>\n",
              "      <td>-1.725065e+05</td>\n",
              "      <td>7.516043e+04</td>\n",
              "      <td>-20586.529467</td>\n",
              "      <td>1.635732e+08</td>\n",
              "      <td>7.417983e+06</td>\n",
              "    </tr>\n",
              "    <tr>\n",
              "      <th rowspan=\"2\" valign=\"top\">1</th>\n",
              "      <th>Large</th>\n",
              "      <td>2151.500000</td>\n",
              "      <td>4.066667</td>\n",
              "      <td>5.220335e+08</td>\n",
              "      <td>3.524148e+08</td>\n",
              "      <td>3.997125e+06</td>\n",
              "      <td>1.443033e+06</td>\n",
              "      <td>5.252250e+05</td>\n",
              "      <td>4.402005e+07</td>\n",
              "      <td>5.021084e+08</td>\n",
              "      <td>5208.333333</td>\n",
              "      <td>2.264833e+06</td>\n",
              "      <td>1.392192e+06</td>\n",
              "      <td>-2.429554e+08</td>\n",
              "      <td>3.819750e+07</td>\n",
              "      <td>1.382149e+07</td>\n",
              "      <td>3.570000e+05</td>\n",
              "      <td>2.975492e+07</td>\n",
              "      <td>8.899525e+06</td>\n",
              "      <td>6.493371e+06</td>\n",
              "      <td>2.790000e+04</td>\n",
              "      <td>0.000000e+00</td>\n",
              "      <td>-4658.333333</td>\n",
              "      <td>2.102938e+07</td>\n",
              "      <td>9.490100e+06</td>\n",
              "      <td>1.425438e+08</td>\n",
              "      <td>8.725500e+05</td>\n",
              "      <td>6.254583e+05</td>\n",
              "      <td>2.024217e+07</td>\n",
              "      <td>7.694833e+05</td>\n",
              "      <td>1.322642e+06</td>\n",
              "      <td>-3.437667e+05</td>\n",
              "      <td>-176716.666667</td>\n",
              "      <td>1.284572e+08</td>\n",
              "      <td>5.135242e+06</td>\n",
              "    </tr>\n",
              "    <tr>\n",
              "      <th>Small</th>\n",
              "      <td>2342.640777</td>\n",
              "      <td>4.553398</td>\n",
              "      <td>5.773031e+07</td>\n",
              "      <td>3.286111e+07</td>\n",
              "      <td>8.210388e+05</td>\n",
              "      <td>0.000000e+00</td>\n",
              "      <td>0.000000e+00</td>\n",
              "      <td>1.644315e+07</td>\n",
              "      <td>8.830680e+07</td>\n",
              "      <td>0.000000</td>\n",
              "      <td>4.893883e+05</td>\n",
              "      <td>7.669903e+02</td>\n",
              "      <td>-5.816470e+07</td>\n",
              "      <td>3.212408e+06</td>\n",
              "      <td>3.849553e+06</td>\n",
              "      <td>9.987379e+04</td>\n",
              "      <td>6.398058e+03</td>\n",
              "      <td>2.324369e+06</td>\n",
              "      <td>1.713592e+03</td>\n",
              "      <td>7.252427e+03</td>\n",
              "      <td>0.000000e+00</td>\n",
              "      <td>0.000000</td>\n",
              "      <td>1.002447e+06</td>\n",
              "      <td>6.280893e+06</td>\n",
              "      <td>2.983639e+08</td>\n",
              "      <td>1.433068e+06</td>\n",
              "      <td>8.368932e+03</td>\n",
              "      <td>4.781806e+06</td>\n",
              "      <td>1.461942e+05</td>\n",
              "      <td>2.334660e+05</td>\n",
              "      <td>0.000000e+00</td>\n",
              "      <td>0.000000</td>\n",
              "      <td>7.329572e+07</td>\n",
              "      <td>3.699282e+06</td>\n",
              "    </tr>\n",
              "  </tbody>\n",
              "</table>\n",
              "</div>"
            ],
            "text/plain": [
              "                                          id  ...  Управленческие расходы\n",
              "default_status organizationType               ...                        \n",
              "0              Large             2130.706487  ...            3.476119e+07\n",
              "               Small             2230.459775  ...            7.417983e+06\n",
              "1              Large             2151.500000  ...            5.135242e+06\n",
              "               Small             2342.640777  ...            3.699282e+06\n",
              "\n",
              "[4 rows x 34 columns]"
            ]
          },
          "metadata": {
            "tags": []
          },
          "execution_count": 253
        }
      ]
    },
    {
      "cell_type": "markdown",
      "metadata": {
        "id": "bsQrGGpH_Ibd"
      },
      "source": [
        "The share of default states in the sample is very low and amounts to 223, i.e. 5.69% of the total number of observations. There were 2 peaks: the first in 2018 and the second in 2020, most likely due to a pandemic. At all times, construction firms have the highest default, but it should also be taken into account that this is the most widely represented area - about 40% of the total number of companies. Most often, wholesale companies that are dealing with food products, household goods, and non-specialized trade go bankrupt.\n",
        "\n",
        "The final dataset consists primarily of a financial block. The remaining gaps were replaced with zeros, since the data is unknown and after highly correlated indicators were dropped, in final 38 features remained.\n",
        "\n",
        "If there were more time, then it would be possible to analyze the dynamics of financial indicators from year to year and the time series, as well as study the companies principal activities."
      ]
    },
    {
      "cell_type": "markdown",
      "metadata": {
        "id": "uirJZkQ3SEH2"
      },
      "source": [
        "# Part 2 ‐ Experiment and metrics design\n",
        "\n"
      ]
    },
    {
      "cell_type": "markdown",
      "metadata": {
        "id": "Mn9Qs1Z_5rgB"
      },
      "source": [
        "## 2.1. Train datasets"
      ]
    },
    {
      "cell_type": "markdown",
      "metadata": {
        "id": "ASObNoD65yq1"
      },
      "source": [
        "The good news is a corporate default is a rare event, but also our classification problem turns out to be very imbalanced: around 5.7% of the firms were in a default state.\n",
        "\n",
        "To overcome this problem, we will consider two cases:\n",
        "- first, we use the entire dataset. For some algorithms, were applicable, with a hyperparameter \"class weight\" set up as \"balanced\";\n",
        "- second, we will also create a balanced dataset by over-sampling the minority class namely using Synthetic Minority Over-sampling Technique (SMOTE) algorithm developed by Chawla et al. (2002).\n",
        "\n",
        "We are not taking into account a way of creating balanced dataset in which we are selecting all the firms that defaulted and an equal number of random firms that did not default or downsampling since the size of the dataset would be very small and insufficient to fit the models."
      ]
    },
    {
      "cell_type": "markdown",
      "metadata": {
        "id": "53UPURrx47Nn"
      },
      "source": [
        "## 2.2. Metric for models"
      ]
    },
    {
      "cell_type": "markdown",
      "metadata": {
        "id": "8jbOahIE595X"
      },
      "source": [
        "The AUC-ROC curve will be used as the quality metric.\n",
        "\n",
        "To analyze, in a robust way, the results obtained with this indicator, we specify the risks associated with it. \n",
        "For example, when a bank provides a loan to an enterprise, it faces two types of errors: \n",
        "- to refuse a loan to a company whose probability of default is much lower than the one obtained with the model (Type I error);\n",
        "- to agree to provide a loan to a company whose probability of default is much higher than the value obtained with the selected model (Type II error). \n",
        "\n",
        "Thus, as soon as the AUC-ROC value increases and get closer to the 1, it means that we have less chance to make this kind of mistakes."
      ]
    },
    {
      "cell_type": "markdown",
      "metadata": {
        "id": "FKV3P6kbSEKf"
      },
      "source": [
        "# Part 3 ‐ Predictive modeling"
      ]
    },
    {
      "cell_type": "markdown",
      "metadata": {
        "id": "kdvdH0BSol3c"
      },
      "source": [
        "## 3.1. Data preparation"
      ]
    },
    {
      "cell_type": "markdown",
      "metadata": {
        "id": "Jzh_vwIGs-oU"
      },
      "source": [
        "### 3.1.1. Creating dummy variables"
      ]
    },
    {
      "cell_type": "code",
      "metadata": {
        "id": "8oC-WLFUtWp3"
      },
      "source": [
        "df_full = df_full.drop(['id'], axis=1)"
      ],
      "execution_count": 254,
      "outputs": []
    },
    {
      "cell_type": "code",
      "metadata": {
        "id": "wLa2OfJEP-0X"
      },
      "source": [
        "df_full.rename(columns={'Финансовые вложения (за исключением денежных эквивалентов)':'Финансовые вложения',\n",
        "                         'Результат от переоценки внеоборотных активов, не включаемый в чистую прибыль (убыток)':'Результат от переоценки внеоборотных активов',\n",
        "                         'Результат от прочих операций, не включаемый в чистую прибыль (убыток) периода':'Результат от прочих операций'},\n",
        "                         inplace=True)"
      ],
      "execution_count": 255,
      "outputs": []
    },
    {
      "cell_type": "code",
      "metadata": {
        "id": "v6kdJkPwqxC2"
      },
      "source": [
        "cat_cols=['organizationType', 'num_of_forms']\n",
        "\n",
        "for col in cat_cols:\n",
        "    cat_list='col'+'_'+col\n",
        "    cat_list = pd.get_dummies(df_full[col], prefix=col)\n",
        "    df_full_1 = df_full.join(cat_list)\n",
        "    df_full = df_full_1"
      ],
      "execution_count": 256,
      "outputs": []
    },
    {
      "cell_type": "code",
      "metadata": {
        "id": "oCD4R0rGtmxA",
        "colab": {
          "base_uri": "https://localhost:8080/"
        },
        "outputId": "ae462278-1f35-4b25-da8b-a48445757132"
      },
      "source": [
        "cat_cols=['organizationType', 'num_of_forms']\n",
        "\n",
        "df_full_cols = df_full.columns.values.tolist()\n",
        "to_keep = [i for i in df_full_cols if i not in cat_cols]\n",
        "df_final = df_full[to_keep]\n",
        "df_final.columns.values"
      ],
      "execution_count": 257,
      "outputs": [
        {
          "output_type": "execute_result",
          "data": {
            "text/plain": [
              "array(['default_status', 'Баланс', 'Дебиторская задолженность',\n",
              "       'Добавочный капитал (без переоценки)',\n",
              "       'Доходные вложения в материальные ценности',\n",
              "       'Доходы будущих периодов', 'Запасы', 'Кредиторская задолженность',\n",
              "       'Материальные поисковые активы', 'НДС по приобретенным ценностям',\n",
              "       'Нематериальные активы',\n",
              "       'Нераспределенная прибыль (непокрытый убыток)',\n",
              "       'Основные средства', 'Оценочные обязательства',\n",
              "       'Переоценка внеоборотных активов', 'Прочие внеоборотные активы',\n",
              "       'Прочие оборотные активы', 'Прочие обязательства',\n",
              "       'Резервный капитал', 'Результаты исследований и разработок',\n",
              "       'Собственные акции, выкупленные у акционеров', 'Уставный капитал',\n",
              "       'Финансовые вложения', 'Выручка',\n",
              "       'Изменение отложенных налоговых активов',\n",
              "       'Изменение отложенных налоговых обязательств',\n",
              "       'Коммерческие расходы', 'Проценты к получению', 'Прочее',\n",
              "       'Результат от переоценки внеоборотных активов',\n",
              "       'Результат от прочих операций', 'Себестоимость продаж',\n",
              "       'Управленческие расходы', 'organizationType_Large',\n",
              "       'organizationType_Small', 'num_of_forms_1', 'num_of_forms_2',\n",
              "       'num_of_forms_3', 'num_of_forms_4', 'num_of_forms_5',\n",
              "       'num_of_forms_6', 'num_of_forms_7', 'num_of_forms_8'], dtype=object)"
            ]
          },
          "metadata": {
            "tags": []
          },
          "execution_count": 257
        }
      ]
    },
    {
      "cell_type": "markdown",
      "metadata": {
        "id": "jRznvr7otJH8"
      },
      "source": [
        "### 3.1.2. Over-sampling using SMOTE"
      ]
    },
    {
      "cell_type": "code",
      "metadata": {
        "id": "TVdF0N-6tNOm"
      },
      "source": [
        "X = df_final.loc[:, df_final.columns != 'default_status']\n",
        "y = df_final.loc[:, df_final.columns == 'default_status']"
      ],
      "execution_count": 258,
      "outputs": []
    },
    {
      "cell_type": "code",
      "metadata": {
        "id": "xJfu9PghtNLp"
      },
      "source": [
        "os = SMOTE(random_state=42)\n",
        "X_train, X_test, y_train, y_test = train_test_split(X, y, test_size=0.3, random_state=42)\n",
        "X_valid, X_test, y_valid, y_test = train_test_split(X_test, y_test, test_size=0.5, random_state=42)\n",
        "columns = X_train.columns"
      ],
      "execution_count": 259,
      "outputs": []
    },
    {
      "cell_type": "code",
      "metadata": {
        "id": "z1LvXai-uuE9"
      },
      "source": [
        "os_data_X, os_data_y = os.fit_sample(X_train, y_train)\n",
        "os_data_X = pd.DataFrame(data=os_data_X, columns=columns)\n",
        "os_data_y = pd.DataFrame(data=os_data_y, columns=['default_status'])"
      ],
      "execution_count": 260,
      "outputs": []
    },
    {
      "cell_type": "code",
      "metadata": {
        "id": "4UN-j0yOwKDJ",
        "colab": {
          "base_uri": "https://localhost:8080/"
        },
        "outputId": "b3ae4432-8be8-4dfd-c3f6-bdcb0b8d8ed9"
      },
      "source": [
        "print(f'Length of oversampled data is {len(os_data_X)}')\n",
        "\n",
        "print('Number of non default in oversampled data ', len(os_data_y[os_data_y['default_status']==0]))\n",
        "print('Number of default ', len(os_data_y[os_data_y['default_status']==1]))\n",
        "\n",
        "print('Ratio of non default data in oversampled data is ',len(os_data_y[os_data_y['default_status']==0])/len(os_data_X))\n",
        "print('Ratio of default data in oversampled data is ', len(os_data_y[os_data_y['default_status']==1])/len(os_data_X))"
      ],
      "execution_count": 261,
      "outputs": [
        {
          "output_type": "stream",
          "text": [
            "Length of oversampled data is 5198\n",
            "Number of non default in oversampled data  2599\n",
            "Number of default  2599\n",
            "Ratio of non default data in oversampled data is  0.5\n",
            "Ratio of default data in oversampled data is  0.5\n"
          ],
          "name": "stdout"
        }
      ]
    },
    {
      "cell_type": "code",
      "metadata": {
        "colab": {
          "base_uri": "https://localhost:8080/"
        },
        "id": "jEqktkrSoSCq",
        "outputId": "955a00a5-8ddf-490a-d861-1675cd43a0e6"
      },
      "source": [
        "print(X_train.shape, y_train.shape)\n",
        "print(os_data_X.shape, os_data_y.shape)"
      ],
      "execution_count": 262,
      "outputs": [
        {
          "output_type": "stream",
          "text": [
            "(2742, 42) (2742, 1)\n",
            "(5198, 42) (5198, 1)\n"
          ],
          "name": "stdout"
        }
      ]
    },
    {
      "cell_type": "code",
      "metadata": {
        "colab": {
          "base_uri": "https://localhost:8080/",
          "height": 594
        },
        "id": "C468ClJmRAr6",
        "outputId": "6cb5e43c-fab9-4c5a-a356-4611812b4a6b"
      },
      "source": [
        "plt.title(\"Correlation Plot\")\n",
        "sns.heatmap(X_train.corr())\n",
        "fig = plt.gcf()\n",
        "fig.set_size_inches(20,12)\n",
        "plt.show()"
      ],
      "execution_count": 263,
      "outputs": [
        {
          "output_type": "display_data",
          "data": {
            "image/png": "[encoded data removed]",
            "text/plain": [
              "<Figure size 1440x864 with 2 Axes>"
            ]
          },
          "metadata": {
            "tags": []
          }
        }
      ]
    },
    {
      "cell_type": "markdown",
      "metadata": {
        "id": "GM4_xruZs8uE"
      },
      "source": [
        "### 3.1.3. Feature scaling"
      ]
    },
    {
      "cell_type": "code",
      "metadata": {
        "id": "st_EnbSLtQCv"
      },
      "source": [
        "numeric = [col for col in X_train.columns if X_train[col].dtype == 'int64']"
      ],
      "execution_count": 264,
      "outputs": []
    },
    {
      "cell_type": "code",
      "metadata": {
        "id": "rm0ooCUIs8Hh"
      },
      "source": [
        "scaler = StandardScaler()\n",
        "scaler.fit(X_train[numeric])\n",
        "X_train[numeric] = scaler.transform(X_train[numeric])\n",
        "X_valid[numeric] = scaler.transform(X_valid[numeric])\n",
        "X_test[numeric] = scaler.transform(X_test[numeric])\n",
        "os_data_X[numeric] = scaler.transform(os_data_X[numeric])"
      ],
      "execution_count": 265,
      "outputs": []
    },
    {
      "cell_type": "code",
      "metadata": {
        "colab": {
          "base_uri": "https://localhost:8080/"
        },
        "id": "Hdh9J4y4ty48",
        "outputId": "2aec82e3-71ca-421a-cefa-bb63d21d41f7"
      },
      "source": [
        "print(X_train.shape)\n",
        "print(X_valid.shape)\n",
        "print(X_test.shape)\n",
        "print(os_data_X.shape)"
      ],
      "execution_count": 266,
      "outputs": [
        {
          "output_type": "stream",
          "text": [
            "(2742, 42)\n",
            "(588, 42)\n",
            "(588, 42)\n",
            "(5198, 42)\n"
          ],
          "name": "stdout"
        }
      ]
    },
    {
      "cell_type": "markdown",
      "metadata": {
        "id": "kg73RxdRn8LN"
      },
      "source": [
        "## 3.2. Modeling"
      ]
    },
    {
      "cell_type": "markdown",
      "metadata": {
        "id": "7X_-KDVqn8N0"
      },
      "source": [
        "### 3.2.1. Logistic regression"
      ]
    },
    {
      "cell_type": "code",
      "metadata": {
        "id": "1MFkQFsKhc7n",
        "colab": {
          "base_uri": "https://localhost:8080/"
        },
        "outputId": "8e68aaa3-7e34-4c3a-b5d7-8867a5802f9e"
      },
      "source": [
        "lr_start = time.time()\n",
        "\n",
        "lr = LogisticRegression(solver='liblinear')\n",
        "lr.fit(X_train, y_train)\n",
        "y_pred = lr.predict(X_valid)\n",
        "y_pred_proba = lr.predict_proba(X_valid)[:, 1]\n",
        "\n",
        "lr_duration = (time.time() - lr_start) % 60\n",
        "lr_roc_auc = roc_auc_score(y_valid, y_pred_proba)\n",
        "\n",
        "print('Logistic regression')\n",
        "print(f'Time: {lr_duration:.3f} sec')\n",
        "print(f'AUC-ROC: {lr_roc_auc:.3f}')"
      ],
      "execution_count": 267,
      "outputs": [
        {
          "output_type": "stream",
          "text": [
            "Logistic regression\n",
            "Time: 0.040 sec\n",
            "AUC-ROC: 0.849\n"
          ],
          "name": "stdout"
        }
      ]
    },
    {
      "cell_type": "code",
      "metadata": {
        "id": "cZmS8j9m0EXM",
        "colab": {
          "base_uri": "https://localhost:8080/",
          "height": 301
        },
        "outputId": "8bb2d1cf-e2ab-4b21-f01b-41e4b99ba946"
      },
      "source": [
        "plt.figure()\n",
        "fpr, tpr, thresholds = roc_curve(y_valid, y_pred_proba)\n",
        "plt.plot(fpr, tpr, label='Logistic Regression (area = %0.2f)' % lr_roc_auc)\n",
        "plt.plot([0, 1], [0, 1],'r--')\n",
        "plt.xlim([0.0, 1.0])\n",
        "plt.ylim([0.0, 1.05])\n",
        "plt.xlabel('False Positive Rate')\n",
        "plt.ylabel('True Positive Rate')\n",
        "plt.title('Receiver operating characteristic')\n",
        "plt.legend(loc=\"lower right\")\n",
        "plt.show()"
      ],
      "execution_count": 268,
      "outputs": [
        {
          "output_type": "display_data",
          "data": {
            "image/png": "[encoded data removed]",
            "text/plain": [
              "<Figure size 432x288 with 1 Axes>"
            ]
          },
          "metadata": {
            "tags": []
          }
        }
      ]
    },
    {
      "cell_type": "code",
      "metadata": {
        "id": "hcZEYAz61aUt",
        "colab": {
          "base_uri": "https://localhost:8080/"
        },
        "outputId": "cecd1222-d3ec-4e2f-8e98-a62a3314eb5c"
      },
      "source": [
        "lr_smote_start = time.time()\n",
        "\n",
        "lr_smote = LogisticRegression()\n",
        "lr_smote.fit(os_data_X, os_data_y)\n",
        "y_smote_pred = lr_smote.predict(X_valid)\n",
        "y_smote_pred_proba = lr_smote.predict_proba(X_valid)[:, 1]\n",
        "\n",
        "lr_smote_duration = (time.time() - lr_smote_start) % 60\n",
        "lr_smote_roc_auc = roc_auc_score(y_test, y_smote_pred_proba)\n",
        "\n",
        "print('Logistic regression with SMOTE')\n",
        "print(f'Time: {lr_smote_duration:.3f} sec')\n",
        "print(f'AUC-ROC: {lr_smote_roc_auc:.3f}')"
      ],
      "execution_count": 269,
      "outputs": [
        {
          "output_type": "stream",
          "text": [
            "Logistic regression with SMOTE\n",
            "Time: 0.115 sec\n",
            "AUC-ROC: 0.501\n"
          ],
          "name": "stdout"
        }
      ]
    },
    {
      "cell_type": "code",
      "metadata": {
        "id": "Q_Yldcru2Lhh",
        "colab": {
          "base_uri": "https://localhost:8080/",
          "height": 301
        },
        "outputId": "7a2d79d0-aee0-420c-d019-cfd5406893f6"
      },
      "source": [
        "plt.figure()\n",
        "fpr, tpr, thresholds = roc_curve(y_valid, y_smote_pred_proba)\n",
        "plt.plot(fpr, tpr, label='Logistic Regression with SMOTE (area = %0.2f)' % lr_smote_roc_auc)\n",
        "plt.plot([0, 1], [0, 1],'r--')\n",
        "plt.xlim([0.0, 1.0])\n",
        "plt.ylim([0.0, 1.05])\n",
        "plt.xlabel('False Positive Rate')\n",
        "plt.ylabel('True Positive Rate')\n",
        "plt.title('Receiver operating characteristic')\n",
        "plt.legend(loc=\"lower right\")\n",
        "plt.show()"
      ],
      "execution_count": 270,
      "outputs": [
        {
          "output_type": "display_data",
          "data": {
            "image/png": "[encoded data removed]",
            "text/plain": [
              "<Figure size 432x288 with 1 Axes>"
            ]
          },
          "metadata": {
            "tags": []
          }
        }
      ]
    },
    {
      "cell_type": "markdown",
      "metadata": {
        "id": "kHOmTA7h7m4R"
      },
      "source": [
        "### 3.2.2. Random Forest"
      ]
    },
    {
      "cell_type": "code",
      "metadata": {
        "colab": {
          "base_uri": "https://localhost:8080/"
        },
        "id": "IvG3stxiCCcy",
        "outputId": "734bbada-f437-4df0-af20-7d24e3a6a3a1"
      },
      "source": [
        "rf_start = time.time()\n",
        "\n",
        "rf = RandomForestClassifier(random_state=42, class_weight='balanced')\n",
        "rf.fit(X_train, y_train)\n",
        "rf_y_pred = rf.predict(X_valid)\n",
        "rf_y_pred_proba = rf.predict_proba(X_valid)[:, 1]\n",
        "\n",
        "rf_duration = (time.time() - rf_start) % 60\n",
        "rf_roc_auc = roc_auc_score(y_valid, rf_y_pred_proba)\n",
        "\n",
        "print('Random Forest Classifier')\n",
        "print(f'Time: {rf_duration:.3f} sec')\n",
        "print(f'AUC-ROC: {rf_roc_auc:.3f}')"
      ],
      "execution_count": 271,
      "outputs": [
        {
          "output_type": "stream",
          "text": [
            "Random Forest Classifier\n",
            "Time: 0.496 sec\n",
            "AUC-ROC: 0.919\n"
          ],
          "name": "stdout"
        }
      ]
    },
    {
      "cell_type": "code",
      "metadata": {
        "colab": {
          "base_uri": "https://localhost:8080/",
          "height": 301
        },
        "id": "9Z25mAgFCtq_",
        "outputId": "e241098a-933b-4aeb-83f6-728d55060bba"
      },
      "source": [
        "plt.figure()\n",
        "fpr, tpr, thresholds = roc_curve(y_valid, rf_y_pred_proba)\n",
        "plt.plot(fpr, tpr, label='Random Forest (area = %0.2f)' % rf_roc_auc)\n",
        "plt.plot([0, 1], [0, 1],'r--')\n",
        "plt.xlim([0.0, 1.0])\n",
        "plt.ylim([0.0, 1.05])\n",
        "plt.xlabel('False Positive Rate')\n",
        "plt.ylabel('True Positive Rate')\n",
        "plt.title('Receiver operating characteristic')\n",
        "plt.legend(loc=\"lower right\")\n",
        "plt.show()"
      ],
      "execution_count": 272,
      "outputs": [
        {
          "output_type": "display_data",
          "data": {
            "image/png": "[encoded data removed]",
            "text/plain": [
              "<Figure size 432x288 with 1 Axes>"
            ]
          },
          "metadata": {
            "tags": []
          }
        }
      ]
    },
    {
      "cell_type": "code",
      "metadata": {
        "colab": {
          "base_uri": "https://localhost:8080/"
        },
        "id": "rX6N-9fBUknP",
        "outputId": "9207375b-e1b4-43cc-be4c-08a55abc6fc9"
      },
      "source": [
        "model = RandomForestClassifier(random_state=42, class_weight='balanced')\n",
        "\n",
        "parameters = {'n_estimators': [20, 40, 80, 200, 300], \n",
        "              'max_depth': [2, 4, 6, 8]}\n",
        "              \n",
        "gcv = GridSearchCV(model, parameters, cv=3)\n",
        "gcv.fit(X_train, y_train)\n",
        "print(f'Best hyperparameters: {gcv.best_params_}')"
      ],
      "execution_count": 273,
      "outputs": [
        {
          "output_type": "stream",
          "text": [
            "Best hyperparameters: {'max_depth': 8, 'n_estimators': 40}\n"
          ],
          "name": "stdout"
        }
      ]
    },
    {
      "cell_type": "code",
      "metadata": {
        "colab": {
          "base_uri": "https://localhost:8080/"
        },
        "id": "kG1j9bhhTsAz",
        "outputId": "03191bff-171e-4360-9ff1-01fe0a0c5985"
      },
      "source": [
        "rf_start = time.time()\n",
        "\n",
        "rf = RandomForestClassifier(n_estimators=300, max_depth=8,\n",
        "                            random_state=42, class_weight='balanced')\n",
        "rf.fit(X_train, y_train)\n",
        "rf_y_pred = rf.predict(X_valid)\n",
        "rf_y_pred_proba = rf.predict_proba(X_valid)[:, 1]\n",
        "\n",
        "rf_duration = (time.time() - rf_start) % 60\n",
        "rf_roc_auc = roc_auc_score(y_valid, rf_y_pred_proba)\n",
        "\n",
        "print('Random Forest Classifier')\n",
        "print(f'Time: {rf_duration:.3f} sec')\n",
        "print(f'Roc_auc: {rf_roc_auc:.3f}')"
      ],
      "execution_count": 274,
      "outputs": [
        {
          "output_type": "stream",
          "text": [
            "Random Forest Classifier\n",
            "Time: 1.274 sec\n",
            "Roc_auc: 0.910\n"
          ],
          "name": "stdout"
        }
      ]
    },
    {
      "cell_type": "code",
      "metadata": {
        "colab": {
          "base_uri": "https://localhost:8080/",
          "height": 284
        },
        "id": "vzIiQQXTVlgG",
        "outputId": "cbded18e-b9ad-434b-d8a1-62e460600b5b"
      },
      "source": [
        "feature_importance = pd.Series(rf.feature_importances_, index=X_train.columns)\n",
        "plt.title('Feature importance')\n",
        "z = feature_importance.nlargest(9).plot(kind='barh')"
      ],
      "execution_count": 275,
      "outputs": [
        {
          "output_type": "display_data",
          "data": {
            "image/png": "[encoded data removed]",
            "text/plain": [
              "<Figure size 432x288 with 1 Axes>"
            ]
          },
          "metadata": {
            "tags": []
          }
        }
      ]
    },
    {
      "cell_type": "markdown",
      "metadata": {
        "id": "FVrz4PJC7m1Q"
      },
      "source": [
        "### 3.2.3. LightGBM"
      ]
    },
    {
      "cell_type": "code",
      "metadata": {
        "id": "5Kz0omZaLrMc",
        "colab": {
          "base_uri": "https://localhost:8080/"
        },
        "outputId": "91413d1b-83a4-4baa-84e3-cb0aab3b5433"
      },
      "source": [
        "lgbm_start = time.time()\n",
        "\n",
        "lgbm = LGBMClassifier()\n",
        "lgbm.fit(X_train, y_train)\n",
        "lgbm_y_pred = lgbm.predict(X_valid)\n",
        "lgbm_y_pred_proba = lgbm.predict_proba(X_valid)[:, 1]\n",
        "\n",
        "lgbm_duration = (time.time() - lgbm_start) % 60\n",
        "lgbm_roc_auc = roc_auc_score(y_valid, lgbm_y_pred_proba)\n",
        "\n",
        "print('LightGBM Classifier')\n",
        "print(f'Time: {lgbm_duration:.3f} sec')\n",
        "print(f'AUC-ROC: {lgbm_roc_auc:.3f}')"
      ],
      "execution_count": 276,
      "outputs": [
        {
          "output_type": "stream",
          "text": [
            "LightGBM Classifier\n",
            "Time: 0.506 sec\n",
            "AUC-ROC: 0.877\n"
          ],
          "name": "stdout"
        }
      ]
    },
    {
      "cell_type": "code",
      "metadata": {
        "colab": {
          "base_uri": "https://localhost:8080/",
          "height": 301
        },
        "id": "cyk5eElaDUnL",
        "outputId": "62cc46b5-4b6c-4f8f-e465-3df1ee818fb3"
      },
      "source": [
        "plt.figure()\n",
        "fpr, tpr, thresholds = roc_curve(y_valid, lgbm_y_pred_proba)\n",
        "plt.plot(fpr, tpr, label='LightGBM (area = %0.2f)' % lgbm_roc_auc)\n",
        "plt.plot([0, 1], [0, 1],'r--')\n",
        "plt.xlim([0.0, 1.0])\n",
        "plt.ylim([0.0, 1.05])\n",
        "plt.xlabel('False Positive Rate')\n",
        "plt.ylabel('True Positive Rate')\n",
        "plt.title('Receiver operating characteristic')\n",
        "plt.legend(loc=\"lower right\")\n",
        "plt.show()"
      ],
      "execution_count": 277,
      "outputs": [
        {
          "output_type": "display_data",
          "data": {
            "image/png": "[encoded data removed]",
            "text/plain": [
              "<Figure size 432x288 with 1 Axes>"
            ]
          },
          "metadata": {
            "tags": []
          }
        }
      ]
    },
    {
      "cell_type": "markdown",
      "metadata": {
        "id": "n-BK-NAr7myZ"
      },
      "source": [
        "### 3.2.4. XGBoost"
      ]
    },
    {
      "cell_type": "code",
      "metadata": {
        "colab": {
          "base_uri": "https://localhost:8080/"
        },
        "id": "eoTPdmGTD4Sh",
        "outputId": "d9e99ebf-2c72-4061-8ec8-2cf32a5eaf27"
      },
      "source": [
        "xgb_start = time.time()\n",
        "\n",
        "xgb = XGBClassifier()\n",
        "xgb.fit(X_train, y_train)\n",
        "xgb_y_pred = xgb.predict(X_valid)\n",
        "xgb_y_pred_proba = xgb.predict_proba(X_valid)[:, 1]\n",
        "\n",
        "xgb_duration = (time.time() - xgb_start) % 60\n",
        "xgb_roc_auc = roc_auc_score(y_valid, xgb_y_pred_proba)\n",
        "\n",
        "print('XGBoost Classifier')\n",
        "print(f'Time: {xgb_duration:.3f} sec')\n",
        "print(f'AUC-ROC: {xgb_roc_auc:.3f}')"
      ],
      "execution_count": 278,
      "outputs": [
        {
          "output_type": "stream",
          "text": [
            "XGBoost Classifier\n",
            "Time: 0.443 sec\n",
            "AUC-ROC: 0.916\n"
          ],
          "name": "stdout"
        }
      ]
    },
    {
      "cell_type": "code",
      "metadata": {
        "colab": {
          "base_uri": "https://localhost:8080/",
          "height": 301
        },
        "id": "43hl_E29EOAz",
        "outputId": "94816de7-48ea-489c-d3c9-dd4953f32f36"
      },
      "source": [
        "plt.figure()\n",
        "fpr, tpr, thresholds = roc_curve(y_valid, xgb_y_pred_proba)\n",
        "plt.plot(fpr, tpr, label='XGBoost (area = %0.2f)' % xgb_roc_auc)\n",
        "plt.plot([0, 1], [0, 1],'r--')\n",
        "plt.xlim([0.0, 1.0])\n",
        "plt.ylim([0.0, 1.05])\n",
        "plt.xlabel('False Positive Rate')\n",
        "plt.ylabel('True Positive Rate')\n",
        "plt.title('Receiver operating characteristic')\n",
        "plt.legend(loc=\"lower right\")\n",
        "plt.show()"
      ],
      "execution_count": 279,
      "outputs": [
        {
          "output_type": "display_data",
          "data": {
            "image/png": "[encoded data removed]",
            "text/plain": [
              "<Figure size 432x288 with 1 Axes>"
            ]
          },
          "metadata": {
            "tags": []
          }
        }
      ]
    },
    {
      "cell_type": "markdown",
      "metadata": {
        "id": "yDTtWh5K8oaY"
      },
      "source": [
        "## 3.3. Analysis of results"
      ]
    },
    {
      "cell_type": "code",
      "metadata": {
        "id": "kep5SAaYMKEu"
      },
      "source": [
        "results = pd.DataFrame([['Logistic regression', lr_roc_auc, lr_duration], \n",
        "                        ['Logistic regression SMOTE', lr_smote_roc_auc, lr_smote_duration],\n",
        "                        ['Random Forest', rf_roc_auc, rf_duration], \n",
        "                        ['LightGBM', lgbm_roc_auc, lgbm_duration],\n",
        "                        ['XGBoost', xgb_roc_auc, xgb_duration]], \n",
        "                        columns=['Model', 'Roc-auc', 'Time'])"
      ],
      "execution_count": 280,
      "outputs": []
    },
    {
      "cell_type": "code",
      "metadata": {
        "id": "n1834n_JPNi1",
        "colab": {
          "base_uri": "https://localhost:8080/",
          "height": 204
        },
        "outputId": "75d44b76-f4e1-4f8b-fce4-adbf55243f12"
      },
      "source": [
        "results_sorted = results.sort_values(['Roc-auc'], ascending=False)\n",
        "results_sorted"
      ],
      "execution_count": 281,
      "outputs": [
        {
          "output_type": "execute_result",
          "data": {
            "text/html": [
              "<div>\n",
              "<style scoped>\n",
              "    .dataframe tbody tr th:only-of-type {\n",
              "        vertical-align: middle;\n",
              "    }\n",
              "\n",
              "    .dataframe tbody tr th {\n",
              "        vertical-align: top;\n",
              "    }\n",
              "\n",
              "    .dataframe thead th {\n",
              "        text-align: right;\n",
              "    }\n",
              "</style>\n",
              "<table border=\"1\" class=\"dataframe\">\n",
              "  <thead>\n",
              "    <tr style=\"text-align: right;\">\n",
              "      <th></th>\n",
              "      <th>Model</th>\n",
              "      <th>Roc-auc</th>\n",
              "      <th>Time</th>\n",
              "    </tr>\n",
              "  </thead>\n",
              "  <tbody>\n",
              "    <tr>\n",
              "      <th>4</th>\n",
              "      <td>XGBoost</td>\n",
              "      <td>0.916063</td>\n",
              "      <td>0.443292</td>\n",
              "    </tr>\n",
              "    <tr>\n",
              "      <th>2</th>\n",
              "      <td>Random Forest</td>\n",
              "      <td>0.910074</td>\n",
              "      <td>1.273890</td>\n",
              "    </tr>\n",
              "    <tr>\n",
              "      <th>3</th>\n",
              "      <td>LightGBM</td>\n",
              "      <td>0.876912</td>\n",
              "      <td>0.505707</td>\n",
              "    </tr>\n",
              "    <tr>\n",
              "      <th>0</th>\n",
              "      <td>Logistic regression</td>\n",
              "      <td>0.848833</td>\n",
              "      <td>0.039908</td>\n",
              "    </tr>\n",
              "    <tr>\n",
              "      <th>1</th>\n",
              "      <td>Logistic regression SMOTE</td>\n",
              "      <td>0.500836</td>\n",
              "      <td>0.115463</td>\n",
              "    </tr>\n",
              "  </tbody>\n",
              "</table>\n",
              "</div>"
            ],
            "text/plain": [
              "                       Model   Roc-auc      Time\n",
              "4                    XGBoost  0.916063  0.443292\n",
              "2              Random Forest  0.910074  1.273890\n",
              "3                   LightGBM  0.876912  0.505707\n",
              "0        Logistic regression  0.848833  0.039908\n",
              "1  Logistic regression SMOTE  0.500836  0.115463"
            ]
          },
          "metadata": {
            "tags": []
          },
          "execution_count": 281
        }
      ]
    },
    {
      "cell_type": "code",
      "metadata": {
        "id": "rMuIfusZPXs6",
        "colab": {
          "base_uri": "https://localhost:8080/",
          "height": 312
        },
        "outputId": "26fba71f-d867-4e22-b928-1e0c36f84d06"
      },
      "source": [
        "results_plot = pd.melt(results_sorted , id_vars='Model').rename(columns={'variable':'Indicators', 'value':'Results'})\n",
        "fig, ax1 = plt.subplots(figsize=(15, 5))\n",
        "sns.barplot(x='Model' , y='Results', hue='Indicators', data=results_plot, ax=ax1)\n",
        "plt.title('Comparison of models')\n",
        "sns.despine(fig)"
      ],
      "execution_count": 282,
      "outputs": [
        {
          "output_type": "display_data",
          "data": {
            "image/png": "[encoded data removed]",
            "text/plain": [
              "<Figure size 1080x360 with 1 Axes>"
            ]
          },
          "metadata": {
            "tags": []
          }
        }
      ]
    },
    {
      "cell_type": "code",
      "metadata": {
        "colab": {
          "base_uri": "https://localhost:8080/"
        },
        "id": "9EP3vvayGmu3",
        "outputId": "6c877550-25a1-4d0d-eb86-e97b03ab1b4a"
      },
      "source": [
        "# final check\n",
        "xgb = XGBClassifier()\n",
        "xgb.fit(X_train, y_train)\n",
        "xgb_y_pred = xgb.predict(X_test)\n",
        "xgb_y_pred_proba = xgb.predict_proba(X_test)[:, 1]\n",
        "xgb_roc_auc = roc_auc_score(y_test, xgb_y_pred_proba)\n",
        "\n",
        "print('XGBoost Classifier')\n",
        "print(f'AUC-ROC on test set: {xgb_roc_auc:.3f}')"
      ],
      "execution_count": 283,
      "outputs": [
        {
          "output_type": "stream",
          "text": [
            "XGBoost Classifier\n",
            "AUC-ROC on test set: 0.893\n"
          ],
          "name": "stdout"
        }
      ]
    },
    {
      "cell_type": "markdown",
      "metadata": {
        "id": "z-R1dru687pU"
      },
      "source": [
        "# Conclusion"
      ]
    },
    {
      "cell_type": "markdown",
      "metadata": {
        "id": "80AmEa8OF256"
      },
      "source": [
        "In this work we used a dataset that includes financial indicators for 3,918 firms for the years 2002-19 to predict the default of companies, using machine learning techniques.\n",
        "\n",
        "In total, 4 models were fitted and trained namely: Logistic Regression, Random Forest, LightGBM, and XGBoost. They were analyzed according to 2 criteria: the AUC-ROC curve and execution time.\n",
        "\n",
        "The fastest one (no wonder) is the Logistic regression model, while the most accurate turns out to be XGBoost. At the same time, the training time for the current volume of data is decent.\n",
        "\n",
        "Based on this, we define the XGBoost as the best model with the winning time&quality ratio."
      ]
    },
    {
      "cell_type": "code",
      "metadata": {
        "id": "hlLGEvupJp_F"
      },
      "source": [
        ""
      ],
      "execution_count": null,
      "outputs": []
    }
  ]
}